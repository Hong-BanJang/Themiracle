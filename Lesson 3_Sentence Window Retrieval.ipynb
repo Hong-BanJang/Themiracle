{
 "cells": [
  {
   "cell_type": "markdown",
   "id": "21f9146a-c6f3-4a78-b3fb-0d262492e87c",
   "metadata": {},
   "source": [
    "# Lesson 3: Sentence Window Retrieval"
   ]
  },
  {
   "cell_type": "code",
   "execution_count": 1,
   "id": "541cadae-916c-42da-93ff-75d7f788ee8d",
   "metadata": {
    "height": 47
   },
   "outputs": [],
   "source": [
    "import warnings\n",
    "warnings.filterwarnings('ignore')"
   ]
  },
  {
   "cell_type": "code",
   "execution_count": 2,
   "id": "78f48098-16d8-4209-b722-1ec6a0220c96",
   "metadata": {
    "height": 98
   },
   "outputs": [],
   "source": [
    "import utils\n",
    "\n",
    "import os\n",
    "import openai\n",
    "openai.api_key = utils.get_openai_api_key()"
   ]
  },
  {
   "cell_type": "code",
   "execution_count": 3,
   "id": "9ee55360-1fc4-41cc-bd49-82027797ea40",
   "metadata": {
    "height": 115,
    "tags": []
   },
   "outputs": [],
   "source": [
    "from llama_index import SimpleDirectoryReader\n",
    "\n",
    "documents = SimpleDirectoryReader(\n",
    "    input_files=[\"./eBook-How-to-Build-a-Career-in-AI.pdf\"]\n",
    ").load_data()"
   ]
  },
  {
   "cell_type": "code",
   "execution_count": 4,
   "id": "a12ada81-5c1c-47c9-b7b4-ba621a80bbcd",
   "metadata": {
    "height": 81,
    "tags": []
   },
   "outputs": [
    {
     "name": "stdout",
     "output_type": "stream",
     "text": [
      "<class 'list'> \n",
      "\n",
      "41 \n",
      "\n",
      "<class 'llama_index.schema.Document'>\n",
      "Doc ID: 15592bd8-d81b-4f36-9db6-be0f3d8bb4e8\n",
      "Text: PAGE 1Founder, DeepLearning.AICollected Insights from Andrew Ng\n",
      "How to  Build Your Career in AIA Simple Guide\n"
     ]
    }
   ],
   "source": [
    "print(type(documents), \"\\n\")\n",
    "print(len(documents), \"\\n\")\n",
    "print(type(documents[0]))\n",
    "print(documents[0])"
   ]
  },
  {
   "cell_type": "code",
   "execution_count": 5,
   "id": "f2f662e4-3fb8-40c6-acc5-e8510348d113",
   "metadata": {
    "height": 81,
    "tags": []
   },
   "outputs": [],
   "source": [
    "from llama_index import Document\n",
    "\n",
    "document = Document(text=\"\\n\\n\".join([doc.text for doc in documents]))"
   ]
  },
  {
   "cell_type": "markdown",
   "id": "46ff01ea-b5b0-4e65-8565-b2444812bd84",
   "metadata": {},
   "source": [
    "## Window-sentence retrieval setup"
   ]
  },
  {
   "cell_type": "code",
   "execution_count": 6,
   "id": "6a194b93-f975-4d38-babe-218d3aae6117",
   "metadata": {
    "height": 166,
    "tags": []
   },
   "outputs": [],
   "source": [
    "from llama_index.node_parser import SentenceWindowNodeParser\n",
    "\n",
    "# create the sentence window node parser w/ default settings\n",
    "node_parser = SentenceWindowNodeParser.from_defaults(\n",
    "    window_size=3,\n",
    "    window_metadata_key=\"window\",\n",
    "    original_text_metadata_key=\"original_text\",\n",
    ")"
   ]
  },
  {
   "cell_type": "code",
   "execution_count": 7,
   "id": "88973de6-be8f-4653-aca3-8d0e884d9470",
   "metadata": {
    "height": 81,
    "tags": []
   },
   "outputs": [],
   "source": [
    "text = \"hello. how are you? I am fine!  \"\n",
    "\n",
    "nodes = node_parser.get_nodes_from_documents([Document(text=text)])"
   ]
  },
  {
   "cell_type": "code",
   "execution_count": 8,
   "id": "860e40a8-6f50-4345-b314-c4d9349681c6",
   "metadata": {
    "height": 30,
    "tags": []
   },
   "outputs": [
    {
     "name": "stdout",
     "output_type": "stream",
     "text": [
      "['hello. ', 'how are you? ', 'I am fine!  ']\n"
     ]
    }
   ],
   "source": [
    "print([x.text for x in nodes])"
   ]
  },
  {
   "cell_type": "code",
   "execution_count": 9,
   "id": "b4334e02-c423-4555-8446-4794eadccd0a",
   "metadata": {
    "height": 30,
    "tags": []
   },
   "outputs": [
    {
     "name": "stdout",
     "output_type": "stream",
     "text": [
      "hello.  how are you?  I am fine!  \n"
     ]
    }
   ],
   "source": [
    "print(nodes[1].metadata[\"window\"])"
   ]
  },
  {
   "cell_type": "code",
   "execution_count": 10,
   "id": "03fea59c-ed0f-4cc8-87b4-871798edb094",
   "metadata": {
    "height": 81,
    "tags": []
   },
   "outputs": [],
   "source": [
    "text = \"hello. foo bar. cat dog. mouse\"\n",
    "\n",
    "nodes = node_parser.get_nodes_from_documents([Document(text=text)])"
   ]
  },
  {
   "cell_type": "code",
   "execution_count": 11,
   "id": "c329808d-248f-422e-bce0-1ac1ecba79a5",
   "metadata": {
    "height": 30,
    "tags": []
   },
   "outputs": [
    {
     "name": "stdout",
     "output_type": "stream",
     "text": [
      "['hello. ', 'foo bar. ', 'cat dog. ', 'mouse']\n"
     ]
    }
   ],
   "source": [
    "print([x.text for x in nodes])"
   ]
  },
  {
   "cell_type": "code",
   "execution_count": 12,
   "id": "cfd1eccb-823d-4f6f-8d6c-a9064dc76922",
   "metadata": {
    "height": 30,
    "tags": []
   },
   "outputs": [
    {
     "name": "stdout",
     "output_type": "stream",
     "text": [
      "hello.  foo bar.  cat dog. \n"
     ]
    }
   ],
   "source": [
    "print(nodes[0].metadata[\"window\"])"
   ]
  },
  {
   "cell_type": "markdown",
   "id": "fea97dda-8457-4f32-a2c7-26ae92eaf0b4",
   "metadata": {},
   "source": [
    "### Building the index"
   ]
  },
  {
   "cell_type": "code",
   "execution_count": 13,
   "id": "bb2387dd-6bdb-4d0d-98ea-2b468ddfe160",
   "metadata": {
    "height": 64,
    "tags": []
   },
   "outputs": [],
   "source": [
    "from llama_index.llms import OpenAI\n",
    "\n",
    "llm = OpenAI(model=\"gpt-3.5-turbo\", temperature=0.1)"
   ]
  },
  {
   "cell_type": "code",
   "execution_count": 14,
   "id": "5102d65b-3584-4a25-88be-7d5dbc70c678",
   "metadata": {
    "height": 149,
    "tags": []
   },
   "outputs": [],
   "source": [
    "from llama_index import ServiceContext\n",
    "\n",
    "sentence_context = ServiceContext.from_defaults(\n",
    "    llm=llm,\n",
    "    embed_model=\"local:BAAI/bge-small-en-v1.5\",\n",
    "    # embed_model=\"local:BAAI/bge-large-en-v1.5\"\n",
    "    node_parser=node_parser,\n",
    ")"
   ]
  },
  {
   "cell_type": "code",
   "execution_count": 15,
   "id": "fbf15398-25e9-47bd-b840-e57272d38683",
   "metadata": {
    "height": 98,
    "tags": []
   },
   "outputs": [],
   "source": [
    "from llama_index import VectorStoreIndex\n",
    "\n",
    "sentence_index = VectorStoreIndex.from_documents(\n",
    "    [document], service_context=sentence_context\n",
    ")"
   ]
  },
  {
   "cell_type": "code",
   "execution_count": 16,
   "id": "55497194-35c9-4f91-85c4-ef6adb1aff78",
   "metadata": {
    "height": 64,
    "tags": []
   },
   "outputs": [],
   "source": [
    "sentence_index.storage_context.persist(persist_dir=\"./sentence_index\")\n"
   ]
  },
  {
   "cell_type": "code",
   "execution_count": 17,
   "id": "ba4e7371-7a8e-451c-a5e7-e9e3d7371614",
   "metadata": {
    "height": 353,
    "tags": []
   },
   "outputs": [],
   "source": [
    "# This block of code is optional to check\n",
    "# if an index file exist, then it will load it\n",
    "# if not, it will rebuild it\n",
    "\n",
    "import os\n",
    "from llama_index import VectorStoreIndex, StorageContext, load_index_from_storage\n",
    "from llama_index import load_index_from_storage\n",
    "\n",
    "if not os.path.exists(\"./sentence_index\"):\n",
    "    sentence_index = VectorStoreIndex.from_documents(\n",
    "        [document], service_context=sentence_context\n",
    "    )\n",
    "\n",
    "    sentence_index.storage_context.persist(persist_dir=\"./sentence_index\")\n",
    "else:\n",
    "    sentence_index = load_index_from_storage(\n",
    "        StorageContext.from_defaults(persist_dir=\"./sentence_index\"),\n",
    "        service_context=sentence_context\n",
    "    )"
   ]
  },
  {
   "cell_type": "markdown",
   "id": "6b934879-e2c3-44f8-b98c-0300dc6389a9",
   "metadata": {},
   "source": [
    "### Building the postprocessor"
   ]
  },
  {
   "cell_type": "code",
   "execution_count": 18,
   "id": "9f22f435-a90a-447c-9e63-8aebec1e968d",
   "metadata": {
    "height": 115,
    "tags": []
   },
   "outputs": [],
   "source": [
    "from llama_index.indices.postprocessor import MetadataReplacementPostProcessor\n",
    "\n",
    "postproc = MetadataReplacementPostProcessor(\n",
    "    target_metadata_key=\"window\"\n",
    ")"
   ]
  },
  {
   "cell_type": "code",
   "execution_count": 19,
   "id": "77fad243-7ea8-4a81-b85e-91c3e638d932",
   "metadata": {
    "height": 115,
    "tags": []
   },
   "outputs": [],
   "source": [
    "from llama_index.schema import NodeWithScore\n",
    "from copy import deepcopy\n",
    "\n",
    "scored_nodes = [NodeWithScore(node=x, score=1.0) for x in nodes]\n",
    "nodes_old = [deepcopy(n) for n in nodes]"
   ]
  },
  {
   "cell_type": "code",
   "execution_count": 20,
   "id": "946c4219-1d6e-4717-8c8f-40db659ea517",
   "metadata": {
    "height": 30,
    "tags": []
   },
   "outputs": [
    {
     "data": {
      "text/plain": [
       "'foo bar. '"
      ]
     },
     "execution_count": 20,
     "metadata": {},
     "output_type": "execute_result"
    }
   ],
   "source": [
    "nodes_old[1].text"
   ]
  },
  {
   "cell_type": "code",
   "execution_count": 21,
   "id": "89900cb4-5d03-43f6-9d1d-de1350bfd299",
   "metadata": {
    "height": 47,
    "tags": []
   },
   "outputs": [],
   "source": [
    "replaced_nodes = postproc.postprocess_nodes(scored_nodes)"
   ]
  },
  {
   "cell_type": "code",
   "execution_count": 22,
   "id": "72f98170-e368-461b-9939-5da80c4940e4",
   "metadata": {
    "height": 30,
    "tags": []
   },
   "outputs": [
    {
     "name": "stdout",
     "output_type": "stream",
     "text": [
      "hello.  foo bar.  cat dog.  mouse\n"
     ]
    }
   ],
   "source": [
    "print(replaced_nodes[1].text)"
   ]
  },
  {
   "cell_type": "markdown",
   "id": "72aa4a50-5c0b-4f23-9eae-ec67cb701e29",
   "metadata": {},
   "source": [
    "### Adding a reranker"
   ]
  },
  {
   "cell_type": "code",
   "execution_count": 23,
   "id": "57608e01-ee96-4619-aab1-81d7fce1cbd1",
   "metadata": {
    "height": 149,
    "tags": []
   },
   "outputs": [],
   "source": [
    "from llama_index.indices.postprocessor import SentenceTransformerRerank\n",
    "\n",
    "# BAAI/bge-reranker-base\n",
    "# link: https://huggingface.co/BAAI/bge-reranker-base\n",
    "rerank = SentenceTransformerRerank(\n",
    "    top_n=2, model=\"BAAI/bge-reranker-base\"\n",
    ")"
   ]
  },
  {
   "cell_type": "code",
   "execution_count": 24,
   "id": "4d89da07-6b0c-477f-bd0a-2f466c9b159b",
   "metadata": {
    "height": 183,
    "tags": []
   },
   "outputs": [],
   "source": [
    "from llama_index import QueryBundle\n",
    "from llama_index.schema import TextNode, NodeWithScore\n",
    "\n",
    "query = QueryBundle(\"I want a dog.\")\n",
    "\n",
    "scored_nodes = [\n",
    "    NodeWithScore(node=TextNode(text=\"This is a cat\"), score=0.6),\n",
    "    NodeWithScore(node=TextNode(text=\"This is a dog\"), score=0.4),\n",
    "]"
   ]
  },
  {
   "cell_type": "code",
   "execution_count": 25,
   "id": "1adc6cb4-e741-480a-ab13-06e9194b13b2",
   "metadata": {
    "height": 64,
    "tags": []
   },
   "outputs": [],
   "source": [
    "reranked_nodes = rerank.postprocess_nodes(\n",
    "    scored_nodes, query_bundle=query\n",
    ")"
   ]
  },
  {
   "cell_type": "code",
   "execution_count": 26,
   "id": "3be841f6-0ab2-4c60-b52f-d27f81fcb1bb",
   "metadata": {
    "height": 30,
    "tags": []
   },
   "outputs": [
    {
     "name": "stdout",
     "output_type": "stream",
     "text": [
      "[('This is a dog', 0.91827404), ('This is a cat', 0.0014040867)]\n"
     ]
    }
   ],
   "source": [
    "print([(x.text, x.score) for x in reranked_nodes])"
   ]
  },
  {
   "cell_type": "markdown",
   "id": "74d51921-4b0b-4d89-963f-9a9e0ea439d9",
   "metadata": {},
   "source": [
    "### Runing the query engine"
   ]
  },
  {
   "cell_type": "code",
   "execution_count": 27,
   "id": "47bfe5a5-5ce1-4baa-ba61-3b39d16a2337",
   "metadata": {
    "height": 81,
    "tags": []
   },
   "outputs": [],
   "source": [
    "sentence_window_engine = sentence_index.as_query_engine(\n",
    "    similarity_top_k=6, node_postprocessors=[postproc, rerank]\n",
    ")"
   ]
  },
  {
   "cell_type": "code",
   "execution_count": 28,
   "id": "c4f166b9-99f9-4507-af59-3347eaf596c6",
   "metadata": {
    "height": 64,
    "tags": []
   },
   "outputs": [],
   "source": [
    "window_response = sentence_window_engine.query(\n",
    "    \"What are the keys to building a career in AI?\"\n",
    ")"
   ]
  },
  {
   "cell_type": "code",
   "execution_count": 29,
   "id": "ada6304b-a86c-4f6c-a2e9-8ac5b1091a58",
   "metadata": {
    "height": 81
   },
   "outputs": [
    {
     "data": {
      "text/markdown": [
       "**`Final Response:`** The keys to building a career in AI are learning foundational technical skills, working on projects, and finding a job, all of which is supported by being part of a community."
      ],
      "text/plain": [
       "<IPython.core.display.Markdown object>"
      ]
     },
     "metadata": {},
     "output_type": "display_data"
    }
   ],
   "source": [
    "from llama_index.response.notebook_utils import display_response\n",
    "\n",
    "display_response(window_response)"
   ]
  },
  {
   "cell_type": "markdown",
   "id": "cbcbe614-befe-4bf7-9813-2c91899650e9",
   "metadata": {},
   "source": [
    "## Putting it all Together"
   ]
  },
  {
   "cell_type": "code",
   "execution_count": 30,
   "id": "313e8b1a-e9e7-4141-a4d2-72fb31a7e057",
   "metadata": {
    "height": 931
   },
   "outputs": [],
   "source": [
    "import os\n",
    "from llama_index import ServiceContext, VectorStoreIndex, StorageContext\n",
    "from llama_index.node_parser import SentenceWindowNodeParser\n",
    "from llama_index.indices.postprocessor import MetadataReplacementPostProcessor\n",
    "from llama_index.indices.postprocessor import SentenceTransformerRerank\n",
    "from llama_index import load_index_from_storage\n",
    "\n",
    "\n",
    "def build_sentence_window_index(\n",
    "    documents,\n",
    "    llm,\n",
    "    embed_model=\"local:BAAI/bge-small-en-v1.5\",\n",
    "    sentence_window_size=3,\n",
    "    save_dir=\"sentence_index\",\n",
    "):\n",
    "    # create the sentence window node parser w/ default settings\n",
    "    node_parser = SentenceWindowNodeParser.from_defaults(\n",
    "        window_size=sentence_window_size,\n",
    "        window_metadata_key=\"window\",\n",
    "        original_text_metadata_key=\"original_text\",\n",
    "    )\n",
    "    sentence_context = ServiceContext.from_defaults(\n",
    "        llm=llm,\n",
    "        embed_model=embed_model,\n",
    "        node_parser=node_parser,\n",
    "    )\n",
    "    if not os.path.exists(save_dir):\n",
    "        sentence_index = VectorStoreIndex.from_documents(\n",
    "            documents, service_context=sentence_context\n",
    "        )\n",
    "        sentence_index.storage_context.persist(persist_dir=save_dir)\n",
    "    else:\n",
    "        sentence_index = load_index_from_storage(\n",
    "            StorageContext.from_defaults(persist_dir=save_dir),\n",
    "            service_context=sentence_context,\n",
    "        )\n",
    "\n",
    "    return sentence_index\n",
    "\n",
    "\n",
    "def get_sentence_window_query_engine(\n",
    "    sentence_index, similarity_top_k=6, rerank_top_n=2\n",
    "):\n",
    "    # define postprocessors\n",
    "    postproc = MetadataReplacementPostProcessor(target_metadata_key=\"window\")\n",
    "    rerank = SentenceTransformerRerank(\n",
    "        top_n=rerank_top_n, model=\"BAAI/bge-reranker-base\"\n",
    "    )\n",
    "\n",
    "    sentence_window_engine = sentence_index.as_query_engine(\n",
    "        similarity_top_k=similarity_top_k, node_postprocessors=[postproc, rerank]\n",
    "    )\n",
    "    return sentence_window_engine"
   ]
  },
  {
   "cell_type": "code",
   "execution_count": 31,
   "id": "3b5bb36f-97f9-4e03-bd4e-3ceb635a868b",
   "metadata": {
    "height": 166
   },
   "outputs": [],
   "source": [
    "from llama_index.llms import OpenAI\n",
    "\n",
    "index = build_sentence_window_index(\n",
    "    [document],\n",
    "    llm=OpenAI(model=\"gpt-3.5-turbo\", temperature=0.1),\n",
    "    save_dir=\"./sentence_index\",\n",
    ")\n"
   ]
  },
  {
   "cell_type": "code",
   "execution_count": 32,
   "id": "8d0e78e0-7765-4037-a5fa-63b711dab5aa",
   "metadata": {
    "height": 64
   },
   "outputs": [],
   "source": [
    "query_engine = get_sentence_window_query_engine(index, similarity_top_k=6)\n"
   ]
  },
  {
   "cell_type": "markdown",
   "id": "eb855430-8fcb-4c25-8d83-a30160449acf",
   "metadata": {},
   "source": [
    "## TruLens Evaluation"
   ]
  },
  {
   "cell_type": "code",
   "execution_count": 33,
   "id": "07aa5320-5c1c-4636-aa72-e6a786a58c8a",
   "metadata": {
    "height": 132
   },
   "outputs": [],
   "source": [
    "eval_questions = []\n",
    "with open('generated_questions.text', 'r') as file:\n",
    "    for line in file:\n",
    "        # Remove newline character and convert to integer\n",
    "        item = line.strip()\n",
    "        eval_questions.append(item)"
   ]
  },
  {
   "cell_type": "code",
   "execution_count": 34,
   "id": "7f9bdeb7-8c37-46b0-80f2-eb8ef1cc7b59",
   "metadata": {
    "height": 132
   },
   "outputs": [],
   "source": [
    "from trulens_eval import Tru\n",
    "\n",
    "def run_evals(eval_questions, tru_recorder, query_engine):\n",
    "    for question in eval_questions:\n",
    "        with tru_recorder as recording:\n",
    "            response = query_engine.query(question)"
   ]
  },
  {
   "cell_type": "code",
   "execution_count": 35,
   "id": "c7818a9b-04cc-4a6e-98ae-d3d0ab309998",
   "metadata": {
    "height": 98
   },
   "outputs": [
    {
     "name": "stdout",
     "output_type": "stream",
     "text": [
      "🦑 Tru initialized with db url sqlite:///default.sqlite .\n",
      "🛑 Secret keys may be written to the database. See the `database_redact_keys` option of `Tru` to prevent this.\n"
     ]
    }
   ],
   "source": [
    "from utils import get_prebuilt_trulens_recorder\n",
    "\n",
    "from trulens_eval import Tru\n",
    "\n",
    "Tru().reset_database()"
   ]
  },
  {
   "cell_type": "markdown",
   "id": "59ef4d27-2c4e-4dd0-85ed-a69a0f8eea00",
   "metadata": {},
   "source": [
    "### Sentence window size = 1"
   ]
  },
  {
   "cell_type": "code",
   "execution_count": 69,
   "id": "93e6c651-838d-4c36-b806-efd0d8c2d5f0",
   "metadata": {
    "height": 149
   },
   "outputs": [],
   "source": [
    "sentence_index_1 = build_sentence_window_index(\n",
    "    documents,\n",
    "    llm=OpenAI(model=\"gpt-3.5-turbo\", temperature=0.1),\n",
    "    embed_model=\"local:BAAI/bge-small-en-v1.5\",\n",
    "    sentence_window_size=1,\n",
    "    save_dir=\"sentence_index_1\",\n",
    ")"
   ]
  },
  {
   "cell_type": "code",
   "execution_count": 70,
   "id": "8dc445f4-0311-4192-ac2e-4ea94b2653e5",
   "metadata": {
    "height": 81
   },
   "outputs": [],
   "source": [
    "sentence_window_engine_1 = get_sentence_window_query_engine(\n",
    "    sentence_index_1\n",
    ")"
   ]
  },
  {
   "cell_type": "code",
   "execution_count": 71,
   "id": "de208f42",
   "metadata": {},
   "outputs": [],
   "source": [
    "# import openai\n",
    "\n",
    "# openai.api_key = \"Your api_key\""
   ]
  },
  {
   "cell_type": "code",
   "execution_count": 72,
   "id": "2750e2b1-ca60-495f-8168-33520740916c",
   "metadata": {
    "height": 81
   },
   "outputs": [
    {
     "name": "stdout",
     "output_type": "stream",
     "text": [
      "✅ In Answer Relevance, input prompt will be set to __record__.main_input or `Select.RecordInput` .\n",
      "✅ In Answer Relevance, input response will be set to __record__.main_output or `Select.RecordOutput` .\n",
      "✅ In Context Relevance, input prompt will be set to __record__.main_input or `Select.RecordInput` .\n",
      "✅ In Context Relevance, input response will be set to __record__.app.query.rets.source_nodes[:].node.text .\n",
      "✅ In Groundedness, input source will be set to __record__.app.query.rets.source_nodes[:].node.text .\n",
      "✅ In Groundedness, input statement will be set to __record__.main_output or `Select.RecordOutput` .\n"
     ]
    }
   ],
   "source": [
    "tru_recorder_1 = get_prebuilt_trulens_recorder(\n",
    "    sentence_window_engine_1,\n",
    "    app_id='sentence window engine 1'\n",
    ")"
   ]
  },
  {
   "cell_type": "code",
   "execution_count": 73,
   "id": "ca942b16-52be-4107-861c-33daeca1f619",
   "metadata": {
    "height": 47
   },
   "outputs": [
    {
     "name": "stderr",
     "output_type": "stream",
     "text": [
      "Callback class OpenAICallback is registered for handling create but there are no endpoints waiting to receive the result.\n",
      "Callback class OpenAICallback is registered for handling create but there are no endpoints waiting to receive the result.\n",
      "Callback class OpenAICallback is registered for handling create but there are no endpoints waiting to receive the result.\n",
      "Callback class OpenAICallback is registered for handling create but there are no endpoints waiting to receive the result.\n",
      "Callback class OpenAICallback is registered for handling create but there are no endpoints waiting to receive the result.\n",
      "Callback class OpenAICallback is registered for handling create but there are no endpoints waiting to receive the result.\n",
      "Callback class OpenAICallback is registered for handling create but there are no endpoints waiting to receive the result.\n",
      "Callback class OpenAICallback is registered for handling create but there are no endpoints waiting to receive the result.\n",
      "Callback class OpenAICallback is registered for handling create but there are no endpoints waiting to receive the result.\n",
      "Callback class OpenAICallback is registered for handling create but there are no endpoints waiting to receive the result.\n",
      "Callback class OpenAICallback is registered for handling create but there are no endpoints waiting to receive the result.\n",
      "Callback class OpenAICallback is registered for handling create but there are no endpoints waiting to receive the result.\n",
      "Callback class OpenAICallback is registered for handling create but there are no endpoints waiting to receive the result.\n",
      "Callback class OpenAICallback is registered for handling create but there are no endpoints waiting to receive the result.\n",
      "Callback class OpenAICallback is registered for handling create but there are no endpoints waiting to receive the result.\n",
      "Callback class OpenAICallback is registered for handling create but there are no endpoints waiting to receive the result.\n",
      "Callback class OpenAICallback is registered for handling create but there are no endpoints waiting to receive the result.\n",
      "Callback class OpenAICallback is registered for handling create but there are no endpoints waiting to receive the result.\n",
      "Callback class OpenAICallback is registered for handling create but there are no endpoints waiting to receive the result.\n",
      "Callback class OpenAICallback is registered for handling create but there are no endpoints waiting to receive the result.\n",
      "Callback class OpenAICallback is registered for handling create but there are no endpoints waiting to receive the result.\n",
      "Callback class OpenAICallback is registered for handling create but there are no endpoints waiting to receive the result.\n",
      "Run of <lambda> in <Thread(TP.submit with debug timeout_2, started 140709499746048)> timed out after 600.0 second(s).\n",
      "/home2/dev/themiraclesoft/anaconda3/lib/python3.11/site-packages/trulens_eval/tru.py:221\n",
      "exception calling callback for <Future at 0x7ff8e01ae3d0 state=finished raised TimeoutError>\n",
      "Traceback (most recent call last):\n",
      "  File \"/home2/dev/themiraclesoft/anaconda3/lib/python3.11/concurrent/futures/_base.py\", line 340, in _invoke_callbacks\n",
      "    callback(self)\n",
      "  File \"/home2/dev/themiraclesoft/anaconda3/lib/python3.11/site-packages/trulens_eval/app.py\", line 951, in _add_future_feedback\n",
      "    _, res = future.result()\n",
      "             ^^^^^^^^^^^^^^^\n",
      "  File \"/home2/dev/themiraclesoft/anaconda3/lib/python3.11/concurrent/futures/_base.py\", line 449, in result\n",
      "    return self.__get_result()\n",
      "           ^^^^^^^^^^^^^^^^^^^\n",
      "  File \"/home2/dev/themiraclesoft/anaconda3/lib/python3.11/concurrent/futures/_base.py\", line 401, in __get_result\n",
      "    raise self._exception\n",
      "  File \"/home2/dev/themiraclesoft/anaconda3/lib/python3.11/concurrent/futures/thread.py\", line 58, in run\n",
      "    result = self.fn(*self.args, **self.kwargs)\n",
      "             ^^^^^^^^^^^^^^^^^^^^^^^^^^^^^^^^^^\n",
      "  File \"/home2/dev/themiraclesoft/anaconda3/lib/python3.11/site-packages/trulens_eval/utils/python.py\", line 228, in _future_target_wrapper\n",
      "    return func(*args, **kwargs)\n",
      "           ^^^^^^^^^^^^^^^^^^^^^\n",
      "  File \"/home2/dev/themiraclesoft/anaconda3/lib/python3.11/site-packages/trulens_eval/utils/threading.py\", line 125, in _run_with_timeout\n",
      "    raise e\n",
      "  File \"/home2/dev/themiraclesoft/anaconda3/lib/python3.11/site-packages/trulens_eval/utils/threading.py\", line 116, in _run_with_timeout\n",
      "    res: T = fut.result(timeout=timeout)\n",
      "             ^^^^^^^^^^^^^^^^^^^^^^^^^^^\n",
      "  File \"/home2/dev/themiraclesoft/anaconda3/lib/python3.11/concurrent/futures/_base.py\", line 458, in result\n",
      "    raise TimeoutError()\n",
      "TimeoutError\n",
      "Callback class OpenAICallback is registered for handling create but there are no endpoints waiting to receive the result.\n",
      "Callback class OpenAICallback is registered for handling create but there are no endpoints waiting to receive the result.\n",
      "Callback class OpenAICallback is registered for handling create but there are no endpoints waiting to receive the result.\n",
      "Callback class OpenAICallback is registered for handling create but there are no endpoints waiting to receive the result.\n",
      "Callback class OpenAICallback is registered for handling create but there are no endpoints waiting to receive the result.\n",
      "Callback class OpenAICallback is registered for handling create but there are no endpoints waiting to receive the result.\n",
      "Callback class OpenAICallback is registered for handling create but there are no endpoints waiting to receive the result.\n",
      "Callback class OpenAICallback is registered for handling create but there are no endpoints waiting to receive the result.\n",
      "Callback class OpenAICallback is registered for handling create but there are no endpoints waiting to receive the result.\n",
      "Callback class OpenAICallback is registered for handling create but there are no endpoints waiting to receive the result.\n",
      "Callback class OpenAICallback is registered for handling create but there are no endpoints waiting to receive the result.\n",
      "Callback class OpenAICallback is registered for handling create but there are no endpoints waiting to receive the result.\n",
      "Callback class OpenAICallback is registered for handling create but there are no endpoints waiting to receive the result.\n",
      "Callback class OpenAICallback is registered for handling create but there are no endpoints waiting to receive the result.\n",
      "Callback class OpenAICallback is registered for handling create but there are no endpoints waiting to receive the result.\n",
      "Callback class OpenAICallback is registered for handling create but there are no endpoints waiting to receive the result.\n",
      "Callback class OpenAICallback is registered for handling create but there are no endpoints waiting to receive the result.\n",
      "Callback class OpenAICallback is registered for handling create but there are no endpoints waiting to receive the result.\n",
      "Callback class OpenAICallback is registered for handling create but there are no endpoints waiting to receive the result.\n",
      "Callback class OpenAICallback is registered for handling create but there are no endpoints waiting to receive the result.\n",
      "Callback class OpenAICallback is registered for handling create but there are no endpoints waiting to receive the result.\n",
      "Callback class OpenAICallback is registered for handling create but there are no endpoints waiting to receive the result.\n",
      "Callback class OpenAICallback is registered for handling create but there are no endpoints waiting to receive the result.\n",
      "Callback class OpenAICallback is registered for handling create but there are no endpoints waiting to receive the result.\n",
      "Callback class OpenAICallback is registered for handling create but there are no endpoints waiting to receive the result.\n",
      "Callback class OpenAICallback is registered for handling create but there are no endpoints waiting to receive the result.\n",
      "Callback class OpenAICallback is registered for handling create but there are no endpoints waiting to receive the result.\n",
      "Callback class OpenAICallback is registered for handling create but there are no endpoints waiting to receive the result.\n",
      "Callback class OpenAICallback is registered for handling create but there are no endpoints waiting to receive the result.\n",
      "Callback class OpenAICallback is registered for handling create but there are no endpoints waiting to receive the result.\n"
     ]
    },
    {
     "name": "stderr",
     "output_type": "stream",
     "text": [
      "Callback class OpenAICallback is registered for handling create but there are no endpoints waiting to receive the result.\n",
      "Callback class OpenAICallback is registered for handling create but there are no endpoints waiting to receive the result.\n",
      "Callback class OpenAICallback is registered for handling create but there are no endpoints waiting to receive the result.\n",
      "Callback class OpenAICallback is registered for handling create but there are no endpoints waiting to receive the result.\n",
      "Callback class OpenAICallback is registered for handling create but there are no endpoints waiting to receive the result.\n",
      "Callback class OpenAICallback is registered for handling create but there are no endpoints waiting to receive the result.\n",
      "Callback class OpenAICallback is registered for handling create but there are no endpoints waiting to receive the result.\n",
      "Callback class OpenAICallback is registered for handling create but there are no endpoints waiting to receive the result.\n",
      "Callback class OpenAICallback is registered for handling create but there are no endpoints waiting to receive the result.\n",
      "Callback class OpenAICallback is registered for handling create but there are no endpoints waiting to receive the result.\n",
      "Callback class OpenAICallback is registered for handling create but there are no endpoints waiting to receive the result.\n",
      "Callback class OpenAICallback is registered for handling create but there are no endpoints waiting to receive the result.\n",
      "Callback class OpenAICallback is registered for handling create but there are no endpoints waiting to receive the result.\n",
      "Callback class OpenAICallback is registered for handling create but there are no endpoints waiting to receive the result.\n",
      "Callback class OpenAICallback is registered for handling create but there are no endpoints waiting to receive the result.\n",
      "Callback class OpenAICallback is registered for handling create but there are no endpoints waiting to receive the result.\n",
      "Callback class OpenAICallback is registered for handling create but there are no endpoints waiting to receive the result.\n",
      "Callback class OpenAICallback is registered for handling create but there are no endpoints waiting to receive the result.\n",
      "Callback class OpenAICallback is registered for handling create but there are no endpoints waiting to receive the result.\n",
      "Callback class OpenAICallback is registered for handling create but there are no endpoints waiting to receive the result.\n",
      "Callback class OpenAICallback is registered for handling create but there are no endpoints waiting to receive the result.\n",
      "Callback class OpenAICallback is registered for handling create but there are no endpoints waiting to receive the result.\n",
      "Callback class OpenAICallback is registered for handling create but there are no endpoints waiting to receive the result.\n",
      "Callback class OpenAICallback is registered for handling create but there are no endpoints waiting to receive the result.\n",
      "Callback class OpenAICallback is registered for handling create but there are no endpoints waiting to receive the result.\n",
      "Callback class OpenAICallback is registered for handling create but there are no endpoints waiting to receive the result.\n",
      "Callback class OpenAICallback is registered for handling create but there are no endpoints waiting to receive the result.\n",
      "Callback class OpenAICallback is registered for handling create but there are no endpoints waiting to receive the result.\n",
      "Callback class OpenAICallback is registered for handling create but there are no endpoints waiting to receive the result.\n",
      "Callback class OpenAICallback is registered for handling create but there are no endpoints waiting to receive the result.\n",
      "Callback class OpenAICallback is registered for handling create but there are no endpoints waiting to receive the result.\n",
      "Callback class OpenAICallback is registered for handling create but there are no endpoints waiting to receive the result.\n",
      "Callback class OpenAICallback is registered for handling create but there are no endpoints waiting to receive the result.\n",
      "Callback class OpenAICallback is registered for handling create but there are no endpoints waiting to receive the result.\n",
      "Callback class OpenAICallback is registered for handling create but there are no endpoints waiting to receive the result.\n",
      "Callback class OpenAICallback is registered for handling create but there are no endpoints waiting to receive the result.\n",
      "Callback class OpenAICallback is registered for handling create but there are no endpoints waiting to receive the result.\n",
      "Callback class OpenAICallback is registered for handling create but there are no endpoints waiting to receive the result.\n",
      "Callback class OpenAICallback is registered for handling create but there are no endpoints waiting to receive the result.\n",
      "Callback class OpenAICallback is registered for handling create but there are no endpoints waiting to receive the result.\n",
      "Callback class OpenAICallback is registered for handling create but there are no endpoints waiting to receive the result.\n",
      "Callback class OpenAICallback is registered for handling create but there are no endpoints waiting to receive the result.\n",
      "Callback class OpenAICallback is registered for handling create but there are no endpoints waiting to receive the result.\n",
      "Callback class OpenAICallback is registered for handling create but there are no endpoints waiting to receive the result.\n",
      "Callback class OpenAICallback is registered for handling create but there are no endpoints waiting to receive the result.\n",
      "Callback class OpenAICallback is registered for handling create but there are no endpoints waiting to receive the result.\n",
      "Callback class OpenAICallback is registered for handling create but there are no endpoints waiting to receive the result.\n",
      "Callback class OpenAICallback is registered for handling create but there are no endpoints waiting to receive the result.\n",
      "Callback class OpenAICallback is registered for handling create but there are no endpoints waiting to receive the result.\n",
      "Callback class OpenAICallback is registered for handling create but there are no endpoints waiting to receive the result.\n",
      "Callback class OpenAICallback is registered for handling create but there are no endpoints waiting to receive the result.\n",
      "Callback class OpenAICallback is registered for handling create but there are no endpoints waiting to receive the result.\n",
      "Callback class OpenAICallback is registered for handling create but there are no endpoints waiting to receive the result.\n",
      "Callback class OpenAICallback is registered for handling create but there are no endpoints waiting to receive the result.\n",
      "Callback class OpenAICallback is registered for handling create but there are no endpoints waiting to receive the result.\n",
      "Callback class OpenAICallback is registered for handling create but there are no endpoints waiting to receive the result.\n",
      "Callback class OpenAICallback is registered for handling create but there are no endpoints waiting to receive the result.\n",
      "Callback class OpenAICallback is registered for handling create but there are no endpoints waiting to receive the result.\n",
      "Callback class OpenAICallback is registered for handling create but there are no endpoints waiting to receive the result.\n",
      "Callback class OpenAICallback is registered for handling create but there are no endpoints waiting to receive the result.\n",
      "Callback class OpenAICallback is registered for handling create but there are no endpoints waiting to receive the result.\n",
      "Callback class OpenAICallback is registered for handling create but there are no endpoints waiting to receive the result.\n",
      "Callback class OpenAICallback is registered for handling create but there are no endpoints waiting to receive the result.\n",
      "Callback class OpenAICallback is registered for handling create but there are no endpoints waiting to receive the result.\n",
      "Callback class OpenAICallback is registered for handling create but there are no endpoints waiting to receive the result.\n",
      "Callback class OpenAICallback is registered for handling create but there are no endpoints waiting to receive the result.\n",
      "Callback class OpenAICallback is registered for handling create but there are no endpoints waiting to receive the result.\n",
      "Callback class OpenAICallback is registered for handling create but there are no endpoints waiting to receive the result.\n"
     ]
    },
    {
     "name": "stderr",
     "output_type": "stream",
     "text": [
      "Callback class OpenAICallback is registered for handling create but there are no endpoints waiting to receive the result.\n",
      "Callback class OpenAICallback is registered for handling create but there are no endpoints waiting to receive the result.\n",
      "Callback class OpenAICallback is registered for handling create but there are no endpoints waiting to receive the result.\n",
      "Callback class OpenAICallback is registered for handling create but there are no endpoints waiting to receive the result.\n",
      "Callback class OpenAICallback is registered for handling create but there are no endpoints waiting to receive the result.\n",
      "Callback class OpenAICallback is registered for handling create but there are no endpoints waiting to receive the result.\n",
      "Callback class OpenAICallback is registered for handling create but there are no endpoints waiting to receive the result.\n",
      "Callback class OpenAICallback is registered for handling create but there are no endpoints waiting to receive the result.\n",
      "Callback class OpenAICallback is registered for handling create but there are no endpoints waiting to receive the result.\n",
      "Callback class OpenAICallback is registered for handling create but there are no endpoints waiting to receive the result.\n",
      "Callback class OpenAICallback is registered for handling create but there are no endpoints waiting to receive the result.\n",
      "Callback class OpenAICallback is registered for handling create but there are no endpoints waiting to receive the result.\n",
      "Callback class OpenAICallback is registered for handling create but there are no endpoints waiting to receive the result.\n",
      "Callback class OpenAICallback is registered for handling create but there are no endpoints waiting to receive the result.\n",
      "Callback class OpenAICallback is registered for handling create but there are no endpoints waiting to receive the result.\n",
      "Callback class OpenAICallback is registered for handling create but there are no endpoints waiting to receive the result.\n",
      "Callback class OpenAICallback is registered for handling create but there are no endpoints waiting to receive the result.\n"
     ]
    }
   ],
   "source": [
    "run_evals(eval_questions, tru_recorder_1, sentence_window_engine_1)"
   ]
  },
  {
   "cell_type": "code",
   "execution_count": 74,
   "id": "55dc7629-7fb7-4801-bd52-c9ab0da50267",
   "metadata": {
    "height": 30
   },
   "outputs": [
    {
     "name": "stdout",
     "output_type": "stream",
     "text": [
      "Starting dashboard ...\n",
      "Config file already exists. Skipping writing process.\n",
      "Credentials file already exists. Skipping writing process.\n",
      "Dashboard already running at path:   Network URL: http://10.10.1.8:8501\n",
      "\n"
     ]
    },
    {
     "data": {
      "text/plain": [
       "<Popen: returncode: None args: ['streamlit', 'run', '--server.headless=True'...>"
      ]
     },
     "execution_count": 74,
     "metadata": {},
     "output_type": "execute_result"
    }
   ],
   "source": [
    "Tru().run_dashboard()"
   ]
  },
  {
   "cell_type": "markdown",
   "id": "40d36ca4-8f52-4510-bfab-aa00b704d179",
   "metadata": {},
   "source": [
    "### Note about the dataset of questions\n",
    "- Since this evaluation process takes a long time to run, the following file `generated_questions.text` contains one question (the one mentioned in the lecture video).\n",
    "- If you would like to explore other possible questions, feel free to explore the file directory by clicking on the \"Jupyter\" logo at the top right of this notebook. You'll see the following `.text` files:\n",
    "\n",
    "> - `generated_questions_01_05.text`\n",
    "> - `generated_questions_06_10.text`\n",
    "> - `generated_questions_11_15.text`\n",
    "> - `generated_questions_16_20.text`\n",
    "> - `generated_questions_21_24.text`\n",
    "\n",
    "Note that running an evaluation on more than one question can take some time, so we recommend choosing one of these files (with 5 questions each) to run and explore the results.\n",
    "\n",
    "- For evaluating a personal project, an eval set of 20 is reasonable.\n",
    "- For evaluating business applications, you may need a set of 100+ in order to cover all the use cases thoroughly.\n",
    "- Note that since API calls can sometimes fail, you may occasionally see null responses, and would want to re-run your evaluations.  So running your evaluations in smaller batches can also help you save time and cost by only re-running the evaluation on the batches with issues."
   ]
  },
  {
   "cell_type": "code",
   "execution_count": 62,
   "id": "6c55e4e1-5f1f-4c50-bd8e-4b54299377da",
   "metadata": {
    "height": 132
   },
   "outputs": [],
   "source": [
    "eval_questions = []\n",
    "with open('generated_questions.text', 'r') as file:\n",
    "    for line in file:\n",
    "        # Remove newline character and convert to integer\n",
    "        item = line.strip()\n",
    "        eval_questions.append(item)"
   ]
  },
  {
   "cell_type": "code",
   "execution_count": 63,
   "id": "cb6c9968",
   "metadata": {},
   "outputs": [],
   "source": [
    "#eval_questions = []\n",
    "with open('generated_questions_01_05.text', 'r') as file:\n",
    "    for line in file:\n",
    "        # Remove newline character and convert to integer\n",
    "        item = line.strip()\n",
    "        eval_questions.append(item)"
   ]
  },
  {
   "cell_type": "code",
   "execution_count": 64,
   "id": "29c2f756",
   "metadata": {},
   "outputs": [],
   "source": [
    "#eval_questions = []\n",
    "with open('generated_questions_06_10.text', 'r') as file:\n",
    "    for line in file:\n",
    "        # Remove newline character and convert to integer\n",
    "        item = line.strip()\n",
    "        eval_questions.append(item)"
   ]
  },
  {
   "cell_type": "code",
   "execution_count": 65,
   "id": "532df4fc",
   "metadata": {},
   "outputs": [],
   "source": [
    "#eval_questions = []\n",
    "with open('generated_questions_11_15.text', 'r') as file:\n",
    "    for line in file:\n",
    "        # Remove newline character and convert to integer\n",
    "        item = line.strip()\n",
    "        eval_questions.append(item)"
   ]
  },
  {
   "cell_type": "code",
   "execution_count": 66,
   "id": "8bae016d",
   "metadata": {},
   "outputs": [],
   "source": [
    "#eval_questions = []\n",
    "with open('generated_questions_21_24.text', 'r') as file:\n",
    "    for line in file:\n",
    "        # Remove newline character and convert to integer\n",
    "        item = line.strip()\n",
    "        eval_questions.append(item)"
   ]
  },
  {
   "cell_type": "code",
   "execution_count": 67,
   "id": "fe5e1962",
   "metadata": {},
   "outputs": [],
   "source": [
    "# eval_questions = []\n",
    "with open('generated_questions_16_20.text', 'r') as file:\n",
    "    for line in file:\n",
    "        # Remove newline character and convert to integer\n",
    "        item = line.strip()\n",
    "        eval_questions.append(item)"
   ]
  },
  {
   "cell_type": "code",
   "execution_count": 68,
   "id": "20e7c8bd",
   "metadata": {},
   "outputs": [
    {
     "data": {
      "text/plain": [
       "['In the context of project selection and execution, explain the difference between the \"Ready, Aim, Fire\" and \"Ready, Fire, Aim\" approaches. Provide examples where each approach might be more beneficial.',\n",
       " 'In the context of job switching, what advantages does working in a startup offer over a big company, particularly for someone looking to transition into an AI role? 한글로 대답해줘',\n",
       " 'Explain the scenario planning exercise mentioned in the context of the Covid-19 pandemic. How can this method be applied to personal life situations such as job hunting or exam preparation? 한글로 대답해줘',\n",
       " 'In the context of project selection and execution, explain the difference between the \"Ready, Aim, Fire\" and \"Ready, Fire, Aim\" approaches. Provide examples where each approach might be more beneficial. 한글로 대답해줘',\n",
       " 'Discuss the importance of working on projects that complement your career goals. How can these projects serve as stepping stones to larger projects and contribute to technical growth and skill progression? 한글로 대답해줘',\n",
       " 'According to the text, what are some of the key areas of mathematics that are relevant to machine learning and why are they important in the field of AI? 한글로 대답해줘',\n",
       " \"The text mentions BJ Fogg's approach to building new habits. How can this approach be applied to the process of learning technical skills for a promising AI career?\",\n",
       " 'What is an informational interview and how can it be beneficial for someone looking to switch roles or industries, particularly in the field of AI?',\n",
       " 'What are some of the steps involved in a typical job search process and how can one increase their odds of finding a position that supports their career growth?',\n",
       " 'According to the text, what are some key elements to consider when preparing for a job interview in the AI field?',\n",
       " 'How does the document suggest you approach the job-search process and what role does your community play in this process?',\n",
       " 'In the context of building a portfolio of projects, explain the importance of communication and leadership skills in the progression from small-scale to larger AI projects.',\n",
       " 'Discuss the framework suggested for job seekers in AI, especially those transitioning from a different field. How does switching roles or industries impact the job search process?',\n",
       " 'In the context of overcoming imposter syndrome in the AI community, what strategies does the author suggest for finding supportive mentors or peers?',\n",
       " 'The author uses a mortality calculator to emphasize the importance of making every day count. Explain how this concept is used to motivate the reader in the context of the document.',\n",
       " 'In the context of machine learning, why is understanding the math behind algorithms such as gradient descent, momentum, and the Adam optimization algorithm important? Provide examples to support your answer.',\n",
       " 'According to the text, what are the three key steps for building a career in AI and how does being part of a community support these steps?',\n",
       " 'What are the most important topics for a technical career in machine learning as mentioned in the text and why is it crucial to understand the core concepts behind how and why machine learning works?',\n",
       " 'According to the text, what are some key factors to consider when plotting a path to success in AI? Provide examples from the text to support your answer.',\n",
       " 'The author discusses the concept of \"imposter syndrome\" in the field of AI. Explain what this term means and how it can affect individuals in the AI community.',\n",
       " 'Describe the five steps to scope successful AI projects as discussed in the document. Provide a detailed explanation of each step using the example of applying AI to climate change.',\n",
       " 'According to the text, what are some strategies for identifying and scoping AI projects that align with your career goals and how can these projects potentially contribute to your professional growth?',\n",
       " 'Discuss the importance of budgeting for resources in the successful execution of AI projects. What are some examples of resources that might need to be considered in the budget?',\n",
       " 'In the introduction, the author compares AI coding to a form of literacy. Explain this comparison and discuss how AI coding could be beneficial in everyday professions, using the example of a pizza maker provided in the text.',\n",
       " 'According to the text, what are the three key steps of career growth in the field of AI? Provide a brief explanation of each step.']"
      ]
     },
     "execution_count": 68,
     "metadata": {},
     "output_type": "execute_result"
    }
   ],
   "source": [
    "eval_questions"
   ]
  },
  {
   "cell_type": "markdown",
   "id": "e54c9977-c606-41bb-b87a-ec3cc17eabaf",
   "metadata": {},
   "source": [
    "### Sentence window size = 2"
   ]
  },
  {
   "cell_type": "code",
   "execution_count": 75,
   "id": "0c8bea9d-9805-4302-b8c0-6e0f3eeec030",
   "metadata": {
    "height": 285
   },
   "outputs": [
    {
     "name": "stderr",
     "output_type": "stream",
     "text": [
      "Callback class OpenAICallback is registered for handling create but there are no endpoints waiting to receive the result.\n",
      "Callback class OpenAICallback is registered for handling create but there are no endpoints waiting to receive the result.\n"
     ]
    },
    {
     "name": "stdout",
     "output_type": "stream",
     "text": [
      "✅ In Answer Relevance, input prompt will be set to __record__.main_input or `Select.RecordInput` .\n",
      "✅ In Answer Relevance, input response will be set to __record__.main_output or `Select.RecordOutput` .\n",
      "✅ In Context Relevance, input prompt will be set to __record__.main_input or `Select.RecordInput` .\n",
      "✅ In Context Relevance, input response will be set to __record__.app.query.rets.source_nodes[:].node.text .\n",
      "✅ In Groundedness, input source will be set to __record__.app.query.rets.source_nodes[:].node.text .\n",
      "✅ In Groundedness, input statement will be set to __record__.main_output or `Select.RecordOutput` .\n"
     ]
    },
    {
     "name": "stderr",
     "output_type": "stream",
     "text": [
      "Callback class OpenAICallback is registered for handling create but there are no endpoints waiting to receive the result.\n"
     ]
    }
   ],
   "source": [
    "sentence_index_2 = build_sentence_window_index(\n",
    "    documents,\n",
    "    llm=OpenAI(model=\"gpt-3.5-turbo\", temperature=0.1),\n",
    "    embed_model=\"local:BAAI/bge-small-en-v1.5\",\n",
    "    sentence_window_size=2,\n",
    "    save_dir=\"sentence_index_2\",\n",
    ")\n",
    "sentence_window_engine_2 = get_sentence_window_query_engine(\n",
    "    sentence_index_2\n",
    ")\n",
    "\n",
    "tru_recorder_2 = get_prebuilt_trulens_recorder(\n",
    "    sentence_window_engine_2,\n",
    "    app_id='sentence window engine 2'\n",
    ")"
   ]
  },
  {
   "cell_type": "code",
   "execution_count": 76,
   "id": "e69d459e-e984-46b4-8fd9-ca4f77150647",
   "metadata": {
    "height": 47
   },
   "outputs": [
    {
     "name": "stderr",
     "output_type": "stream",
     "text": [
      "Callback class OpenAICallback is registered for handling create but there are no endpoints waiting to receive the result.\n",
      "Callback class OpenAICallback is registered for handling create but there are no endpoints waiting to receive the result.\n",
      "Callback class OpenAICallback is registered for handling create but there are no endpoints waiting to receive the result.\n",
      "Callback class OpenAICallback is registered for handling create but there are no endpoints waiting to receive the result.\n",
      "Callback class OpenAICallback is registered for handling create but there are no endpoints waiting to receive the result.\n",
      "Callback class OpenAICallback is registered for handling create but there are no endpoints waiting to receive the result.\n",
      "Callback class OpenAICallback is registered for handling create but there are no endpoints waiting to receive the result.\n",
      "Callback class OpenAICallback is registered for handling create but there are no endpoints waiting to receive the result.\n",
      "Callback class OpenAICallback is registered for handling create but there are no endpoints waiting to receive the result.\n",
      "Callback class OpenAICallback is registered for handling create but there are no endpoints waiting to receive the result.\n",
      "Callback class OpenAICallback is registered for handling create but there are no endpoints waiting to receive the result.\n",
      "Callback class OpenAICallback is registered for handling create but there are no endpoints waiting to receive the result.\n",
      "Callback class OpenAICallback is registered for handling create but there are no endpoints waiting to receive the result.\n",
      "Callback class OpenAICallback is registered for handling create but there are no endpoints waiting to receive the result.\n",
      "Callback class OpenAICallback is registered for handling create but there are no endpoints waiting to receive the result.\n",
      "Callback class OpenAICallback is registered for handling create but there are no endpoints waiting to receive the result.\n",
      "Callback class OpenAICallback is registered for handling create but there are no endpoints waiting to receive the result.\n",
      "Callback class OpenAICallback is registered for handling create but there are no endpoints waiting to receive the result.\n",
      "Callback class OpenAICallback is registered for handling create but there are no endpoints waiting to receive the result.\n",
      "Callback class OpenAICallback is registered for handling create but there are no endpoints waiting to receive the result.\n",
      "Callback class OpenAICallback is registered for handling create but there are no endpoints waiting to receive the result.\n",
      "Callback class OpenAICallback is registered for handling create but there are no endpoints waiting to receive the result.\n",
      "Callback class OpenAICallback is registered for handling create but there are no endpoints waiting to receive the result.\n",
      "Callback class OpenAICallback is registered for handling create but there are no endpoints waiting to receive the result.\n",
      "Callback class OpenAICallback is registered for handling create but there are no endpoints waiting to receive the result.\n",
      "Callback class OpenAICallback is registered for handling create but there are no endpoints waiting to receive the result.\n",
      "Callback class OpenAICallback is registered for handling create but there are no endpoints waiting to receive the result.\n",
      "Callback class OpenAICallback is registered for handling create but there are no endpoints waiting to receive the result.\n",
      "Callback class OpenAICallback is registered for handling create but there are no endpoints waiting to receive the result.\n",
      "Callback class OpenAICallback is registered for handling create but there are no endpoints waiting to receive the result.\n",
      "Callback class OpenAICallback is registered for handling create but there are no endpoints waiting to receive the result.\n",
      "Callback class OpenAICallback is registered for handling create but there are no endpoints waiting to receive the result.\n",
      "Callback class OpenAICallback is registered for handling create but there are no endpoints waiting to receive the result.\n",
      "Callback class OpenAICallback is registered for handling create but there are no endpoints waiting to receive the result.\n",
      "Callback class OpenAICallback is registered for handling create but there are no endpoints waiting to receive the result.\n",
      "Callback class OpenAICallback is registered for handling create but there are no endpoints waiting to receive the result.\n",
      "Callback class OpenAICallback is registered for handling create but there are no endpoints waiting to receive the result.\n",
      "Callback class OpenAICallback is registered for handling create but there are no endpoints waiting to receive the result.\n",
      "Callback class OpenAICallback is registered for handling create but there are no endpoints waiting to receive the result.\n",
      "Callback class OpenAICallback is registered for handling create but there are no endpoints waiting to receive the result.\n",
      "Callback class OpenAICallback is registered for handling create but there are no endpoints waiting to receive the result.\n",
      "Callback class OpenAICallback is registered for handling create but there are no endpoints waiting to receive the result.\n",
      "Callback class OpenAICallback is registered for handling create but there are no endpoints waiting to receive the result.\n",
      "Callback class OpenAICallback is registered for handling create but there are no endpoints waiting to receive the result.\n",
      "Callback class OpenAICallback is registered for handling create but there are no endpoints waiting to receive the result.\n",
      "Callback class OpenAICallback is registered for handling create but there are no endpoints waiting to receive the result.\n",
      "Callback class OpenAICallback is registered for handling create but there are no endpoints waiting to receive the result.\n",
      "Callback class OpenAICallback is registered for handling create but there are no endpoints waiting to receive the result.\n",
      "Callback class OpenAICallback is registered for handling create but there are no endpoints waiting to receive the result.\n",
      "Callback class OpenAICallback is registered for handling create but there are no endpoints waiting to receive the result.\n",
      "Callback class OpenAICallback is registered for handling create but there are no endpoints waiting to receive the result.\n",
      "Callback class OpenAICallback is registered for handling create but there are no endpoints waiting to receive the result.\n",
      "Callback class OpenAICallback is registered for handling create but there are no endpoints waiting to receive the result.\n",
      "Callback class OpenAICallback is registered for handling create but there are no endpoints waiting to receive the result.\n",
      "Callback class OpenAICallback is registered for handling create but there are no endpoints waiting to receive the result.\n",
      "Callback class OpenAICallback is registered for handling create but there are no endpoints waiting to receive the result.\n",
      "Callback class OpenAICallback is registered for handling create but there are no endpoints waiting to receive the result.\n",
      "Callback class OpenAICallback is registered for handling create but there are no endpoints waiting to receive the result.\n",
      "Callback class OpenAICallback is registered for handling create but there are no endpoints waiting to receive the result.\n",
      "Callback class OpenAICallback is registered for handling create but there are no endpoints waiting to receive the result.\n",
      "Callback class OpenAICallback is registered for handling create but there are no endpoints waiting to receive the result.\n",
      "Callback class OpenAICallback is registered for handling create but there are no endpoints waiting to receive the result.\n",
      "Callback class OpenAICallback is registered for handling create but there are no endpoints waiting to receive the result.\n",
      "Callback class OpenAICallback is registered for handling create but there are no endpoints waiting to receive the result.\n",
      "Callback class OpenAICallback is registered for handling create but there are no endpoints waiting to receive the result.\n",
      "Callback class OpenAICallback is registered for handling create but there are no endpoints waiting to receive the result.\n",
      "Callback class OpenAICallback is registered for handling create but there are no endpoints waiting to receive the result.\n",
      "Callback class OpenAICallback is registered for handling create but there are no endpoints waiting to receive the result.\n"
     ]
    },
    {
     "name": "stderr",
     "output_type": "stream",
     "text": [
      "Callback class OpenAICallback is registered for handling create but there are no endpoints waiting to receive the result.\n",
      "Callback class OpenAICallback is registered for handling create but there are no endpoints waiting to receive the result.\n",
      "Callback class OpenAICallback is registered for handling create but there are no endpoints waiting to receive the result.\n",
      "Callback class OpenAICallback is registered for handling create but there are no endpoints waiting to receive the result.\n",
      "Callback class OpenAICallback is registered for handling create but there are no endpoints waiting to receive the result.\n",
      "Callback class OpenAICallback is registered for handling create but there are no endpoints waiting to receive the result.\n",
      "Callback class OpenAICallback is registered for handling create but there are no endpoints waiting to receive the result.\n",
      "Callback class OpenAICallback is registered for handling create but there are no endpoints waiting to receive the result.\n",
      "Callback class OpenAICallback is registered for handling create but there are no endpoints waiting to receive the result.\n",
      "Callback class OpenAICallback is registered for handling create but there are no endpoints waiting to receive the result.\n",
      "Callback class OpenAICallback is registered for handling create but there are no endpoints waiting to receive the result.\n",
      "Callback class OpenAICallback is registered for handling create but there are no endpoints waiting to receive the result.\n",
      "Callback class OpenAICallback is registered for handling create but there are no endpoints waiting to receive the result.\n",
      "Callback class OpenAICallback is registered for handling create but there are no endpoints waiting to receive the result.\n",
      "Callback class OpenAICallback is registered for handling create but there are no endpoints waiting to receive the result.\n",
      "Callback class OpenAICallback is registered for handling create but there are no endpoints waiting to receive the result.\n",
      "Callback class OpenAICallback is registered for handling create but there are no endpoints waiting to receive the result.\n",
      "Callback class OpenAICallback is registered for handling create but there are no endpoints waiting to receive the result.\n",
      "Callback class OpenAICallback is registered for handling create but there are no endpoints waiting to receive the result.\n",
      "Callback class OpenAICallback is registered for handling create but there are no endpoints waiting to receive the result.\n",
      "Callback class OpenAICallback is registered for handling create but there are no endpoints waiting to receive the result.\n",
      "Callback class OpenAICallback is registered for handling create but there are no endpoints waiting to receive the result.\n",
      "Callback class OpenAICallback is registered for handling create but there are no endpoints waiting to receive the result.\n",
      "Callback class OpenAICallback is registered for handling create but there are no endpoints waiting to receive the result.\n",
      "Callback class OpenAICallback is registered for handling create but there are no endpoints waiting to receive the result.\n",
      "Callback class OpenAICallback is registered for handling create but there are no endpoints waiting to receive the result.\n",
      "Callback class OpenAICallback is registered for handling create but there are no endpoints waiting to receive the result.\n",
      "Callback class OpenAICallback is registered for handling create but there are no endpoints waiting to receive the result.\n",
      "Callback class OpenAICallback is registered for handling create but there are no endpoints waiting to receive the result.\n",
      "Callback class OpenAICallback is registered for handling create but there are no endpoints waiting to receive the result.\n",
      "Callback class OpenAICallback is registered for handling create but there are no endpoints waiting to receive the result.\n",
      "Callback class OpenAICallback is registered for handling create but there are no endpoints waiting to receive the result.\n",
      "Callback class OpenAICallback is registered for handling create but there are no endpoints waiting to receive the result.\n",
      "Callback class OpenAICallback is registered for handling create but there are no endpoints waiting to receive the result.\n",
      "Callback class OpenAICallback is registered for handling create but there are no endpoints waiting to receive the result.\n",
      "Callback class OpenAICallback is registered for handling create but there are no endpoints waiting to receive the result.\n",
      "Callback class OpenAICallback is registered for handling create but there are no endpoints waiting to receive the result.\n",
      "Callback class OpenAICallback is registered for handling create but there are no endpoints waiting to receive the result.\n",
      "Callback class OpenAICallback is registered for handling create but there are no endpoints waiting to receive the result.\n",
      "Callback class OpenAICallback is registered for handling create but there are no endpoints waiting to receive the result.\n",
      "Callback class OpenAICallback is registered for handling create but there are no endpoints waiting to receive the result.\n",
      "Callback class OpenAICallback is registered for handling create but there are no endpoints waiting to receive the result.\n",
      "Callback class OpenAICallback is registered for handling create but there are no endpoints waiting to receive the result.\n",
      "Callback class OpenAICallback is registered for handling create but there are no endpoints waiting to receive the result.\n",
      "Callback class OpenAICallback is registered for handling create but there are no endpoints waiting to receive the result.\n",
      "Callback class OpenAICallback is registered for handling create but there are no endpoints waiting to receive the result.\n",
      "Callback class OpenAICallback is registered for handling create but there are no endpoints waiting to receive the result.\n",
      "Callback class OpenAICallback is registered for handling create but there are no endpoints waiting to receive the result.\n",
      "Callback class OpenAICallback is registered for handling create but there are no endpoints waiting to receive the result.\n",
      "Callback class OpenAICallback is registered for handling create but there are no endpoints waiting to receive the result.\n",
      "Callback class OpenAICallback is registered for handling create but there are no endpoints waiting to receive the result.\n",
      "Callback class OpenAICallback is registered for handling create but there are no endpoints waiting to receive the result.\n",
      "Callback class OpenAICallback is registered for handling create but there are no endpoints waiting to receive the result.\n",
      "Callback class OpenAICallback is registered for handling create but there are no endpoints waiting to receive the result.\n",
      "Callback class OpenAICallback is registered for handling create but there are no endpoints waiting to receive the result.\n",
      "Callback class OpenAICallback is registered for handling create but there are no endpoints waiting to receive the result.\n",
      "Callback class OpenAICallback is registered for handling create but there are no endpoints waiting to receive the result.\n",
      "Callback class OpenAICallback is registered for handling create but there are no endpoints waiting to receive the result.\n",
      "Callback class OpenAICallback is registered for handling create but there are no endpoints waiting to receive the result.\n",
      "Callback class OpenAICallback is registered for handling create but there are no endpoints waiting to receive the result.\n",
      "Callback class OpenAICallback is registered for handling create but there are no endpoints waiting to receive the result.\n",
      "Callback class OpenAICallback is registered for handling create but there are no endpoints waiting to receive the result.\n",
      "Callback class OpenAICallback is registered for handling create but there are no endpoints waiting to receive the result.\n",
      "Callback class OpenAICallback is registered for handling create but there are no endpoints waiting to receive the result.\n",
      "Callback class OpenAICallback is registered for handling create but there are no endpoints waiting to receive the result.\n",
      "Callback class OpenAICallback is registered for handling create but there are no endpoints waiting to receive the result.\n",
      "Callback class OpenAICallback is registered for handling create but there are no endpoints waiting to receive the result.\n",
      "Callback class OpenAICallback is registered for handling create but there are no endpoints waiting to receive the result.\n"
     ]
    },
    {
     "name": "stderr",
     "output_type": "stream",
     "text": [
      "Callback class OpenAICallback is registered for handling create but there are no endpoints waiting to receive the result.\n",
      "Callback class OpenAICallback is registered for handling create but there are no endpoints waiting to receive the result.\n",
      "Callback class OpenAICallback is registered for handling create but there are no endpoints waiting to receive the result.\n",
      "Callback class OpenAICallback is registered for handling create but there are no endpoints waiting to receive the result.\n",
      "Callback class OpenAICallback is registered for handling create but there are no endpoints waiting to receive the result.\n",
      "Callback class OpenAICallback is registered for handling create but there are no endpoints waiting to receive the result.\n",
      "Callback class OpenAICallback is registered for handling create but there are no endpoints waiting to receive the result.\n",
      "Callback class OpenAICallback is registered for handling create but there are no endpoints waiting to receive the result.\n",
      "Callback class OpenAICallback is registered for handling create but there are no endpoints waiting to receive the result.\n",
      "Callback class OpenAICallback is registered for handling create but there are no endpoints waiting to receive the result.\n",
      "Callback class OpenAICallback is registered for handling create but there are no endpoints waiting to receive the result.\n",
      "Callback class OpenAICallback is registered for handling create but there are no endpoints waiting to receive the result.\n",
      "Callback class OpenAICallback is registered for handling create but there are no endpoints waiting to receive the result.\n"
     ]
    }
   ],
   "source": [
    "run_evals(eval_questions, tru_recorder_2, sentence_window_engine_2)"
   ]
  },
  {
   "cell_type": "code",
   "execution_count": 77,
   "id": "dfdfb770",
   "metadata": {
    "height": 30,
    "scrolled": true
   },
   "outputs": [
    {
     "name": "stdout",
     "output_type": "stream",
     "text": [
      "Starting dashboard ...\n",
      "Config file already exists. Skipping writing process.\n",
      "Credentials file already exists. Skipping writing process.\n",
      "Dashboard already running at path:   Network URL: http://10.10.1.8:8501\n",
      "\n"
     ]
    },
    {
     "data": {
      "text/plain": [
       "<Popen: returncode: None args: ['streamlit', 'run', '--server.headless=True'...>"
      ]
     },
     "execution_count": 77,
     "metadata": {},
     "output_type": "execute_result"
    }
   ],
   "source": [
    "Tru().run_dashboard()"
   ]
  },
  {
   "cell_type": "markdown",
   "id": "e2812163",
   "metadata": {},
   "source": [
    "### Sentence window size = 3"
   ]
  },
  {
   "cell_type": "code",
   "execution_count": 78,
   "id": "77e98d8c",
   "metadata": {
    "height": 285
   },
   "outputs": [
    {
     "name": "stderr",
     "output_type": "stream",
     "text": [
      "Callback class OpenAICallback is registered for handling create but there are no endpoints waiting to receive the result.\n",
      "Callback class OpenAICallback is registered for handling create but there are no endpoints waiting to receive the result.\n",
      "Callback class OpenAICallback is registered for handling create but there are no endpoints waiting to receive the result.\n"
     ]
    },
    {
     "name": "stdout",
     "output_type": "stream",
     "text": [
      "✅ In Answer Relevance, input prompt will be set to __record__.main_input or `Select.RecordInput` .\n",
      "✅ In Answer Relevance, input response will be set to __record__.main_output or `Select.RecordOutput` .\n",
      "✅ In Context Relevance, input prompt will be set to __record__.main_input or `Select.RecordInput` .\n",
      "✅ In Context Relevance, input response will be set to __record__.app.query.rets.source_nodes[:].node.text .\n",
      "✅ In Groundedness, input source will be set to __record__.app.query.rets.source_nodes[:].node.text .\n",
      "✅ In Groundedness, input statement will be set to __record__.main_output or `Select.RecordOutput` .\n"
     ]
    }
   ],
   "source": [
    "sentence_index_3 = build_sentence_window_index(\n",
    "    documents,\n",
    "    llm=OpenAI(model=\"gpt-3.5-turbo\", temperature=0.1),\n",
    "    embed_model=\"local:BAAI/bge-small-en-v1.5\",\n",
    "    sentence_window_size=3,\n",
    "    save_dir=\"sentence_index_3\",\n",
    ")\n",
    "sentence_window_engine_3 = get_sentence_window_query_engine(\n",
    "    sentence_index_3\n",
    ")\n",
    "\n",
    "tru_recorder_3 = get_prebuilt_trulens_recorder(\n",
    "    sentence_window_engine_3,\n",
    "    app_id='sentence window engine 3'\n",
    ")"
   ]
  },
  {
   "cell_type": "code",
   "execution_count": 79,
   "id": "2944c102",
   "metadata": {
    "height": 47
   },
   "outputs": [
    {
     "name": "stderr",
     "output_type": "stream",
     "text": [
      "Callback class OpenAICallback is registered for handling create but there are no endpoints waiting to receive the result.\n",
      "Callback class OpenAICallback is registered for handling create but there are no endpoints waiting to receive the result.\n",
      "Callback class OpenAICallback is registered for handling create but there are no endpoints waiting to receive the result.\n",
      "Callback class OpenAICallback is registered for handling create but there are no endpoints waiting to receive the result.\n",
      "Callback class OpenAICallback is registered for handling create but there are no endpoints waiting to receive the result.\n",
      "Callback class OpenAICallback is registered for handling create but there are no endpoints waiting to receive the result.\n",
      "Callback class OpenAICallback is registered for handling create but there are no endpoints waiting to receive the result.\n",
      "Callback class OpenAICallback is registered for handling create but there are no endpoints waiting to receive the result.\n",
      "Callback class OpenAICallback is registered for handling create but there are no endpoints waiting to receive the result.\n",
      "Callback class OpenAICallback is registered for handling create but there are no endpoints waiting to receive the result.\n",
      "Callback class OpenAICallback is registered for handling create but there are no endpoints waiting to receive the result.\n",
      "Callback class OpenAICallback is registered for handling create but there are no endpoints waiting to receive the result.\n",
      "Callback class OpenAICallback is registered for handling create but there are no endpoints waiting to receive the result.\n",
      "Callback class OpenAICallback is registered for handling create but there are no endpoints waiting to receive the result.\n",
      "Callback class OpenAICallback is registered for handling create but there are no endpoints waiting to receive the result.\n",
      "Callback class OpenAICallback is registered for handling create but there are no endpoints waiting to receive the result.\n",
      "Callback class OpenAICallback is registered for handling create but there are no endpoints waiting to receive the result.\n",
      "Callback class OpenAICallback is registered for handling create but there are no endpoints waiting to receive the result.\n",
      "Callback class OpenAICallback is registered for handling create but there are no endpoints waiting to receive the result.\n",
      "Callback class OpenAICallback is registered for handling create but there are no endpoints waiting to receive the result.\n",
      "Callback class OpenAICallback is registered for handling create but there are no endpoints waiting to receive the result.\n",
      "Callback class OpenAICallback is registered for handling create but there are no endpoints waiting to receive the result.\n",
      "Callback class OpenAICallback is registered for handling create but there are no endpoints waiting to receive the result.\n",
      "Validation error: 1 validation error for Rating\n",
      "rating\n",
      "  Value error, Rating must be between 0 and 10 [type=value_error, input_value=2857, input_type=int]\n",
      "    For further information visit https://errors.pydantic.dev/2.5/v/value_error\n",
      "Callback class OpenAICallback is registered for handling create but there are no endpoints waiting to receive the result.\n",
      "Callback class OpenAICallback is registered for handling create but there are no endpoints waiting to receive the result.\n",
      "Callback class OpenAICallback is registered for handling create but there are no endpoints waiting to receive the result.\n",
      "Callback class OpenAICallback is registered for handling create but there are no endpoints waiting to receive the result.\n",
      "Callback class OpenAICallback is registered for handling create but there are no endpoints waiting to receive the result.\n",
      "Callback class OpenAICallback is registered for handling create but there are no endpoints waiting to receive the result.\n",
      "Callback class OpenAICallback is registered for handling create but there are no endpoints waiting to receive the result.\n",
      "Callback class OpenAICallback is registered for handling create but there are no endpoints waiting to receive the result.\n",
      "Callback class OpenAICallback is registered for handling create but there are no endpoints waiting to receive the result.\n",
      "Callback class OpenAICallback is registered for handling create but there are no endpoints waiting to receive the result.\n",
      "Callback class OpenAICallback is registered for handling create but there are no endpoints waiting to receive the result.\n",
      "Callback class OpenAICallback is registered for handling create but there are no endpoints waiting to receive the result.\n",
      "Callback class OpenAICallback is registered for handling create but there are no endpoints waiting to receive the result.\n",
      "Callback class OpenAICallback is registered for handling create but there are no endpoints waiting to receive the result.\n",
      "Callback class OpenAICallback is registered for handling create but there are no endpoints waiting to receive the result.\n",
      "Callback class OpenAICallback is registered for handling create but there are no endpoints waiting to receive the result.\n",
      "Callback class OpenAICallback is registered for handling create but there are no endpoints waiting to receive the result.\n",
      "Callback class OpenAICallback is registered for handling create but there are no endpoints waiting to receive the result.\n",
      "Callback class OpenAICallback is registered for handling create but there are no endpoints waiting to receive the result.\n",
      "Callback class OpenAICallback is registered for handling create but there are no endpoints waiting to receive the result.\n",
      "Callback class OpenAICallback is registered for handling create but there are no endpoints waiting to receive the result.\n",
      "Callback class OpenAICallback is registered for handling create but there are no endpoints waiting to receive the result.\n",
      "Callback class OpenAICallback is registered for handling create but there are no endpoints waiting to receive the result.\n",
      "Callback class OpenAICallback is registered for handling create but there are no endpoints waiting to receive the result.\n",
      "Callback class OpenAICallback is registered for handling create but there are no endpoints waiting to receive the result.\n",
      "Callback class OpenAICallback is registered for handling create but there are no endpoints waiting to receive the result.\n",
      "Callback class OpenAICallback is registered for handling create but there are no endpoints waiting to receive the result.\n",
      "Callback class OpenAICallback is registered for handling create but there are no endpoints waiting to receive the result.\n",
      "Callback class OpenAICallback is registered for handling create but there are no endpoints waiting to receive the result.\n",
      "Callback class OpenAICallback is registered for handling create but there are no endpoints waiting to receive the result.\n",
      "Callback class OpenAICallback is registered for handling create but there are no endpoints waiting to receive the result.\n",
      "Callback class OpenAICallback is registered for handling create but there are no endpoints waiting to receive the result.\n",
      "Callback class OpenAICallback is registered for handling create but there are no endpoints waiting to receive the result.\n",
      "Callback class OpenAICallback is registered for handling create but there are no endpoints waiting to receive the result.\n",
      "Callback class OpenAICallback is registered for handling create but there are no endpoints waiting to receive the result.\n",
      "Callback class OpenAICallback is registered for handling create but there are no endpoints waiting to receive the result.\n",
      "Callback class OpenAICallback is registered for handling create but there are no endpoints waiting to receive the result.\n",
      "Callback class OpenAICallback is registered for handling create but there are no endpoints waiting to receive the result.\n",
      "Callback class OpenAICallback is registered for handling create but there are no endpoints waiting to receive the result.\n",
      "Callback class OpenAICallback is registered for handling create but there are no endpoints waiting to receive the result.\n",
      "Callback class OpenAICallback is registered for handling create but there are no endpoints waiting to receive the result.\n",
      "Callback class OpenAICallback is registered for handling create but there are no endpoints waiting to receive the result.\n",
      "Callback class OpenAICallback is registered for handling create but there are no endpoints waiting to receive the result.\n"
     ]
    },
    {
     "name": "stderr",
     "output_type": "stream",
     "text": [
      "Callback class OpenAICallback is registered for handling create but there are no endpoints waiting to receive the result.\n",
      "Callback class OpenAICallback is registered for handling create but there are no endpoints waiting to receive the result.\n",
      "Callback class OpenAICallback is registered for handling create but there are no endpoints waiting to receive the result.\n",
      "Callback class OpenAICallback is registered for handling create but there are no endpoints waiting to receive the result.\n",
      "Callback class OpenAICallback is registered for handling create but there are no endpoints waiting to receive the result.\n",
      "Callback class OpenAICallback is registered for handling create but there are no endpoints waiting to receive the result.\n",
      "Callback class OpenAICallback is registered for handling create but there are no endpoints waiting to receive the result.\n",
      "Callback class OpenAICallback is registered for handling create but there are no endpoints waiting to receive the result.\n",
      "Callback class OpenAICallback is registered for handling create but there are no endpoints waiting to receive the result.\n",
      "Callback class OpenAICallback is registered for handling create but there are no endpoints waiting to receive the result.\n",
      "Callback class OpenAICallback is registered for handling create but there are no endpoints waiting to receive the result.\n",
      "Callback class OpenAICallback is registered for handling create but there are no endpoints waiting to receive the result.\n",
      "Callback class OpenAICallback is registered for handling create but there are no endpoints waiting to receive the result.\n",
      "Callback class OpenAICallback is registered for handling create but there are no endpoints waiting to receive the result.\n",
      "Callback class OpenAICallback is registered for handling create but there are no endpoints waiting to receive the result.\n",
      "Callback class OpenAICallback is registered for handling create but there are no endpoints waiting to receive the result.\n",
      "Callback class OpenAICallback is registered for handling create but there are no endpoints waiting to receive the result.\n",
      "Callback class OpenAICallback is registered for handling create but there are no endpoints waiting to receive the result.\n",
      "Callback class OpenAICallback is registered for handling create but there are no endpoints waiting to receive the result.\n",
      "Callback class OpenAICallback is registered for handling create but there are no endpoints waiting to receive the result.\n",
      "Callback class OpenAICallback is registered for handling create but there are no endpoints waiting to receive the result.\n",
      "Callback class OpenAICallback is registered for handling create but there are no endpoints waiting to receive the result.\n",
      "Callback class OpenAICallback is registered for handling create but there are no endpoints waiting to receive the result.\n",
      "Callback class OpenAICallback is registered for handling create but there are no endpoints waiting to receive the result.\n",
      "Callback class OpenAICallback is registered for handling create but there are no endpoints waiting to receive the result.\n",
      "Callback class OpenAICallback is registered for handling create but there are no endpoints waiting to receive the result.\n",
      "Callback class OpenAICallback is registered for handling create but there are no endpoints waiting to receive the result.\n",
      "Callback class OpenAICallback is registered for handling create but there are no endpoints waiting to receive the result.\n",
      "Callback class OpenAICallback is registered for handling create but there are no endpoints waiting to receive the result.\n",
      "Callback class OpenAICallback is registered for handling create but there are no endpoints waiting to receive the result.\n",
      "Callback class OpenAICallback is registered for handling create but there are no endpoints waiting to receive the result.\n",
      "Callback class OpenAICallback is registered for handling create but there are no endpoints waiting to receive the result.\n",
      "Callback class OpenAICallback is registered for handling create but there are no endpoints waiting to receive the result.\n",
      "Callback class OpenAICallback is registered for handling create but there are no endpoints waiting to receive the result.\n",
      "Callback class OpenAICallback is registered for handling create but there are no endpoints waiting to receive the result.\n",
      "Callback class OpenAICallback is registered for handling create but there are no endpoints waiting to receive the result.\n",
      "Callback class OpenAICallback is registered for handling create but there are no endpoints waiting to receive the result.\n",
      "Callback class OpenAICallback is registered for handling create but there are no endpoints waiting to receive the result.\n",
      "Callback class OpenAICallback is registered for handling create but there are no endpoints waiting to receive the result.\n",
      "Callback class OpenAICallback is registered for handling create but there are no endpoints waiting to receive the result.\n",
      "Callback class OpenAICallback is registered for handling create but there are no endpoints waiting to receive the result.\n",
      "Callback class OpenAICallback is registered for handling create but there are no endpoints waiting to receive the result.\n",
      "Callback class OpenAICallback is registered for handling create but there are no endpoints waiting to receive the result.\n",
      "Callback class OpenAICallback is registered for handling create but there are no endpoints waiting to receive the result.\n",
      "Callback class OpenAICallback is registered for handling create but there are no endpoints waiting to receive the result.\n",
      "Callback class OpenAICallback is registered for handling create but there are no endpoints waiting to receive the result.\n",
      "Callback class OpenAICallback is registered for handling create but there are no endpoints waiting to receive the result.\n",
      "Callback class OpenAICallback is registered for handling create but there are no endpoints waiting to receive the result.\n",
      "Callback class OpenAICallback is registered for handling create but there are no endpoints waiting to receive the result.\n",
      "Callback class OpenAICallback is registered for handling create but there are no endpoints waiting to receive the result.\n",
      "Callback class OpenAICallback is registered for handling create but there are no endpoints waiting to receive the result.\n",
      "Callback class OpenAICallback is registered for handling create but there are no endpoints waiting to receive the result.\n",
      "Callback class OpenAICallback is registered for handling create but there are no endpoints waiting to receive the result.\n",
      "Callback class OpenAICallback is registered for handling create but there are no endpoints waiting to receive the result.\n",
      "Callback class OpenAICallback is registered for handling create but there are no endpoints waiting to receive the result.\n",
      "Callback class OpenAICallback is registered for handling create but there are no endpoints waiting to receive the result.\n",
      "Callback class OpenAICallback is registered for handling create but there are no endpoints waiting to receive the result.\n",
      "Callback class OpenAICallback is registered for handling create but there are no endpoints waiting to receive the result.\n",
      "Callback class OpenAICallback is registered for handling create but there are no endpoints waiting to receive the result.\n",
      "Callback class OpenAICallback is registered for handling create but there are no endpoints waiting to receive the result.\n",
      "Callback class OpenAICallback is registered for handling create but there are no endpoints waiting to receive the result.\n",
      "Callback class OpenAICallback is registered for handling create but there are no endpoints waiting to receive the result.\n",
      "Callback class OpenAICallback is registered for handling create but there are no endpoints waiting to receive the result.\n",
      "Callback class OpenAICallback is registered for handling create but there are no endpoints waiting to receive the result.\n",
      "Callback class OpenAICallback is registered for handling create but there are no endpoints waiting to receive the result.\n",
      "Callback class OpenAICallback is registered for handling create but there are no endpoints waiting to receive the result.\n",
      "Callback class OpenAICallback is registered for handling create but there are no endpoints waiting to receive the result.\n",
      "Callback class OpenAICallback is registered for handling create but there are no endpoints waiting to receive the result.\n"
     ]
    },
    {
     "name": "stderr",
     "output_type": "stream",
     "text": [
      "Callback class OpenAICallback is registered for handling create but there are no endpoints waiting to receive the result.\n",
      "Callback class OpenAICallback is registered for handling create but there are no endpoints waiting to receive the result.\n",
      "Callback class OpenAICallback is registered for handling create but there are no endpoints waiting to receive the result.\n",
      "Callback class OpenAICallback is registered for handling create but there are no endpoints waiting to receive the result.\n",
      "Validation error: 1 validation error for Rating\n",
      "rating\n",
      "  Value error, Rating must be between 0 and 10 [type=value_error, input_value=57, input_type=int]\n",
      "    For further information visit https://errors.pydantic.dev/2.5/v/value_error\n",
      "Callback class OpenAICallback is registered for handling create but there are no endpoints waiting to receive the result.\n",
      "Callback class OpenAICallback is registered for handling create but there are no endpoints waiting to receive the result.\n",
      "Callback class OpenAICallback is registered for handling create but there are no endpoints waiting to receive the result.\n",
      "Callback class OpenAICallback is registered for handling create but there are no endpoints waiting to receive the result.\n",
      "Callback class OpenAICallback is registered for handling create but there are no endpoints waiting to receive the result.\n",
      "Callback class OpenAICallback is registered for handling create but there are no endpoints waiting to receive the result.\n",
      "Callback class OpenAICallback is registered for handling create but there are no endpoints waiting to receive the result.\n",
      "Callback class OpenAICallback is registered for handling create but there are no endpoints waiting to receive the result.\n",
      "Callback class OpenAICallback is registered for handling create but there are no endpoints waiting to receive the result.\n",
      "Callback class OpenAICallback is registered for handling create but there are no endpoints waiting to receive the result.\n"
     ]
    }
   ],
   "source": [
    "run_evals(eval_questions, tru_recorder_3, sentence_window_engine_3)"
   ]
  },
  {
   "cell_type": "code",
   "execution_count": 80,
   "id": "86cba393",
   "metadata": {
    "height": 30,
    "scrolled": true
   },
   "outputs": [
    {
     "name": "stdout",
     "output_type": "stream",
     "text": [
      "Starting dashboard ...\n",
      "Config file already exists. Skipping writing process.\n",
      "Credentials file already exists. Skipping writing process.\n",
      "Dashboard already running at path:   Network URL: http://10.10.1.8:8501\n",
      "\n"
     ]
    },
    {
     "data": {
      "text/plain": [
       "<Popen: returncode: None args: ['streamlit', 'run', '--server.headless=True'...>"
      ]
     },
     "execution_count": 80,
     "metadata": {},
     "output_type": "execute_result"
    }
   ],
   "source": [
    "Tru().run_dashboard()"
   ]
  },
  {
   "cell_type": "markdown",
   "id": "b2635be9",
   "metadata": {},
   "source": [
    "### Sentence window size = 4"
   ]
  },
  {
   "cell_type": "code",
   "execution_count": 81,
   "id": "05520ea1",
   "metadata": {
    "height": 285
   },
   "outputs": [
    {
     "name": "stderr",
     "output_type": "stream",
     "text": [
      "Callback class OpenAICallback is registered for handling create but there are no endpoints waiting to receive the result.\n",
      "Callback class OpenAICallback is registered for handling create but there are no endpoints waiting to receive the result.\n",
      "Callback class OpenAICallback is registered for handling create but there are no endpoints waiting to receive the result.\n"
     ]
    },
    {
     "name": "stdout",
     "output_type": "stream",
     "text": [
      "✅ In Answer Relevance, input prompt will be set to __record__.main_input or `Select.RecordInput` .\n",
      "✅ In Answer Relevance, input response will be set to __record__.main_output or `Select.RecordOutput` .\n",
      "✅ In Context Relevance, input prompt will be set to __record__.main_input or `Select.RecordInput` .\n",
      "✅ In Context Relevance, input response will be set to __record__.app.query.rets.source_nodes[:].node.text .\n",
      "✅ In Groundedness, input source will be set to __record__.app.query.rets.source_nodes[:].node.text .\n",
      "✅ In Groundedness, input statement will be set to __record__.main_output or `Select.RecordOutput` .\n"
     ]
    }
   ],
   "source": [
    "sentence_index_4 = build_sentence_window_index(\n",
    "    documents,\n",
    "    llm=OpenAI(model=\"gpt-3.5-turbo\", temperature=0.1),\n",
    "    embed_model=\"local:BAAI/bge-small-en-v1.5\",\n",
    "    sentence_window_size=4,\n",
    "    save_dir=\"sentence_index_4\",\n",
    ")\n",
    "sentence_window_engine_4 = get_sentence_window_query_engine(\n",
    "    sentence_index_4\n",
    ")\n",
    "\n",
    "tru_recorder_4 = get_prebuilt_trulens_recorder(\n",
    "    sentence_window_engine_4,\n",
    "    app_id='sentence window engine 4'\n",
    ")"
   ]
  },
  {
   "cell_type": "code",
   "execution_count": 82,
   "id": "9568ffde",
   "metadata": {
    "height": 47
   },
   "outputs": [
    {
     "name": "stderr",
     "output_type": "stream",
     "text": [
      "Callback class OpenAICallback is registered for handling create but there are no endpoints waiting to receive the result.\n",
      "Callback class OpenAICallback is registered for handling create but there are no endpoints waiting to receive the result.\n",
      "Callback class OpenAICallback is registered for handling create but there are no endpoints waiting to receive the result.\n",
      "Callback class OpenAICallback is registered for handling create but there are no endpoints waiting to receive the result.\n",
      "Callback class OpenAICallback is registered for handling create but there are no endpoints waiting to receive the result.\n",
      "Callback class OpenAICallback is registered for handling create but there are no endpoints waiting to receive the result.\n",
      "Callback class OpenAICallback is registered for handling create but there are no endpoints waiting to receive the result.\n",
      "Callback class OpenAICallback is registered for handling create but there are no endpoints waiting to receive the result.\n",
      "Callback class OpenAICallback is registered for handling create but there are no endpoints waiting to receive the result.\n",
      "Callback class OpenAICallback is registered for handling create but there are no endpoints waiting to receive the result.\n",
      "Callback class OpenAICallback is registered for handling create but there are no endpoints waiting to receive the result.\n",
      "Callback class OpenAICallback is registered for handling create but there are no endpoints waiting to receive the result.\n",
      "Callback class OpenAICallback is registered for handling create but there are no endpoints waiting to receive the result.\n",
      "Callback class OpenAICallback is registered for handling create but there are no endpoints waiting to receive the result.\n",
      "Callback class OpenAICallback is registered for handling create but there are no endpoints waiting to receive the result.\n",
      "Callback class OpenAICallback is registered for handling create but there are no endpoints waiting to receive the result.\n",
      "Callback class OpenAICallback is registered for handling create but there are no endpoints waiting to receive the result.\n",
      "Callback class OpenAICallback is registered for handling create but there are no endpoints waiting to receive the result.\n",
      "Callback class OpenAICallback is registered for handling create but there are no endpoints waiting to receive the result.\n",
      "Callback class OpenAICallback is registered for handling create but there are no endpoints waiting to receive the result.\n",
      "Callback class OpenAICallback is registered for handling create but there are no endpoints waiting to receive the result.\n",
      "Callback class OpenAICallback is registered for handling create but there are no endpoints waiting to receive the result.\n",
      "Callback class OpenAICallback is registered for handling create but there are no endpoints waiting to receive the result.\n",
      "Callback class OpenAICallback is registered for handling create but there are no endpoints waiting to receive the result.\n",
      "Callback class OpenAICallback is registered for handling create but there are no endpoints waiting to receive the result.\n",
      "Callback class OpenAICallback is registered for handling create but there are no endpoints waiting to receive the result.\n",
      "Callback class OpenAICallback is registered for handling create but there are no endpoints waiting to receive the result.\n",
      "Callback class OpenAICallback is registered for handling create but there are no endpoints waiting to receive the result.\n",
      "Callback class OpenAICallback is registered for handling create but there are no endpoints waiting to receive the result.\n",
      "Callback class OpenAICallback is registered for handling create but there are no endpoints waiting to receive the result.\n",
      "Callback class OpenAICallback is registered for handling create but there are no endpoints waiting to receive the result.\n",
      "Callback class OpenAICallback is registered for handling create but there are no endpoints waiting to receive the result.\n",
      "Callback class OpenAICallback is registered for handling create but there are no endpoints waiting to receive the result.\n",
      "Callback class OpenAICallback is registered for handling create but there are no endpoints waiting to receive the result.\n",
      "Callback class OpenAICallback is registered for handling create but there are no endpoints waiting to receive the result.\n",
      "Callback class OpenAICallback is registered for handling create but there are no endpoints waiting to receive the result.\n",
      "Callback class OpenAICallback is registered for handling create but there are no endpoints waiting to receive the result.\n",
      "Callback class OpenAICallback is registered for handling create but there are no endpoints waiting to receive the result.\n",
      "Callback class OpenAICallback is registered for handling create but there are no endpoints waiting to receive the result.\n",
      "Callback class OpenAICallback is registered for handling create but there are no endpoints waiting to receive the result.\n",
      "Callback class OpenAICallback is registered for handling create but there are no endpoints waiting to receive the result.\n",
      "Callback class OpenAICallback is registered for handling create but there are no endpoints waiting to receive the result.\n",
      "Callback class OpenAICallback is registered for handling create but there are no endpoints waiting to receive the result.\n",
      "Callback class OpenAICallback is registered for handling create but there are no endpoints waiting to receive the result.\n",
      "Callback class OpenAICallback is registered for handling create but there are no endpoints waiting to receive the result.\n",
      "Callback class OpenAICallback is registered for handling create but there are no endpoints waiting to receive the result.\n",
      "Callback class OpenAICallback is registered for handling create but there are no endpoints waiting to receive the result.\n",
      "Callback class OpenAICallback is registered for handling create but there are no endpoints waiting to receive the result.\n",
      "Callback class OpenAICallback is registered for handling create but there are no endpoints waiting to receive the result.\n",
      "Callback class OpenAICallback is registered for handling create but there are no endpoints waiting to receive the result.\n",
      "Callback class OpenAICallback is registered for handling create but there are no endpoints waiting to receive the result.\n",
      "Callback class OpenAICallback is registered for handling create but there are no endpoints waiting to receive the result.\n",
      "Callback class OpenAICallback is registered for handling create but there are no endpoints waiting to receive the result.\n",
      "Callback class OpenAICallback is registered for handling create but there are no endpoints waiting to receive the result.\n",
      "Callback class OpenAICallback is registered for handling create but there are no endpoints waiting to receive the result.\n",
      "Callback class OpenAICallback is registered for handling create but there are no endpoints waiting to receive the result.\n",
      "Callback class OpenAICallback is registered for handling create but there are no endpoints waiting to receive the result.\n",
      "Callback class OpenAICallback is registered for handling create but there are no endpoints waiting to receive the result.\n",
      "Callback class OpenAICallback is registered for handling create but there are no endpoints waiting to receive the result.\n",
      "Callback class OpenAICallback is registered for handling create but there are no endpoints waiting to receive the result.\n",
      "Callback class OpenAICallback is registered for handling create but there are no endpoints waiting to receive the result.\n",
      "Callback class OpenAICallback is registered for handling create but there are no endpoints waiting to receive the result.\n",
      "Callback class OpenAICallback is registered for handling create but there are no endpoints waiting to receive the result.\n",
      "Callback class OpenAICallback is registered for handling create but there are no endpoints waiting to receive the result.\n",
      "Callback class OpenAICallback is registered for handling create but there are no endpoints waiting to receive the result.\n",
      "Callback class OpenAICallback is registered for handling create but there are no endpoints waiting to receive the result.\n",
      "Callback class OpenAICallback is registered for handling create but there are no endpoints waiting to receive the result.\n",
      "Callback class OpenAICallback is registered for handling create but there are no endpoints waiting to receive the result.\n"
     ]
    },
    {
     "name": "stderr",
     "output_type": "stream",
     "text": [
      "Callback class OpenAICallback is registered for handling create but there are no endpoints waiting to receive the result.\n",
      "Callback class OpenAICallback is registered for handling create but there are no endpoints waiting to receive the result.\n",
      "Callback class OpenAICallback is registered for handling create but there are no endpoints waiting to receive the result.\n",
      "Callback class OpenAICallback is registered for handling create but there are no endpoints waiting to receive the result.\n",
      "Callback class OpenAICallback is registered for handling create but there are no endpoints waiting to receive the result.\n",
      "Callback class OpenAICallback is registered for handling create but there are no endpoints waiting to receive the result.\n",
      "Callback class OpenAICallback is registered for handling create but there are no endpoints waiting to receive the result.\n",
      "Callback class OpenAICallback is registered for handling create but there are no endpoints waiting to receive the result.\n",
      "Callback class OpenAICallback is registered for handling create but there are no endpoints waiting to receive the result.\n",
      "Callback class OpenAICallback is registered for handling create but there are no endpoints waiting to receive the result.\n",
      "Callback class OpenAICallback is registered for handling create but there are no endpoints waiting to receive the result.\n",
      "Callback class OpenAICallback is registered for handling create but there are no endpoints waiting to receive the result.\n",
      "Callback class OpenAICallback is registered for handling create but there are no endpoints waiting to receive the result.\n",
      "Callback class OpenAICallback is registered for handling create but there are no endpoints waiting to receive the result.\n",
      "Callback class OpenAICallback is registered for handling create but there are no endpoints waiting to receive the result.\n",
      "Callback class OpenAICallback is registered for handling create but there are no endpoints waiting to receive the result.\n",
      "Callback class OpenAICallback is registered for handling create but there are no endpoints waiting to receive the result.\n",
      "Callback class OpenAICallback is registered for handling create but there are no endpoints waiting to receive the result.\n",
      "Callback class OpenAICallback is registered for handling create but there are no endpoints waiting to receive the result.\n",
      "Callback class OpenAICallback is registered for handling create but there are no endpoints waiting to receive the result.\n",
      "Callback class OpenAICallback is registered for handling create but there are no endpoints waiting to receive the result.\n",
      "Callback class OpenAICallback is registered for handling create but there are no endpoints waiting to receive the result.\n",
      "Callback class OpenAICallback is registered for handling create but there are no endpoints waiting to receive the result.\n",
      "Callback class OpenAICallback is registered for handling create but there are no endpoints waiting to receive the result.\n",
      "Callback class OpenAICallback is registered for handling create but there are no endpoints waiting to receive the result.\n",
      "Callback class OpenAICallback is registered for handling create but there are no endpoints waiting to receive the result.\n",
      "Callback class OpenAICallback is registered for handling create but there are no endpoints waiting to receive the result.\n",
      "Callback class OpenAICallback is registered for handling create but there are no endpoints waiting to receive the result.\n",
      "Callback class OpenAICallback is registered for handling create but there are no endpoints waiting to receive the result.\n",
      "Callback class OpenAICallback is registered for handling create but there are no endpoints waiting to receive the result.\n",
      "Run of <lambda> in <Thread(TP.submit with debug timeout_0, started 140709533316864)> timed out after 600.0 second(s).\n",
      "/home2/dev/themiraclesoft/anaconda3/lib/python3.11/site-packages/trulens_eval/tru.py:221\n",
      "exception calling callback for <Future at 0x7ff8e0969c90 state=finished raised TimeoutError>\n",
      "Traceback (most recent call last):\n",
      "  File \"/home2/dev/themiraclesoft/anaconda3/lib/python3.11/concurrent/futures/_base.py\", line 340, in _invoke_callbacks\n",
      "    callback(self)\n",
      "  File \"/home2/dev/themiraclesoft/anaconda3/lib/python3.11/site-packages/trulens_eval/app.py\", line 951, in _add_future_feedback\n",
      "    _, res = future.result()\n",
      "             ^^^^^^^^^^^^^^^\n",
      "  File \"/home2/dev/themiraclesoft/anaconda3/lib/python3.11/concurrent/futures/_base.py\", line 449, in result\n",
      "    return self.__get_result()\n",
      "           ^^^^^^^^^^^^^^^^^^^\n",
      "  File \"/home2/dev/themiraclesoft/anaconda3/lib/python3.11/concurrent/futures/_base.py\", line 401, in __get_result\n",
      "    raise self._exception\n",
      "  File \"/home2/dev/themiraclesoft/anaconda3/lib/python3.11/concurrent/futures/thread.py\", line 58, in run\n",
      "    result = self.fn(*self.args, **self.kwargs)\n",
      "             ^^^^^^^^^^^^^^^^^^^^^^^^^^^^^^^^^^\n",
      "  File \"/home2/dev/themiraclesoft/anaconda3/lib/python3.11/site-packages/trulens_eval/utils/python.py\", line 228, in _future_target_wrapper\n",
      "    return func(*args, **kwargs)\n",
      "           ^^^^^^^^^^^^^^^^^^^^^\n",
      "  File \"/home2/dev/themiraclesoft/anaconda3/lib/python3.11/site-packages/trulens_eval/utils/threading.py\", line 125, in _run_with_timeout\n",
      "    raise e\n",
      "  File \"/home2/dev/themiraclesoft/anaconda3/lib/python3.11/site-packages/trulens_eval/utils/threading.py\", line 116, in _run_with_timeout\n",
      "    res: T = fut.result(timeout=timeout)\n",
      "             ^^^^^^^^^^^^^^^^^^^^^^^^^^^\n",
      "  File \"/home2/dev/themiraclesoft/anaconda3/lib/python3.11/concurrent/futures/_base.py\", line 458, in result\n",
      "    raise TimeoutError()\n",
      "TimeoutError\n",
      "Callback class OpenAICallback is registered for handling create but there are no endpoints waiting to receive the result.\n",
      "Callback class OpenAICallback is registered for handling create but there are no endpoints waiting to receive the result.\n",
      "Callback class OpenAICallback is registered for handling create but there are no endpoints waiting to receive the result.\n",
      "Callback class OpenAICallback is registered for handling create but there are no endpoints waiting to receive the result.\n",
      "Callback class OpenAICallback is registered for handling create but there are no endpoints waiting to receive the result.\n",
      "Callback class OpenAICallback is registered for handling create but there are no endpoints waiting to receive the result.\n",
      "Callback class OpenAICallback is registered for handling create but there are no endpoints waiting to receive the result.\n",
      "Callback class OpenAICallback is registered for handling create but there are no endpoints waiting to receive the result.\n",
      "Callback class OpenAICallback is registered for handling create but there are no endpoints waiting to receive the result.\n",
      "Callback class OpenAICallback is registered for handling create but there are no endpoints waiting to receive the result.\n",
      "Callback class OpenAICallback is registered for handling create but there are no endpoints waiting to receive the result.\n",
      "Callback class OpenAICallback is registered for handling create but there are no endpoints waiting to receive the result.\n",
      "Callback class OpenAICallback is registered for handling create but there are no endpoints waiting to receive the result.\n",
      "Callback class OpenAICallback is registered for handling create but there are no endpoints waiting to receive the result.\n",
      "Callback class OpenAICallback is registered for handling create but there are no endpoints waiting to receive the result.\n",
      "Callback class OpenAICallback is registered for handling create but there are no endpoints waiting to receive the result.\n",
      "Callback class OpenAICallback is registered for handling create but there are no endpoints waiting to receive the result.\n",
      "Callback class OpenAICallback is registered for handling create but there are no endpoints waiting to receive the result.\n",
      "Callback class OpenAICallback is registered for handling create but there are no endpoints waiting to receive the result.\n",
      "Callback class OpenAICallback is registered for handling create but there are no endpoints waiting to receive the result.\n",
      "Callback class OpenAICallback is registered for handling create but there are no endpoints waiting to receive the result.\n",
      "Callback class OpenAICallback is registered for handling create but there are no endpoints waiting to receive the result.\n"
     ]
    },
    {
     "name": "stderr",
     "output_type": "stream",
     "text": [
      "Callback class OpenAICallback is registered for handling create but there are no endpoints waiting to receive the result.\n",
      "Callback class OpenAICallback is registered for handling create but there are no endpoints waiting to receive the result.\n",
      "Callback class OpenAICallback is registered for handling create but there are no endpoints waiting to receive the result.\n",
      "Callback class OpenAICallback is registered for handling create but there are no endpoints waiting to receive the result.\n",
      "Callback class OpenAICallback is registered for handling create but there are no endpoints waiting to receive the result.\n",
      "Callback class OpenAICallback is registered for handling create but there are no endpoints waiting to receive the result.\n",
      "Callback class OpenAICallback is registered for handling create but there are no endpoints waiting to receive the result.\n",
      "Callback class OpenAICallback is registered for handling create but there are no endpoints waiting to receive the result.\n",
      "Callback class OpenAICallback is registered for handling create but there are no endpoints waiting to receive the result.\n",
      "Callback class OpenAICallback is registered for handling create but there are no endpoints waiting to receive the result.\n",
      "Callback class OpenAICallback is registered for handling create but there are no endpoints waiting to receive the result.\n",
      "Callback class OpenAICallback is registered for handling create but there are no endpoints waiting to receive the result.\n",
      "Callback class OpenAICallback is registered for handling create but there are no endpoints waiting to receive the result.\n",
      "Callback class OpenAICallback is registered for handling create but there are no endpoints waiting to receive the result.\n",
      "Callback class OpenAICallback is registered for handling create but there are no endpoints waiting to receive the result.\n",
      "Callback class OpenAICallback is registered for handling create but there are no endpoints waiting to receive the result.\n",
      "Callback class OpenAICallback is registered for handling create but there are no endpoints waiting to receive the result.\n",
      "Callback class OpenAICallback is registered for handling create but there are no endpoints waiting to receive the result.\n",
      "Callback class OpenAICallback is registered for handling create but there are no endpoints waiting to receive the result.\n",
      "Callback class OpenAICallback is registered for handling create but there are no endpoints waiting to receive the result.\n",
      "Callback class OpenAICallback is registered for handling create but there are no endpoints waiting to receive the result.\n",
      "Callback class OpenAICallback is registered for handling create but there are no endpoints waiting to receive the result.\n",
      "Callback class OpenAICallback is registered for handling create but there are no endpoints waiting to receive the result.\n",
      "Callback class OpenAICallback is registered for handling create but there are no endpoints waiting to receive the result.\n",
      "Callback class OpenAICallback is registered for handling create but there are no endpoints waiting to receive the result.\n",
      "Callback class OpenAICallback is registered for handling create but there are no endpoints waiting to receive the result.\n",
      "Callback class OpenAICallback is registered for handling create but there are no endpoints waiting to receive the result.\n",
      "Callback class OpenAICallback is registered for handling create but there are no endpoints waiting to receive the result.\n"
     ]
    }
   ],
   "source": [
    "run_evals(eval_questions, tru_recorder_4, sentence_window_engine_4)"
   ]
  },
  {
   "cell_type": "code",
   "execution_count": 83,
   "id": "6d6babd3",
   "metadata": {
    "height": 30,
    "scrolled": true
   },
   "outputs": [
    {
     "name": "stdout",
     "output_type": "stream",
     "text": [
      "Starting dashboard ...\n",
      "Config file already exists. Skipping writing process.\n",
      "Credentials file already exists. Skipping writing process.\n",
      "Dashboard already running at path:   Network URL: http://10.10.1.8:8501\n",
      "\n"
     ]
    },
    {
     "data": {
      "text/plain": [
       "<Popen: returncode: None args: ['streamlit', 'run', '--server.headless=True'...>"
      ]
     },
     "execution_count": 83,
     "metadata": {},
     "output_type": "execute_result"
    }
   ],
   "source": [
    "Tru().run_dashboard()"
   ]
  },
  {
   "cell_type": "markdown",
   "id": "5f85ced1",
   "metadata": {},
   "source": [
    "### Sentence window size = 5"
   ]
  },
  {
   "cell_type": "code",
   "execution_count": 84,
   "id": "9fcc7dab",
   "metadata": {
    "height": 285
   },
   "outputs": [
    {
     "name": "stdout",
     "output_type": "stream",
     "text": [
      "✅ In Answer Relevance, input prompt will be set to __record__.main_input or `Select.RecordInput` .\n",
      "✅ In Answer Relevance, input response will be set to __record__.main_output or `Select.RecordOutput` .\n",
      "✅ In Context Relevance, input prompt will be set to __record__.main_input or `Select.RecordInput` .\n",
      "✅ In Context Relevance, input response will be set to __record__.app.query.rets.source_nodes[:].node.text .\n",
      "✅ In Groundedness, input source will be set to __record__.app.query.rets.source_nodes[:].node.text .\n",
      "✅ In Groundedness, input statement will be set to __record__.main_output or `Select.RecordOutput` .\n"
     ]
    }
   ],
   "source": [
    "sentence_index_5 = build_sentence_window_index(\n",
    "    documents,\n",
    "    llm=OpenAI(model=\"gpt-3.5-turbo\", temperature=0.1),\n",
    "    embed_model=\"local:BAAI/bge-small-en-v1.5\",\n",
    "    sentence_window_size=5,\n",
    "    save_dir=\"sentence_index_5\",\n",
    ")\n",
    "sentence_window_engine_5 = get_sentence_window_query_engine(\n",
    "    sentence_index_5\n",
    ")\n",
    "\n",
    "tru_recorder_5 = get_prebuilt_trulens_recorder(\n",
    "    sentence_window_engine_5,\n",
    "    app_id='sentence window engine 5'\n",
    ")"
   ]
  },
  {
   "cell_type": "code",
   "execution_count": 85,
   "id": "01c33f8c",
   "metadata": {
    "height": 47
   },
   "outputs": [
    {
     "name": "stderr",
     "output_type": "stream",
     "text": [
      "Callback class OpenAICallback is registered for handling create but there are no endpoints waiting to receive the result.\n",
      "Callback class OpenAICallback is registered for handling create but there are no endpoints waiting to receive the result.\n",
      "Callback class OpenAICallback is registered for handling create but there are no endpoints waiting to receive the result.\n",
      "Callback class OpenAICallback is registered for handling create but there are no endpoints waiting to receive the result.\n",
      "Callback class OpenAICallback is registered for handling create but there are no endpoints waiting to receive the result.\n",
      "Callback class OpenAICallback is registered for handling create but there are no endpoints waiting to receive the result.\n",
      "Callback class OpenAICallback is registered for handling create but there are no endpoints waiting to receive the result.\n",
      "Callback class OpenAICallback is registered for handling create but there are no endpoints waiting to receive the result.\n",
      "Callback class OpenAICallback is registered for handling create but there are no endpoints waiting to receive the result.\n",
      "Callback class OpenAICallback is registered for handling create but there are no endpoints waiting to receive the result.\n",
      "Callback class OpenAICallback is registered for handling create but there are no endpoints waiting to receive the result.\n",
      "Callback class OpenAICallback is registered for handling create but there are no endpoints waiting to receive the result.\n",
      "Callback class OpenAICallback is registered for handling create but there are no endpoints waiting to receive the result.\n",
      "Callback class OpenAICallback is registered for handling create but there are no endpoints waiting to receive the result.\n",
      "Callback class OpenAICallback is registered for handling create but there are no endpoints waiting to receive the result.\n",
      "Callback class OpenAICallback is registered for handling create but there are no endpoints waiting to receive the result.\n",
      "Callback class OpenAICallback is registered for handling create but there are no endpoints waiting to receive the result.\n",
      "Callback class OpenAICallback is registered for handling create but there are no endpoints waiting to receive the result.\n",
      "Callback class OpenAICallback is registered for handling create but there are no endpoints waiting to receive the result.\n",
      "Callback class OpenAICallback is registered for handling create but there are no endpoints waiting to receive the result.\n",
      "Callback class OpenAICallback is registered for handling create but there are no endpoints waiting to receive the result.\n",
      "Callback class OpenAICallback is registered for handling create but there are no endpoints waiting to receive the result.\n",
      "Callback class OpenAICallback is registered for handling create but there are no endpoints waiting to receive the result.\n",
      "Callback class OpenAICallback is registered for handling create but there are no endpoints waiting to receive the result.\n",
      "Callback class OpenAICallback is registered for handling create but there are no endpoints waiting to receive the result.\n",
      "Callback class OpenAICallback is registered for handling create but there are no endpoints waiting to receive the result.\n",
      "Callback class OpenAICallback is registered for handling create but there are no endpoints waiting to receive the result.\n",
      "Callback class OpenAICallback is registered for handling create but there are no endpoints waiting to receive the result.\n",
      "Callback class OpenAICallback is registered for handling create but there are no endpoints waiting to receive the result.\n",
      "Callback class OpenAICallback is registered for handling create but there are no endpoints waiting to receive the result.\n",
      "Callback class OpenAICallback is registered for handling create but there are no endpoints waiting to receive the result.\n",
      "Callback class OpenAICallback is registered for handling create but there are no endpoints waiting to receive the result.\n",
      "Callback class OpenAICallback is registered for handling create but there are no endpoints waiting to receive the result.\n",
      "Callback class OpenAICallback is registered for handling create but there are no endpoints waiting to receive the result.\n",
      "Callback class OpenAICallback is registered for handling create but there are no endpoints waiting to receive the result.\n",
      "Callback class OpenAICallback is registered for handling create but there are no endpoints waiting to receive the result.\n",
      "Callback class OpenAICallback is registered for handling create but there are no endpoints waiting to receive the result.\n",
      "Callback class OpenAICallback is registered for handling create but there are no endpoints waiting to receive the result.\n",
      "Callback class OpenAICallback is registered for handling create but there are no endpoints waiting to receive the result.\n",
      "Callback class OpenAICallback is registered for handling create but there are no endpoints waiting to receive the result.\n",
      "Callback class OpenAICallback is registered for handling create but there are no endpoints waiting to receive the result.\n",
      "Callback class OpenAICallback is registered for handling create but there are no endpoints waiting to receive the result.\n",
      "Callback class OpenAICallback is registered for handling create but there are no endpoints waiting to receive the result.\n",
      "Callback class OpenAICallback is registered for handling create but there are no endpoints waiting to receive the result.\n",
      "Callback class OpenAICallback is registered for handling create but there are no endpoints waiting to receive the result.\n",
      "Callback class OpenAICallback is registered for handling create but there are no endpoints waiting to receive the result.\n",
      "Callback class OpenAICallback is registered for handling create but there are no endpoints waiting to receive the result.\n",
      "Callback class OpenAICallback is registered for handling create but there are no endpoints waiting to receive the result.\n",
      "Callback class OpenAICallback is registered for handling create but there are no endpoints waiting to receive the result.\n",
      "Callback class OpenAICallback is registered for handling create but there are no endpoints waiting to receive the result.\n",
      "Callback class OpenAICallback is registered for handling create but there are no endpoints waiting to receive the result.\n",
      "Callback class OpenAICallback is registered for handling create but there are no endpoints waiting to receive the result.\n",
      "Callback class OpenAICallback is registered for handling create but there are no endpoints waiting to receive the result.\n",
      "Callback class OpenAICallback is registered for handling create but there are no endpoints waiting to receive the result.\n",
      "Callback class OpenAICallback is registered for handling create but there are no endpoints waiting to receive the result.\n",
      "Callback class OpenAICallback is registered for handling create but there are no endpoints waiting to receive the result.\n",
      "Callback class OpenAICallback is registered for handling create but there are no endpoints waiting to receive the result.\n",
      "Callback class OpenAICallback is registered for handling create but there are no endpoints waiting to receive the result.\n",
      "Callback class OpenAICallback is registered for handling create but there are no endpoints waiting to receive the result.\n",
      "Callback class OpenAICallback is registered for handling create but there are no endpoints waiting to receive the result.\n",
      "Callback class OpenAICallback is registered for handling create but there are no endpoints waiting to receive the result.\n",
      "Callback class OpenAICallback is registered for handling create but there are no endpoints waiting to receive the result.\n",
      "Callback class OpenAICallback is registered for handling create but there are no endpoints waiting to receive the result.\n",
      "Callback class OpenAICallback is registered for handling create but there are no endpoints waiting to receive the result.\n",
      "Callback class OpenAICallback is registered for handling create but there are no endpoints waiting to receive the result.\n",
      "Callback class OpenAICallback is registered for handling create but there are no endpoints waiting to receive the result.\n",
      "Callback class OpenAICallback is registered for handling create but there are no endpoints waiting to receive the result.\n",
      "Callback class OpenAICallback is registered for handling create but there are no endpoints waiting to receive the result.\n"
     ]
    },
    {
     "name": "stderr",
     "output_type": "stream",
     "text": [
      "Callback class OpenAICallback is registered for handling create but there are no endpoints waiting to receive the result.\n",
      "Callback class OpenAICallback is registered for handling create but there are no endpoints waiting to receive the result.\n",
      "Callback class OpenAICallback is registered for handling create but there are no endpoints waiting to receive the result.\n",
      "Callback class OpenAICallback is registered for handling create but there are no endpoints waiting to receive the result.\n",
      "Callback class OpenAICallback is registered for handling create but there are no endpoints waiting to receive the result.\n",
      "Callback class OpenAICallback is registered for handling create but there are no endpoints waiting to receive the result.\n",
      "Callback class OpenAICallback is registered for handling create but there are no endpoints waiting to receive the result.\n",
      "Callback class OpenAICallback is registered for handling create but there are no endpoints waiting to receive the result.\n",
      "Callback class OpenAICallback is registered for handling create but there are no endpoints waiting to receive the result.\n",
      "Callback class OpenAICallback is registered for handling create but there are no endpoints waiting to receive the result.\n",
      "Callback class OpenAICallback is registered for handling create but there are no endpoints waiting to receive the result.\n",
      "Callback class OpenAICallback is registered for handling create but there are no endpoints waiting to receive the result.\n",
      "Callback class OpenAICallback is registered for handling create but there are no endpoints waiting to receive the result.\n",
      "Callback class OpenAICallback is registered for handling create but there are no endpoints waiting to receive the result.\n",
      "Callback class OpenAICallback is registered for handling create but there are no endpoints waiting to receive the result.\n",
      "Callback class OpenAICallback is registered for handling create but there are no endpoints waiting to receive the result.\n",
      "Callback class OpenAICallback is registered for handling create but there are no endpoints waiting to receive the result.\n",
      "Callback class OpenAICallback is registered for handling create but there are no endpoints waiting to receive the result.\n",
      "Callback class OpenAICallback is registered for handling create but there are no endpoints waiting to receive the result.\n",
      "Callback class OpenAICallback is registered for handling create but there are no endpoints waiting to receive the result.\n",
      "Callback class OpenAICallback is registered for handling create but there are no endpoints waiting to receive the result.\n",
      "Callback class OpenAICallback is registered for handling create but there are no endpoints waiting to receive the result.\n",
      "Callback class OpenAICallback is registered for handling create but there are no endpoints waiting to receive the result.\n",
      "Callback class OpenAICallback is registered for handling create but there are no endpoints waiting to receive the result.\n",
      "Callback class OpenAICallback is registered for handling create but there are no endpoints waiting to receive the result.\n",
      "Callback class OpenAICallback is registered for handling create but there are no endpoints waiting to receive the result.\n",
      "Callback class OpenAICallback is registered for handling create but there are no endpoints waiting to receive the result.\n",
      "Callback class OpenAICallback is registered for handling create but there are no endpoints waiting to receive the result.\n",
      "Callback class OpenAICallback is registered for handling create but there are no endpoints waiting to receive the result.\n",
      "Callback class OpenAICallback is registered for handling create but there are no endpoints waiting to receive the result.\n",
      "Callback class OpenAICallback is registered for handling create but there are no endpoints waiting to receive the result.\n",
      "Callback class OpenAICallback is registered for handling create but there are no endpoints waiting to receive the result.\n",
      "Callback class OpenAICallback is registered for handling create but there are no endpoints waiting to receive the result.\n",
      "Callback class OpenAICallback is registered for handling create but there are no endpoints waiting to receive the result.\n",
      "Callback class OpenAICallback is registered for handling create but there are no endpoints waiting to receive the result.\n",
      "Callback class OpenAICallback is registered for handling create but there are no endpoints waiting to receive the result.\n",
      "Callback class OpenAICallback is registered for handling create but there are no endpoints waiting to receive the result.\n",
      "Callback class OpenAICallback is registered for handling create but there are no endpoints waiting to receive the result.\n",
      "Callback class OpenAICallback is registered for handling create but there are no endpoints waiting to receive the result.\n",
      "Callback class OpenAICallback is registered for handling create but there are no endpoints waiting to receive the result.\n",
      "Callback class OpenAICallback is registered for handling create but there are no endpoints waiting to receive the result.\n",
      "Callback class OpenAICallback is registered for handling create but there are no endpoints waiting to receive the result.\n",
      "Callback class OpenAICallback is registered for handling create but there are no endpoints waiting to receive the result.\n",
      "Callback class OpenAICallback is registered for handling create but there are no endpoints waiting to receive the result.\n",
      "Callback class OpenAICallback is registered for handling create but there are no endpoints waiting to receive the result.\n",
      "Callback class OpenAICallback is registered for handling create but there are no endpoints waiting to receive the result.\n",
      "Callback class OpenAICallback is registered for handling create but there are no endpoints waiting to receive the result.\n",
      "Callback class OpenAICallback is registered for handling create but there are no endpoints waiting to receive the result.\n",
      "Callback class OpenAICallback is registered for handling create but there are no endpoints waiting to receive the result.\n",
      "Callback class OpenAICallback is registered for handling create but there are no endpoints waiting to receive the result.\n",
      "Callback class OpenAICallback is registered for handling create but there are no endpoints waiting to receive the result.\n",
      "Callback class OpenAICallback is registered for handling create but there are no endpoints waiting to receive the result.\n",
      "Callback class OpenAICallback is registered for handling create but there are no endpoints waiting to receive the result.\n",
      "Callback class OpenAICallback is registered for handling create but there are no endpoints waiting to receive the result.\n",
      "Callback class OpenAICallback is registered for handling create but there are no endpoints waiting to receive the result.\n",
      "Callback class OpenAICallback is registered for handling create but there are no endpoints waiting to receive the result.\n",
      "Callback class OpenAICallback is registered for handling create but there are no endpoints waiting to receive the result.\n",
      "Callback class OpenAICallback is registered for handling create but there are no endpoints waiting to receive the result.\n",
      "Callback class OpenAICallback is registered for handling create but there are no endpoints waiting to receive the result.\n",
      "Callback class OpenAICallback is registered for handling create but there are no endpoints waiting to receive the result.\n",
      "Callback class OpenAICallback is registered for handling create but there are no endpoints waiting to receive the result.\n",
      "Callback class OpenAICallback is registered for handling create but there are no endpoints waiting to receive the result.\n",
      "Callback class OpenAICallback is registered for handling create but there are no endpoints waiting to receive the result.\n",
      "Callback class OpenAICallback is registered for handling create but there are no endpoints waiting to receive the result.\n",
      "Callback class OpenAICallback is registered for handling create but there are no endpoints waiting to receive the result.\n",
      "Callback class OpenAICallback is registered for handling create but there are no endpoints waiting to receive the result.\n",
      "Callback class OpenAICallback is registered for handling create but there are no endpoints waiting to receive the result.\n",
      "Callback class OpenAICallback is registered for handling create but there are no endpoints waiting to receive the result.\n"
     ]
    },
    {
     "name": "stderr",
     "output_type": "stream",
     "text": [
      "Callback class OpenAICallback is registered for handling create but there are no endpoints waiting to receive the result.\n",
      "Callback class OpenAICallback is registered for handling create but there are no endpoints waiting to receive the result.\n",
      "Callback class OpenAICallback is registered for handling create but there are no endpoints waiting to receive the result.\n",
      "Callback class OpenAICallback is registered for handling create but there are no endpoints waiting to receive the result.\n",
      "Callback class OpenAICallback is registered for handling create but there are no endpoints waiting to receive the result.\n",
      "Callback class OpenAICallback is registered for handling create but there are no endpoints waiting to receive the result.\n",
      "Callback class OpenAICallback is registered for handling create but there are no endpoints waiting to receive the result.\n",
      "Callback class OpenAICallback is registered for handling create but there are no endpoints waiting to receive the result.\n",
      "Callback class OpenAICallback is registered for handling create but there are no endpoints waiting to receive the result.\n",
      "Callback class OpenAICallback is registered for handling create but there are no endpoints waiting to receive the result.\n",
      "Callback class OpenAICallback is registered for handling create but there are no endpoints waiting to receive the result.\n",
      "Callback class OpenAICallback is registered for handling create but there are no endpoints waiting to receive the result.\n",
      "Callback class OpenAICallback is registered for handling create but there are no endpoints waiting to receive the result.\n"
     ]
    }
   ],
   "source": [
    "run_evals(eval_questions, tru_recorder_5, sentence_window_engine_5)"
   ]
  },
  {
   "cell_type": "code",
   "execution_count": 86,
   "id": "8f7bb509",
   "metadata": {
    "height": 30,
    "scrolled": true
   },
   "outputs": [
    {
     "name": "stdout",
     "output_type": "stream",
     "text": [
      "Starting dashboard ...\n",
      "Config file already exists. Skipping writing process.\n",
      "Credentials file already exists. Skipping writing process.\n",
      "Dashboard already running at path:   Network URL: http://10.10.1.8:8501\n",
      "\n"
     ]
    },
    {
     "data": {
      "text/plain": [
       "<Popen: returncode: None args: ['streamlit', 'run', '--server.headless=True'...>"
      ]
     },
     "execution_count": 86,
     "metadata": {},
     "output_type": "execute_result"
    }
   ],
   "source": [
    "Tru().run_dashboard()"
   ]
  },
  {
   "cell_type": "markdown",
   "id": "b5bf52c7",
   "metadata": {},
   "source": [
    "### Sentence window size = 6"
   ]
  },
  {
   "cell_type": "code",
   "execution_count": 87,
   "id": "24121dd8",
   "metadata": {
    "height": 285
   },
   "outputs": [
    {
     "name": "stderr",
     "output_type": "stream",
     "text": [
      "Callback class OpenAICallback is registered for handling create but there are no endpoints waiting to receive the result.\n"
     ]
    },
    {
     "name": "stdout",
     "output_type": "stream",
     "text": [
      "✅ In Answer Relevance, input prompt will be set to __record__.main_input or `Select.RecordInput` .\n",
      "✅ In Answer Relevance, input response will be set to __record__.main_output or `Select.RecordOutput` .\n",
      "✅ In Context Relevance, input prompt will be set to __record__.main_input or `Select.RecordInput` .\n",
      "✅ In Context Relevance, input response will be set to __record__.app.query.rets.source_nodes[:].node.text .\n",
      "✅ In Groundedness, input source will be set to __record__.app.query.rets.source_nodes[:].node.text .\n",
      "✅ In Groundedness, input statement will be set to __record__.main_output or `Select.RecordOutput` .\n"
     ]
    }
   ],
   "source": [
    "sentence_index_6 = build_sentence_window_index(\n",
    "    documents,\n",
    "    llm=OpenAI(model=\"gpt-3.5-turbo\", temperature=0.1),\n",
    "    embed_model=\"local:BAAI/bge-small-en-v1.5\",\n",
    "    sentence_window_size=6,\n",
    "    save_dir=\"sentence_index_6\",\n",
    ")\n",
    "sentence_window_engine_6 = get_sentence_window_query_engine(\n",
    "    sentence_index_6\n",
    ")\n",
    "\n",
    "tru_recorder_6 = get_prebuilt_trulens_recorder(\n",
    "    sentence_window_engine_6,\n",
    "    app_id='sentence window engine 6'\n",
    ")"
   ]
  },
  {
   "cell_type": "code",
   "execution_count": 88,
   "id": "2d72eb1b",
   "metadata": {
    "height": 47
   },
   "outputs": [
    {
     "name": "stderr",
     "output_type": "stream",
     "text": [
      "Callback class OpenAICallback is registered for handling create but there are no endpoints waiting to receive the result.\n",
      "Callback class OpenAICallback is registered for handling create but there are no endpoints waiting to receive the result.\n",
      "Callback class OpenAICallback is registered for handling create but there are no endpoints waiting to receive the result.\n",
      "Callback class OpenAICallback is registered for handling create but there are no endpoints waiting to receive the result.\n",
      "Callback class OpenAICallback is registered for handling create but there are no endpoints waiting to receive the result.\n",
      "Callback class OpenAICallback is registered for handling create but there are no endpoints waiting to receive the result.\n",
      "Callback class OpenAICallback is registered for handling create but there are no endpoints waiting to receive the result.\n",
      "Callback class OpenAICallback is registered for handling create but there are no endpoints waiting to receive the result.\n",
      "Callback class OpenAICallback is registered for handling create but there are no endpoints waiting to receive the result.\n",
      "Callback class OpenAICallback is registered for handling create but there are no endpoints waiting to receive the result.\n",
      "Callback class OpenAICallback is registered for handling create but there are no endpoints waiting to receive the result.\n",
      "Callback class OpenAICallback is registered for handling create but there are no endpoints waiting to receive the result.\n",
      "Callback class OpenAICallback is registered for handling create but there are no endpoints waiting to receive the result.\n",
      "Callback class OpenAICallback is registered for handling create but there are no endpoints waiting to receive the result.\n",
      "Callback class OpenAICallback is registered for handling create but there are no endpoints waiting to receive the result.\n",
      "Callback class OpenAICallback is registered for handling create but there are no endpoints waiting to receive the result.\n",
      "Callback class OpenAICallback is registered for handling create but there are no endpoints waiting to receive the result.\n",
      "Callback class OpenAICallback is registered for handling create but there are no endpoints waiting to receive the result.\n",
      "Callback class OpenAICallback is registered for handling create but there are no endpoints waiting to receive the result.\n",
      "Callback class OpenAICallback is registered for handling create but there are no endpoints waiting to receive the result.\n",
      "Callback class OpenAICallback is registered for handling create but there are no endpoints waiting to receive the result.\n",
      "Callback class OpenAICallback is registered for handling create but there are no endpoints waiting to receive the result.\n",
      "Callback class OpenAICallback is registered for handling create but there are no endpoints waiting to receive the result.\n",
      "Callback class OpenAICallback is registered for handling create but there are no endpoints waiting to receive the result.\n",
      "Callback class OpenAICallback is registered for handling create but there are no endpoints waiting to receive the result.\n",
      "Callback class OpenAICallback is registered for handling create but there are no endpoints waiting to receive the result.\n",
      "Callback class OpenAICallback is registered for handling create but there are no endpoints waiting to receive the result.\n",
      "Callback class OpenAICallback is registered for handling create but there are no endpoints waiting to receive the result.\n",
      "Callback class OpenAICallback is registered for handling create but there are no endpoints waiting to receive the result.\n",
      "Callback class OpenAICallback is registered for handling create but there are no endpoints waiting to receive the result.\n",
      "Callback class OpenAICallback is registered for handling create but there are no endpoints waiting to receive the result.\n",
      "Callback class OpenAICallback is registered for handling create but there are no endpoints waiting to receive the result.\n",
      "Callback class OpenAICallback is registered for handling create but there are no endpoints waiting to receive the result.\n",
      "Callback class OpenAICallback is registered for handling create but there are no endpoints waiting to receive the result.\n",
      "Callback class OpenAICallback is registered for handling create but there are no endpoints waiting to receive the result.\n",
      "Callback class OpenAICallback is registered for handling create but there are no endpoints waiting to receive the result.\n",
      "Callback class OpenAICallback is registered for handling create but there are no endpoints waiting to receive the result.\n",
      "Callback class OpenAICallback is registered for handling create but there are no endpoints waiting to receive the result.\n",
      "Callback class OpenAICallback is registered for handling create but there are no endpoints waiting to receive the result.\n",
      "Callback class OpenAICallback is registered for handling create but there are no endpoints waiting to receive the result.\n",
      "Callback class OpenAICallback is registered for handling create but there are no endpoints waiting to receive the result.\n",
      "Callback class OpenAICallback is registered for handling create but there are no endpoints waiting to receive the result.\n",
      "Callback class OpenAICallback is registered for handling create but there are no endpoints waiting to receive the result.\n",
      "Callback class OpenAICallback is registered for handling create but there are no endpoints waiting to receive the result.\n",
      "Callback class OpenAICallback is registered for handling create but there are no endpoints waiting to receive the result.\n",
      "Callback class OpenAICallback is registered for handling create but there are no endpoints waiting to receive the result.\n",
      "Callback class OpenAICallback is registered for handling create but there are no endpoints waiting to receive the result.\n",
      "Callback class OpenAICallback is registered for handling create but there are no endpoints waiting to receive the result.\n",
      "Callback class OpenAICallback is registered for handling create but there are no endpoints waiting to receive the result.\n",
      "Callback class OpenAICallback is registered for handling create but there are no endpoints waiting to receive the result.\n",
      "Callback class OpenAICallback is registered for handling create but there are no endpoints waiting to receive the result.\n",
      "Callback class OpenAICallback is registered for handling create but there are no endpoints waiting to receive the result.\n",
      "Callback class OpenAICallback is registered for handling create but there are no endpoints waiting to receive the result.\n",
      "Callback class OpenAICallback is registered for handling create but there are no endpoints waiting to receive the result.\n",
      "Callback class OpenAICallback is registered for handling create but there are no endpoints waiting to receive the result.\n",
      "Callback class OpenAICallback is registered for handling create but there are no endpoints waiting to receive the result.\n",
      "Callback class OpenAICallback is registered for handling create but there are no endpoints waiting to receive the result.\n",
      "Callback class OpenAICallback is registered for handling create but there are no endpoints waiting to receive the result.\n",
      "Callback class OpenAICallback is registered for handling create but there are no endpoints waiting to receive the result.\n",
      "Callback class OpenAICallback is registered for handling create but there are no endpoints waiting to receive the result.\n",
      "Callback class OpenAICallback is registered for handling create but there are no endpoints waiting to receive the result.\n",
      "Callback class OpenAICallback is registered for handling create but there are no endpoints waiting to receive the result.\n",
      "Callback class OpenAICallback is registered for handling create but there are no endpoints waiting to receive the result.\n",
      "Callback class OpenAICallback is registered for handling create but there are no endpoints waiting to receive the result.\n",
      "Callback class OpenAICallback is registered for handling create but there are no endpoints waiting to receive the result.\n",
      "Callback class OpenAICallback is registered for handling create but there are no endpoints waiting to receive the result.\n",
      "Callback class OpenAICallback is registered for handling create but there are no endpoints waiting to receive the result.\n",
      "Callback class OpenAICallback is registered for handling create but there are no endpoints waiting to receive the result.\n"
     ]
    },
    {
     "name": "stderr",
     "output_type": "stream",
     "text": [
      "Callback class OpenAICallback is registered for handling create but there are no endpoints waiting to receive the result.\n",
      "Callback class OpenAICallback is registered for handling create but there are no endpoints waiting to receive the result.\n",
      "Callback class OpenAICallback is registered for handling create but there are no endpoints waiting to receive the result.\n",
      "Callback class OpenAICallback is registered for handling create but there are no endpoints waiting to receive the result.\n",
      "Callback class OpenAICallback is registered for handling create but there are no endpoints waiting to receive the result.\n",
      "Callback class OpenAICallback is registered for handling create but there are no endpoints waiting to receive the result.\n",
      "Callback class OpenAICallback is registered for handling create but there are no endpoints waiting to receive the result.\n",
      "Callback class OpenAICallback is registered for handling create but there are no endpoints waiting to receive the result.\n",
      "Callback class OpenAICallback is registered for handling create but there are no endpoints waiting to receive the result.\n",
      "Callback class OpenAICallback is registered for handling create but there are no endpoints waiting to receive the result.\n",
      "Callback class OpenAICallback is registered for handling create but there are no endpoints waiting to receive the result.\n",
      "Callback class OpenAICallback is registered for handling create but there are no endpoints waiting to receive the result.\n",
      "Callback class OpenAICallback is registered for handling create but there are no endpoints waiting to receive the result.\n",
      "Callback class OpenAICallback is registered for handling create but there are no endpoints waiting to receive the result.\n",
      "Callback class OpenAICallback is registered for handling create but there are no endpoints waiting to receive the result.\n",
      "Callback class OpenAICallback is registered for handling create but there are no endpoints waiting to receive the result.\n",
      "Callback class OpenAICallback is registered for handling create but there are no endpoints waiting to receive the result.\n",
      "Callback class OpenAICallback is registered for handling create but there are no endpoints waiting to receive the result.\n",
      "Callback class OpenAICallback is registered for handling create but there are no endpoints waiting to receive the result.\n",
      "Callback class OpenAICallback is registered for handling create but there are no endpoints waiting to receive the result.\n",
      "Callback class OpenAICallback is registered for handling create but there are no endpoints waiting to receive the result.\n",
      "Callback class OpenAICallback is registered for handling create but there are no endpoints waiting to receive the result.\n",
      "Callback class OpenAICallback is registered for handling create but there are no endpoints waiting to receive the result.\n",
      "Callback class OpenAICallback is registered for handling create but there are no endpoints waiting to receive the result.\n",
      "Callback class OpenAICallback is registered for handling create but there are no endpoints waiting to receive the result.\n",
      "Callback class OpenAICallback is registered for handling create but there are no endpoints waiting to receive the result.\n",
      "Callback class OpenAICallback is registered for handling create but there are no endpoints waiting to receive the result.\n",
      "Callback class OpenAICallback is registered for handling create but there are no endpoints waiting to receive the result.\n",
      "Callback class OpenAICallback is registered for handling create but there are no endpoints waiting to receive the result.\n",
      "Callback class OpenAICallback is registered for handling create but there are no endpoints waiting to receive the result.\n",
      "Callback class OpenAICallback is registered for handling create but there are no endpoints waiting to receive the result.\n",
      "Callback class OpenAICallback is registered for handling create but there are no endpoints waiting to receive the result.\n",
      "Callback class OpenAICallback is registered for handling create but there are no endpoints waiting to receive the result.\n",
      "Callback class OpenAICallback is registered for handling create but there are no endpoints waiting to receive the result.\n",
      "Callback class OpenAICallback is registered for handling create but there are no endpoints waiting to receive the result.\n",
      "Callback class OpenAICallback is registered for handling create but there are no endpoints waiting to receive the result.\n",
      "Callback class OpenAICallback is registered for handling create but there are no endpoints waiting to receive the result.\n",
      "Callback class OpenAICallback is registered for handling create but there are no endpoints waiting to receive the result.\n",
      "Callback class OpenAICallback is registered for handling create but there are no endpoints waiting to receive the result.\n",
      "Callback class OpenAICallback is registered for handling create but there are no endpoints waiting to receive the result.\n",
      "Callback class OpenAICallback is registered for handling create but there are no endpoints waiting to receive the result.\n",
      "Callback class OpenAICallback is registered for handling create but there are no endpoints waiting to receive the result.\n",
      "Callback class OpenAICallback is registered for handling create but there are no endpoints waiting to receive the result.\n",
      "Callback class OpenAICallback is registered for handling create but there are no endpoints waiting to receive the result.\n",
      "Callback class OpenAICallback is registered for handling create but there are no endpoints waiting to receive the result.\n",
      "Callback class OpenAICallback is registered for handling create but there are no endpoints waiting to receive the result.\n",
      "Callback class OpenAICallback is registered for handling create but there are no endpoints waiting to receive the result.\n",
      "Callback class OpenAICallback is registered for handling create but there are no endpoints waiting to receive the result.\n",
      "Callback class OpenAICallback is registered for handling create but there are no endpoints waiting to receive the result.\n",
      "Callback class OpenAICallback is registered for handling create but there are no endpoints waiting to receive the result.\n",
      "Callback class OpenAICallback is registered for handling create but there are no endpoints waiting to receive the result.\n",
      "Callback class OpenAICallback is registered for handling create but there are no endpoints waiting to receive the result.\n",
      "Callback class OpenAICallback is registered for handling create but there are no endpoints waiting to receive the result.\n",
      "Callback class OpenAICallback is registered for handling create but there are no endpoints waiting to receive the result.\n",
      "Callback class OpenAICallback is registered for handling create but there are no endpoints waiting to receive the result.\n",
      "Callback class OpenAICallback is registered for handling create but there are no endpoints waiting to receive the result.\n",
      "Callback class OpenAICallback is registered for handling create but there are no endpoints waiting to receive the result.\n",
      "Callback class OpenAICallback is registered for handling create but there are no endpoints waiting to receive the result.\n",
      "Callback class OpenAICallback is registered for handling create but there are no endpoints waiting to receive the result.\n",
      "Callback class OpenAICallback is registered for handling create but there are no endpoints waiting to receive the result.\n",
      "Callback class OpenAICallback is registered for handling create but there are no endpoints waiting to receive the result.\n",
      "Callback class OpenAICallback is registered for handling create but there are no endpoints waiting to receive the result.\n",
      "Callback class OpenAICallback is registered for handling create but there are no endpoints waiting to receive the result.\n",
      "Callback class OpenAICallback is registered for handling create but there are no endpoints waiting to receive the result.\n",
      "Callback class OpenAICallback is registered for handling create but there are no endpoints waiting to receive the result.\n",
      "Callback class OpenAICallback is registered for handling create but there are no endpoints waiting to receive the result.\n",
      "Callback class OpenAICallback is registered for handling create but there are no endpoints waiting to receive the result.\n",
      "Callback class OpenAICallback is registered for handling create but there are no endpoints waiting to receive the result.\n"
     ]
    },
    {
     "name": "stderr",
     "output_type": "stream",
     "text": [
      "Callback class OpenAICallback is registered for handling create but there are no endpoints waiting to receive the result.\n",
      "Callback class OpenAICallback is registered for handling create but there are no endpoints waiting to receive the result.\n",
      "Callback class OpenAICallback is registered for handling create but there are no endpoints waiting to receive the result.\n",
      "Callback class OpenAICallback is registered for handling create but there are no endpoints waiting to receive the result.\n",
      "Callback class OpenAICallback is registered for handling create but there are no endpoints waiting to receive the result.\n",
      "Callback class OpenAICallback is registered for handling create but there are no endpoints waiting to receive the result.\n",
      "Callback class OpenAICallback is registered for handling create but there are no endpoints waiting to receive the result.\n",
      "Callback class OpenAICallback is registered for handling create but there are no endpoints waiting to receive the result.\n",
      "Callback class OpenAICallback is registered for handling create but there are no endpoints waiting to receive the result.\n",
      "Callback class OpenAICallback is registered for handling create but there are no endpoints waiting to receive the result.\n",
      "Callback class OpenAICallback is registered for handling create but there are no endpoints waiting to receive the result.\n",
      "Callback class OpenAICallback is registered for handling create but there are no endpoints waiting to receive the result.\n",
      "Callback class OpenAICallback is registered for handling create but there are no endpoints waiting to receive the result.\n"
     ]
    }
   ],
   "source": [
    "run_evals(eval_questions, tru_recorder_6, sentence_window_engine_6)"
   ]
  },
  {
   "cell_type": "code",
   "execution_count": 89,
   "id": "51081585",
   "metadata": {
    "height": 30,
    "scrolled": true
   },
   "outputs": [
    {
     "name": "stdout",
     "output_type": "stream",
     "text": [
      "Starting dashboard ...\n",
      "Config file already exists. Skipping writing process.\n",
      "Credentials file already exists. Skipping writing process.\n",
      "Dashboard already running at path:   Network URL: http://10.10.1.8:8501\n",
      "\n"
     ]
    },
    {
     "data": {
      "text/plain": [
       "<Popen: returncode: None args: ['streamlit', 'run', '--server.headless=True'...>"
      ]
     },
     "execution_count": 89,
     "metadata": {},
     "output_type": "execute_result"
    },
    {
     "name": "stderr",
     "output_type": "stream",
     "text": [
      "Callback class OpenAICallback is registered for handling create but there are no endpoints waiting to receive the result.\n",
      "Callback class OpenAICallback is registered for handling create but there are no endpoints waiting to receive the result.\n",
      "Callback class OpenAICallback is registered for handling create but there are no endpoints waiting to receive the result.\n",
      "Callback class OpenAICallback is registered for handling create but there are no endpoints waiting to receive the result.\n",
      "Callback class OpenAICallback is registered for handling create but there are no endpoints waiting to receive the result.\n",
      "Callback class OpenAICallback is registered for handling create but there are no endpoints waiting to receive the result.\n",
      "Callback class OpenAICallback is registered for handling create but there are no endpoints waiting to receive the result.\n",
      "Callback class OpenAICallback is registered for handling create but there are no endpoints waiting to receive the result.\n",
      "Callback class OpenAICallback is registered for handling create but there are no endpoints waiting to receive the result.\n",
      "Callback class OpenAICallback is registered for handling create but there are no endpoints waiting to receive the result.\n",
      "Callback class OpenAICallback is registered for handling create but there are no endpoints waiting to receive the result.\n",
      "Callback class OpenAICallback is registered for handling create but there are no endpoints waiting to receive the result.\n"
     ]
    }
   ],
   "source": [
    "Tru().run_dashboard()"
   ]
  },
  {
   "cell_type": "code",
   "execution_count": null,
   "id": "03bbb298",
   "metadata": {},
   "outputs": [],
   "source": []
  }
 ],
 "metadata": {
  "kernelspec": {
   "display_name": "Python 3 (ipykernel)",
   "language": "python",
   "name": "python3"
  },
  "language_info": {
   "codemirror_mode": {
    "name": "ipython",
    "version": 3
   },
   "file_extension": ".py",
   "mimetype": "text/x-python",
   "name": "python",
   "nbconvert_exporter": "python",
   "pygments_lexer": "ipython3",
   "version": "3.11.5"
  }
 },
 "nbformat": 4,
 "nbformat_minor": 5
}
