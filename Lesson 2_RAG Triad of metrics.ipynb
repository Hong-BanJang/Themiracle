{
 "cells": [
  {
   "cell_type": "markdown",
   "id": "dd1677d9",
   "metadata": {
    "id": "X6-q-gTUaZU7",
    "tags": []
   },
   "source": [
    "# Lesson 2: RAG Triad of metrics"
   ]
  },
  {
   "cell_type": "code",
   "execution_count": 1,
   "id": "1b1f3247",
   "metadata": {
    "height": 47
   },
   "outputs": [],
   "source": [
    "import warnings\n",
    "warnings.filterwarnings('ignore')"
   ]
  },
  {
   "cell_type": "code",
   "execution_count": 2,
   "id": "cd73fc5d",
   "metadata": {
    "height": 98
   },
   "outputs": [],
   "source": [
    "import utils\n",
    "\n",
    "import os\n",
    "import openai\n",
    "openai.api_key = utils.get_openai_api_key()"
   ]
  },
  {
   "cell_type": "code",
   "execution_count": 3,
   "id": "eadd5edf",
   "metadata": {
    "height": 81,
    "id": "IBfdyn3MaZU9"
   },
   "outputs": [
    {
     "name": "stdout",
     "output_type": "stream",
     "text": [
      "🦑 Tru initialized with db url sqlite:///default.sqlite .\n",
      "🛑 Secret keys may be written to the database. See the `database_redact_keys` option of `Tru` to prevent this.\n"
     ]
    }
   ],
   "source": [
    "from trulens_eval import Tru\n",
    "\n",
    "tru = Tru()\n",
    "tru.reset_database()"
   ]
  },
  {
   "cell_type": "code",
   "execution_count": 4,
   "id": "866b70f9",
   "metadata": {
    "height": 98,
    "id": "wMvq1q8yaZU-"
   },
   "outputs": [],
   "source": [
    "from llama_index import SimpleDirectoryReader\n",
    "\n",
    "documents = SimpleDirectoryReader(\n",
    "    input_files=[\"./eBook-How-to-Build-a-Career-in-AI.pdf\"]\n",
    ").load_data()"
   ]
  },
  {
   "cell_type": "code",
   "execution_count": 5,
   "id": "5b32d142",
   "metadata": {
    "height": 81,
    "id": "sY8Oui4taZU-"
   },
   "outputs": [],
   "source": [
    "from llama_index import Document\n",
    "\n",
    "document = Document(text=\"\\n\\n\".\\\n",
    "                    join([doc.text for doc in documents]))"
   ]
  },
  {
   "cell_type": "code",
   "execution_count": 6,
   "id": "ae1c1007",
   "metadata": {
    "height": 217
   },
   "outputs": [],
   "source": [
    "from utils import build_sentence_window_index\n",
    "\n",
    "from llama_index.llms import OpenAI\n",
    "\n",
    "llm = OpenAI(model=\"gpt-3.5-turbo\", temperature=0.1)\n",
    "\n",
    "sentence_index = build_sentence_window_index(\n",
    "    document,\n",
    "    llm,\n",
    "    embed_model=\"local:BAAI/bge-small-en-v1.5\",\n",
    "    save_dir=\"sentence_index\"\n",
    ")"
   ]
  },
  {
   "cell_type": "code",
   "execution_count": 7,
   "id": "65c7cacf",
   "metadata": {
    "height": 81
   },
   "outputs": [],
   "source": [
    "from utils import get_sentence_window_query_engine\n",
    "\n",
    "sentence_window_engine = \\\n",
    "get_sentence_window_query_engine(sentence_index)"
   ]
  },
  {
   "cell_type": "code",
   "execution_count": 8,
   "id": "656d4f88",
   "metadata": {
    "height": 64
   },
   "outputs": [
    {
     "data": {
      "text/plain": [
       "'To create your AI portfolio, you should focus on building a collection of projects that demonstrate your skill progression. This can be achieved by starting with simpler projects and gradually increasing the complexity as you gain more experience. Additionally, it is important to ensure that your portfolio showcases a variety of AI techniques and applications to highlight your versatility and breadth of knowledge. By following this approach, you can effectively showcase your skills and attract potential employers in the field of AI.'"
      ]
     },
     "execution_count": 8,
     "metadata": {},
     "output_type": "execute_result"
    }
   ],
   "source": [
    "output = sentence_window_engine.query(\n",
    "    \"How do you create your AI portfolio?\")\n",
    "output.response"
   ]
  },
  {
   "cell_type": "markdown",
   "id": "ff4cdea3",
   "metadata": {},
   "source": [
    "## Feedback functions"
   ]
  },
  {
   "cell_type": "code",
   "execution_count": 9,
   "id": "72e02194",
   "metadata": {
    "height": 64,
    "id": "5KqV-IbQaZVB"
   },
   "outputs": [],
   "source": [
    "import nest_asyncio\n",
    "\n",
    "nest_asyncio.apply()"
   ]
  },
  {
   "cell_type": "code",
   "execution_count": 10,
   "id": "8e144476",
   "metadata": {
    "height": 64
   },
   "outputs": [],
   "source": [
    "from trulens_eval import OpenAI as fOpenAI\n",
    "\n",
    "provider = fOpenAI(api_key=\"Your api_key\")\n"
   ]
  },
  {
   "cell_type": "markdown",
   "id": "01d54927",
   "metadata": {},
   "source": [
    "### 1. Answer Relevance"
   ]
  },
  {
   "cell_type": "code",
   "execution_count": 11,
   "id": "262aa203",
   "metadata": {
    "height": 115
   },
   "outputs": [
    {
     "name": "stdout",
     "output_type": "stream",
     "text": [
      "✅ In Answer Relevance, input prompt will be set to __record__.main_input or `Select.RecordInput` .\n",
      "✅ In Answer Relevance, input response will be set to __record__.main_output or `Select.RecordOutput` .\n"
     ]
    }
   ],
   "source": [
    "from trulens_eval import Feedback\n",
    "\n",
    "f_qa_relevance = Feedback(\n",
    "    provider.relevance_with_cot_reasons,\n",
    "    name=\"Answer Relevance\"\n",
    ").on_input_output()"
   ]
  },
  {
   "cell_type": "markdown",
   "id": "1685454c",
   "metadata": {},
   "source": [
    "### 2. Context Relevance"
   ]
  },
  {
   "cell_type": "code",
   "execution_count": 12,
   "id": "7373bb6b",
   "metadata": {
    "height": 64
   },
   "outputs": [],
   "source": [
    "from trulens_eval import TruLlama\n",
    "\n",
    "context_selection = TruLlama.select_source_nodes().node.text"
   ]
  },
  {
   "cell_type": "code",
   "execution_count": 13,
   "id": "1cacefd3",
   "metadata": {
    "height": 166
   },
   "outputs": [
    {
     "name": "stdout",
     "output_type": "stream",
     "text": [
      "✅ In Context Relevance, input question will be set to __record__.main_input or `Select.RecordInput` .\n",
      "✅ In Context Relevance, input statement will be set to __record__.app.query.rets.source_nodes[:].node.text .\n"
     ]
    }
   ],
   "source": [
    "import numpy as np\n",
    "\n",
    "f_qs_relevance = (\n",
    "    Feedback(provider.qs_relevance,\n",
    "             name=\"Context Relevance\")\n",
    "    .on_input()\n",
    "    .on(context_selection)\n",
    "    .aggregate(np.mean)\n",
    ")"
   ]
  },
  {
   "cell_type": "code",
   "execution_count": 14,
   "id": "791cc450",
   "metadata": {
    "height": 166
   },
   "outputs": [
    {
     "name": "stdout",
     "output_type": "stream",
     "text": [
      "✅ In Context Relevance, input question will be set to __record__.main_input or `Select.RecordInput` .\n",
      "✅ In Context Relevance, input statement will be set to __record__.app.query.rets.source_nodes[:].node.text .\n"
     ]
    }
   ],
   "source": [
    "import numpy as np\n",
    "\n",
    "f_qs_relevance = (\n",
    "    Feedback(provider.qs_relevance_with_cot_reasons,\n",
    "             name=\"Context Relevance\")\n",
    "    .on_input()\n",
    "    .on(context_selection)\n",
    "    .aggregate(np.mean)\n",
    ")"
   ]
  },
  {
   "cell_type": "markdown",
   "id": "039526f7",
   "metadata": {},
   "source": [
    "### 3. Groundedness"
   ]
  },
  {
   "cell_type": "code",
   "execution_count": 15,
   "id": "c5fb5fec",
   "metadata": {
    "height": 64
   },
   "outputs": [],
   "source": [
    "from trulens_eval.feedback import Groundedness\n",
    "\n",
    "grounded = Groundedness(groundedness_provider=provider)"
   ]
  },
  {
   "cell_type": "code",
   "execution_count": 16,
   "id": "72d9cd7d",
   "metadata": {
    "height": 149,
    "id": "kXJBD4gfaZVC"
   },
   "outputs": [
    {
     "name": "stdout",
     "output_type": "stream",
     "text": [
      "✅ In Groundedness, input source will be set to __record__.app.query.rets.source_nodes[:].node.text .\n",
      "✅ In Groundedness, input statement will be set to __record__.main_output or `Select.RecordOutput` .\n"
     ]
    }
   ],
   "source": [
    "f_groundedness = (\n",
    "    Feedback(grounded.groundedness_measure_with_cot_reasons,\n",
    "             name=\"Groundedness\"\n",
    "            )\n",
    "    .on(context_selection)\n",
    "    .on_output()\n",
    "    .aggregate(grounded.grounded_statements_aggregator)\n",
    ")"
   ]
  },
  {
   "cell_type": "markdown",
   "id": "5bacc9a8",
   "metadata": {},
   "source": [
    "## Evaluation of the RAG application"
   ]
  },
  {
   "cell_type": "code",
   "execution_count": 17,
   "id": "91aee310",
   "metadata": {
    "height": 217,
    "id": "KUDHInR-aZVC"
   },
   "outputs": [],
   "source": [
    "from trulens_eval import TruLlama\n",
    "from trulens_eval import FeedbackMode\n",
    "\n",
    "tru_recorder = TruLlama(\n",
    "    sentence_window_engine,\n",
    "    app_id=\"App_1\",\n",
    "    feedbacks=[\n",
    "        f_qa_relevance,\n",
    "        f_qs_relevance,\n",
    "        f_groundedness\n",
    "    ]\n",
    ")"
   ]
  },
  {
   "cell_type": "code",
   "execution_count": 18,
   "id": "ec893460",
   "metadata": {
    "height": 115,
    "id": "dsA3ziw1aZVD"
   },
   "outputs": [],
   "source": [
    "eval_questions = []\n",
    "with open('eval_questions.txt', 'r') as file:\n",
    "    for line in file:\n",
    "        # Remove newline character and convert to integer\n",
    "        item = line.strip()\n",
    "        eval_questions.append(item)"
   ]
  },
  {
   "cell_type": "code",
   "execution_count": 19,
   "id": "febeea1b",
   "metadata": {
    "height": 30
   },
   "outputs": [
    {
     "data": {
      "text/plain": [
       "['What are the keys to building a career in AI? 한글로 답변해줘',\n",
       " 'How can teamwork contribute to success in AI? 한글로 답변해줘',\n",
       " 'What is the importance of networking in AI? 한글로 답변해줘',\n",
       " 'What are some good habits to develop for a successful career? 한글로 답변해줘',\n",
       " 'How can altruism be beneficial in building a career? 한글로 답변해줘',\n",
       " 'What is imposter syndrome and how does it relate to AI? 한글로 답변해줘',\n",
       " 'Who are some accomplished individuals who have experienced imposter syndrome? 한글로 답변해줘',\n",
       " 'What is the first step to becoming good at AI? 한글로 답변해줘',\n",
       " 'What are some common challenges in AI? 한글로 답변해줘',\n",
       " 'Is it normal to find parts of AI challenging? 한글로 답변해줘']"
      ]
     },
     "execution_count": 19,
     "metadata": {},
     "output_type": "execute_result"
    }
   ],
   "source": [
    "eval_questions"
   ]
  },
  {
   "cell_type": "code",
   "execution_count": 20,
   "id": "d894a8f4",
   "metadata": {
    "height": 30
   },
   "outputs": [],
   "source": [
    "eval_questions.append(\"How can I be successful in AI?\")"
   ]
  },
  {
   "cell_type": "code",
   "execution_count": 21,
   "id": "44f7d84b",
   "metadata": {
    "height": 30
   },
   "outputs": [
    {
     "data": {
      "text/plain": [
       "['What are the keys to building a career in AI? 한글로 답변해줘',\n",
       " 'How can teamwork contribute to success in AI? 한글로 답변해줘',\n",
       " 'What is the importance of networking in AI? 한글로 답변해줘',\n",
       " 'What are some good habits to develop for a successful career? 한글로 답변해줘',\n",
       " 'How can altruism be beneficial in building a career? 한글로 답변해줘',\n",
       " 'What is imposter syndrome and how does it relate to AI? 한글로 답변해줘',\n",
       " 'Who are some accomplished individuals who have experienced imposter syndrome? 한글로 답변해줘',\n",
       " 'What is the first step to becoming good at AI? 한글로 답변해줘',\n",
       " 'What are some common challenges in AI? 한글로 답변해줘',\n",
       " 'Is it normal to find parts of AI challenging? 한글로 답변해줘',\n",
       " 'How can I be successful in AI?']"
      ]
     },
     "execution_count": 21,
     "metadata": {},
     "output_type": "execute_result"
    }
   ],
   "source": [
    "eval_questions"
   ]
  },
  {
   "cell_type": "code",
   "execution_count": 22,
   "id": "f1f8fdeb",
   "metadata": {
    "height": 64,
    "id": "01_P6TxaaZVD"
   },
   "outputs": [
    {
     "name": "stderr",
     "output_type": "stream",
     "text": [
      "Callback class OpenAICallback is registered for handling create but there are no endpoints waiting to receive the result.\n",
      "Callback class OpenAICallback is registered for handling create but there are no endpoints waiting to receive the result.\n",
      "Callback class OpenAICallback is registered for handling create but there are no endpoints waiting to receive the result.\n",
      "Callback class OpenAICallback is registered for handling create but there are no endpoints waiting to receive the result.\n",
      "Callback class OpenAICallback is registered for handling create but there are no endpoints waiting to receive the result.\n",
      "Callback class OpenAICallback is registered for handling create but there are no endpoints waiting to receive the result.\n",
      "Callback class OpenAICallback is registered for handling create but there are no endpoints waiting to receive the result.\n",
      "Callback class OpenAICallback is registered for handling create but there are no endpoints waiting to receive the result.\n",
      "Callback class OpenAICallback is registered for handling create but there are no endpoints waiting to receive the result.\n",
      "Callback class OpenAICallback is registered for handling create but there are no endpoints waiting to receive the result.\n",
      "Callback class OpenAICallback is registered for handling create but there are no endpoints waiting to receive the result.\n",
      "Callback class OpenAICallback is registered for handling create but there are no endpoints waiting to receive the result.\n",
      "Callback class OpenAICallback is registered for handling create but there are no endpoints waiting to receive the result.\n",
      "Callback class OpenAICallback is registered for handling create but there are no endpoints waiting to receive the result.\n",
      "Callback class OpenAICallback is registered for handling create but there are no endpoints waiting to receive the result.\n",
      "Callback class OpenAICallback is registered for handling create but there are no endpoints waiting to receive the result.\n",
      "Callback class OpenAICallback is registered for handling create but there are no endpoints waiting to receive the result.\n",
      "Callback class OpenAICallback is registered for handling create but there are no endpoints waiting to receive the result.\n",
      "Callback class OpenAICallback is registered for handling create but there are no endpoints waiting to receive the result.\n",
      "Callback class OpenAICallback is registered for handling create but there are no endpoints waiting to receive the result.\n",
      "Callback class OpenAICallback is registered for handling create but there are no endpoints waiting to receive the result.\n",
      "Callback class OpenAICallback is registered for handling create but there are no endpoints waiting to receive the result.\n",
      "Callback class OpenAICallback is registered for handling create but there are no endpoints waiting to receive the result.\n",
      "Callback class OpenAICallback is registered for handling create but there are no endpoints waiting to receive the result.\n",
      "Callback class OpenAICallback is registered for handling create but there are no endpoints waiting to receive the result.\n",
      "Callback class OpenAICallback is registered for handling create but there are no endpoints waiting to receive the result.\n",
      "Callback class OpenAICallback is registered for handling create but there are no endpoints waiting to receive the result.\n",
      "Callback class OpenAICallback is registered for handling create but there are no endpoints waiting to receive the result.\n",
      "Callback class OpenAICallback is registered for handling create but there are no endpoints waiting to receive the result.\n",
      "Callback class OpenAICallback is registered for handling create but there are no endpoints waiting to receive the result.\n",
      "Callback class OpenAICallback is registered for handling create but there are no endpoints waiting to receive the result.\n",
      "Callback class OpenAICallback is registered for handling create but there are no endpoints waiting to receive the result.\n",
      "Callback class OpenAICallback is registered for handling create but there are no endpoints waiting to receive the result.\n",
      "Callback class OpenAICallback is registered for handling create but there are no endpoints waiting to receive the result.\n",
      "Callback class OpenAICallback is registered for handling create but there are no endpoints waiting to receive the result.\n",
      "Callback class OpenAICallback is registered for handling create but there are no endpoints waiting to receive the result.\n",
      "Callback class OpenAICallback is registered for handling create but there are no endpoints waiting to receive the result.\n",
      "Callback class OpenAICallback is registered for handling create but there are no endpoints waiting to receive the result.\n",
      "Callback class OpenAICallback is registered for handling create but there are no endpoints waiting to receive the result.\n",
      "Callback class OpenAICallback is registered for handling create but there are no endpoints waiting to receive the result.\n",
      "Callback class OpenAICallback is registered for handling create but there are no endpoints waiting to receive the result.\n",
      "Callback class OpenAICallback is registered for handling create but there are no endpoints waiting to receive the result.\n",
      "Callback class OpenAICallback is registered for handling create but there are no endpoints waiting to receive the result.\n",
      "Callback class OpenAICallback is registered for handling create but there are no endpoints waiting to receive the result.\n",
      "Callback class OpenAICallback is registered for handling create but there are no endpoints waiting to receive the result.\n",
      "Callback class OpenAICallback is registered for handling create but there are no endpoints waiting to receive the result.\n",
      "Callback class OpenAICallback is registered for handling create but there are no endpoints waiting to receive the result.\n",
      "Callback class OpenAICallback is registered for handling create but there are no endpoints waiting to receive the result.\n",
      "Callback class OpenAICallback is registered for handling create but there are no endpoints waiting to receive the result.\n",
      "Callback class OpenAICallback is registered for handling create but there are no endpoints waiting to receive the result.\n",
      "Callback class OpenAICallback is registered for handling create but there are no endpoints waiting to receive the result.\n",
      "Callback class OpenAICallback is registered for handling create but there are no endpoints waiting to receive the result.\n",
      "Callback class OpenAICallback is registered for handling create but there are no endpoints waiting to receive the result.\n",
      "Callback class OpenAICallback is registered for handling create but there are no endpoints waiting to receive the result.\n",
      "Callback class OpenAICallback is registered for handling create but there are no endpoints waiting to receive the result.\n",
      "Callback class OpenAICallback is registered for handling create but there are no endpoints waiting to receive the result.\n"
     ]
    }
   ],
   "source": [
    "for question in eval_questions:\n",
    "    with tru_recorder as recording:\n",
    "        sentence_window_engine.query(question)"
   ]
  },
  {
   "cell_type": "code",
   "execution_count": 23,
   "id": "f37619d5",
   "metadata": {
    "height": 47,
    "id": "sNPhDde6ZArq"
   },
   "outputs": [
    {
     "data": {
      "text/html": [
       "<div>\n",
       "<style scoped>\n",
       "    .dataframe tbody tr th:only-of-type {\n",
       "        vertical-align: middle;\n",
       "    }\n",
       "\n",
       "    .dataframe tbody tr th {\n",
       "        vertical-align: top;\n",
       "    }\n",
       "\n",
       "    .dataframe thead th {\n",
       "        text-align: right;\n",
       "    }\n",
       "</style>\n",
       "<table border=\"1\" class=\"dataframe\">\n",
       "  <thead>\n",
       "    <tr style=\"text-align: right;\">\n",
       "      <th></th>\n",
       "      <th>app_id</th>\n",
       "      <th>app_json</th>\n",
       "      <th>type</th>\n",
       "      <th>record_id</th>\n",
       "      <th>input</th>\n",
       "      <th>output</th>\n",
       "      <th>tags</th>\n",
       "      <th>record_json</th>\n",
       "      <th>cost_json</th>\n",
       "      <th>perf_json</th>\n",
       "      <th>ts</th>\n",
       "      <th>Answer Relevance</th>\n",
       "      <th>Groundedness</th>\n",
       "      <th>Context Relevance</th>\n",
       "      <th>Answer Relevance_calls</th>\n",
       "      <th>Groundedness_calls</th>\n",
       "      <th>Context Relevance_calls</th>\n",
       "      <th>latency</th>\n",
       "      <th>total_tokens</th>\n",
       "      <th>total_cost</th>\n",
       "    </tr>\n",
       "  </thead>\n",
       "  <tbody>\n",
       "    <tr>\n",
       "      <th>0</th>\n",
       "      <td>App_1</td>\n",
       "      <td>{\"tru_class_info\": {\"name\": \"TruLlama\", \"modul...</td>\n",
       "      <td>RetrieverQueryEngine(llama_index.query_engine....</td>\n",
       "      <td>record_hash_e8753ab1316abeba09af6b3c400b286a</td>\n",
       "      <td>\"What are the keys to building a career in AI?...</td>\n",
       "      <td>\"AI \\uacbd\\ub825\\uc744 \\uc313\\ub294 \\ub370 \\ud...</td>\n",
       "      <td>-</td>\n",
       "      <td>{\"record_id\": \"record_hash_e8753ab1316abeba09a...</td>\n",
       "      <td>{\"n_requests\": 0, \"n_successful_requests\": 0, ...</td>\n",
       "      <td>{\"start_time\": \"2024-01-24T18:50:20.222231\", \"...</td>\n",
       "      <td>2024-01-24T18:50:29.031457</td>\n",
       "      <td>1.0</td>\n",
       "      <td>1.0</td>\n",
       "      <td>0.4</td>\n",
       "      <td>[{'args': {'prompt': 'What are the keys to bui...</td>\n",
       "      <td>[{'args': {'source': 'Many companies are \n",
       "stil...</td>\n",
       "      <td>[{'args': {'question': 'What are the keys to b...</td>\n",
       "      <td>8</td>\n",
       "      <td>0</td>\n",
       "      <td>0.0</td>\n",
       "    </tr>\n",
       "    <tr>\n",
       "      <th>1</th>\n",
       "      <td>App_1</td>\n",
       "      <td>{\"tru_class_info\": {\"name\": \"TruLlama\", \"modul...</td>\n",
       "      <td>RetrieverQueryEngine(llama_index.query_engine....</td>\n",
       "      <td>record_hash_effdeac185ec58ed677c6052c491a1f4</td>\n",
       "      <td>\"How can teamwork contribute to success in AI?...</td>\n",
       "      <td>\"\\ud300\\uc6cc\\ud06c\\ub294 AI\\uc5d0\\uc11c \\uc13...</td>\n",
       "      <td>-</td>\n",
       "      <td>{\"record_id\": \"record_hash_effdeac185ec58ed677...</td>\n",
       "      <td>{\"n_requests\": 0, \"n_successful_requests\": 0, ...</td>\n",
       "      <td>{\"start_time\": \"2024-01-24T18:50:29.374421\", \"...</td>\n",
       "      <td>2024-01-24T18:50:43.384402</td>\n",
       "      <td>0.8</td>\n",
       "      <td>1.0</td>\n",
       "      <td>0.4</td>\n",
       "      <td>[{'args': {'prompt': 'How can teamwork contrib...</td>\n",
       "      <td>[{'args': {'source': 'To get \n",
       "a project starte...</td>\n",
       "      <td>[{'args': {'question': 'How can teamwork contr...</td>\n",
       "      <td>14</td>\n",
       "      <td>0</td>\n",
       "      <td>0.0</td>\n",
       "    </tr>\n",
       "    <tr>\n",
       "      <th>2</th>\n",
       "      <td>App_1</td>\n",
       "      <td>{\"tru_class_info\": {\"name\": \"TruLlama\", \"modul...</td>\n",
       "      <td>RetrieverQueryEngine(llama_index.query_engine....</td>\n",
       "      <td>record_hash_9fb8268af956b1ec3c29068fc7cd7fa3</td>\n",
       "      <td>\"What is the importance of networking in AI? \\...</td>\n",
       "      <td>\"AI\\uc5d0\\uc11c \\ub124\\ud2b8\\uc6cc\\ud0b9\\uc758...</td>\n",
       "      <td>-</td>\n",
       "      <td>{\"record_id\": \"record_hash_9fb8268af956b1ec3c2...</td>\n",
       "      <td>{\"n_requests\": 0, \"n_successful_requests\": 0, ...</td>\n",
       "      <td>{\"start_time\": \"2024-01-24T18:50:43.714030\", \"...</td>\n",
       "      <td>2024-01-24T18:50:54.921048</td>\n",
       "      <td>0.8</td>\n",
       "      <td>0.6</td>\n",
       "      <td>0.3</td>\n",
       "      <td>[{'args': {'prompt': 'What is the importance o...</td>\n",
       "      <td>[{'args': {'source': 'Such conversations are s...</td>\n",
       "      <td>[{'args': {'question': 'What is the importance...</td>\n",
       "      <td>11</td>\n",
       "      <td>0</td>\n",
       "      <td>0.0</td>\n",
       "    </tr>\n",
       "    <tr>\n",
       "      <th>3</th>\n",
       "      <td>App_1</td>\n",
       "      <td>{\"tru_class_info\": {\"name\": \"TruLlama\", \"modul...</td>\n",
       "      <td>RetrieverQueryEngine(llama_index.query_engine....</td>\n",
       "      <td>record_hash_b591136f398c2bb6aae158e82b266985</td>\n",
       "      <td>\"What are some good habits to develop for a su...</td>\n",
       "      <td>\"\\uc131\\uacf5\\uc801\\uc778 \\uacbd\\ub825\\uc744 \\...</td>\n",
       "      <td>-</td>\n",
       "      <td>{\"record_id\": \"record_hash_b591136f398c2bb6aae...</td>\n",
       "      <td>{\"n_requests\": 0, \"n_successful_requests\": 0, ...</td>\n",
       "      <td>{\"start_time\": \"2024-01-24T18:50:55.253760\", \"...</td>\n",
       "      <td>2024-01-24T18:51:03.493554</td>\n",
       "      <td>1.0</td>\n",
       "      <td>1.0</td>\n",
       "      <td>0.5</td>\n",
       "      <td>[{'args': {'prompt': 'What are some good habit...</td>\n",
       "      <td>[{'args': {'source': 'Although it may seem lik...</td>\n",
       "      <td>[{'args': {'question': 'What are some good hab...</td>\n",
       "      <td>8</td>\n",
       "      <td>0</td>\n",
       "      <td>0.0</td>\n",
       "    </tr>\n",
       "    <tr>\n",
       "      <th>4</th>\n",
       "      <td>App_1</td>\n",
       "      <td>{\"tru_class_info\": {\"name\": \"TruLlama\", \"modul...</td>\n",
       "      <td>RetrieverQueryEngine(llama_index.query_engine....</td>\n",
       "      <td>record_hash_84242d37ac888532558c42f217bba0f1</td>\n",
       "      <td>\"How can altruism be beneficial in building a ...</td>\n",
       "      <td>\"\\ub2e4\\ub978 \\uc0ac\\ub78c\\ub4e4\\uc744 \\ub3d5\\...</td>\n",
       "      <td>-</td>\n",
       "      <td>{\"record_id\": \"record_hash_84242d37ac888532558...</td>\n",
       "      <td>{\"n_requests\": 0, \"n_successful_requests\": 0, ...</td>\n",
       "      <td>{\"start_time\": \"2024-01-24T18:51:03.816334\", \"...</td>\n",
       "      <td>2024-01-24T18:51:22.575087</td>\n",
       "      <td>0.9</td>\n",
       "      <td>0.2</td>\n",
       "      <td>0.6</td>\n",
       "      <td>[{'args': {'prompt': 'How can altruism be bene...</td>\n",
       "      <td>[{'args': {'source': 'Many successful people d...</td>\n",
       "      <td>[{'args': {'question': 'How can altruism be be...</td>\n",
       "      <td>18</td>\n",
       "      <td>0</td>\n",
       "      <td>0.0</td>\n",
       "    </tr>\n",
       "  </tbody>\n",
       "</table>\n",
       "</div>"
      ],
      "text/plain": [
       "  app_id                                           app_json  \\\n",
       "0  App_1  {\"tru_class_info\": {\"name\": \"TruLlama\", \"modul...   \n",
       "1  App_1  {\"tru_class_info\": {\"name\": \"TruLlama\", \"modul...   \n",
       "2  App_1  {\"tru_class_info\": {\"name\": \"TruLlama\", \"modul...   \n",
       "3  App_1  {\"tru_class_info\": {\"name\": \"TruLlama\", \"modul...   \n",
       "4  App_1  {\"tru_class_info\": {\"name\": \"TruLlama\", \"modul...   \n",
       "\n",
       "                                                type  \\\n",
       "0  RetrieverQueryEngine(llama_index.query_engine....   \n",
       "1  RetrieverQueryEngine(llama_index.query_engine....   \n",
       "2  RetrieverQueryEngine(llama_index.query_engine....   \n",
       "3  RetrieverQueryEngine(llama_index.query_engine....   \n",
       "4  RetrieverQueryEngine(llama_index.query_engine....   \n",
       "\n",
       "                                      record_id  \\\n",
       "0  record_hash_e8753ab1316abeba09af6b3c400b286a   \n",
       "1  record_hash_effdeac185ec58ed677c6052c491a1f4   \n",
       "2  record_hash_9fb8268af956b1ec3c29068fc7cd7fa3   \n",
       "3  record_hash_b591136f398c2bb6aae158e82b266985   \n",
       "4  record_hash_84242d37ac888532558c42f217bba0f1   \n",
       "\n",
       "                                               input  \\\n",
       "0  \"What are the keys to building a career in AI?...   \n",
       "1  \"How can teamwork contribute to success in AI?...   \n",
       "2  \"What is the importance of networking in AI? \\...   \n",
       "3  \"What are some good habits to develop for a su...   \n",
       "4  \"How can altruism be beneficial in building a ...   \n",
       "\n",
       "                                              output tags  \\\n",
       "0  \"AI \\uacbd\\ub825\\uc744 \\uc313\\ub294 \\ub370 \\ud...    -   \n",
       "1  \"\\ud300\\uc6cc\\ud06c\\ub294 AI\\uc5d0\\uc11c \\uc13...    -   \n",
       "2  \"AI\\uc5d0\\uc11c \\ub124\\ud2b8\\uc6cc\\ud0b9\\uc758...    -   \n",
       "3  \"\\uc131\\uacf5\\uc801\\uc778 \\uacbd\\ub825\\uc744 \\...    -   \n",
       "4  \"\\ub2e4\\ub978 \\uc0ac\\ub78c\\ub4e4\\uc744 \\ub3d5\\...    -   \n",
       "\n",
       "                                         record_json  \\\n",
       "0  {\"record_id\": \"record_hash_e8753ab1316abeba09a...   \n",
       "1  {\"record_id\": \"record_hash_effdeac185ec58ed677...   \n",
       "2  {\"record_id\": \"record_hash_9fb8268af956b1ec3c2...   \n",
       "3  {\"record_id\": \"record_hash_b591136f398c2bb6aae...   \n",
       "4  {\"record_id\": \"record_hash_84242d37ac888532558...   \n",
       "\n",
       "                                           cost_json  \\\n",
       "0  {\"n_requests\": 0, \"n_successful_requests\": 0, ...   \n",
       "1  {\"n_requests\": 0, \"n_successful_requests\": 0, ...   \n",
       "2  {\"n_requests\": 0, \"n_successful_requests\": 0, ...   \n",
       "3  {\"n_requests\": 0, \"n_successful_requests\": 0, ...   \n",
       "4  {\"n_requests\": 0, \"n_successful_requests\": 0, ...   \n",
       "\n",
       "                                           perf_json  \\\n",
       "0  {\"start_time\": \"2024-01-24T18:50:20.222231\", \"...   \n",
       "1  {\"start_time\": \"2024-01-24T18:50:29.374421\", \"...   \n",
       "2  {\"start_time\": \"2024-01-24T18:50:43.714030\", \"...   \n",
       "3  {\"start_time\": \"2024-01-24T18:50:55.253760\", \"...   \n",
       "4  {\"start_time\": \"2024-01-24T18:51:03.816334\", \"...   \n",
       "\n",
       "                           ts  Answer Relevance  Groundedness  \\\n",
       "0  2024-01-24T18:50:29.031457               1.0           1.0   \n",
       "1  2024-01-24T18:50:43.384402               0.8           1.0   \n",
       "2  2024-01-24T18:50:54.921048               0.8           0.6   \n",
       "3  2024-01-24T18:51:03.493554               1.0           1.0   \n",
       "4  2024-01-24T18:51:22.575087               0.9           0.2   \n",
       "\n",
       "   Context Relevance                             Answer Relevance_calls  \\\n",
       "0                0.4  [{'args': {'prompt': 'What are the keys to bui...   \n",
       "1                0.4  [{'args': {'prompt': 'How can teamwork contrib...   \n",
       "2                0.3  [{'args': {'prompt': 'What is the importance o...   \n",
       "3                0.5  [{'args': {'prompt': 'What are some good habit...   \n",
       "4                0.6  [{'args': {'prompt': 'How can altruism be bene...   \n",
       "\n",
       "                                  Groundedness_calls  \\\n",
       "0  [{'args': {'source': 'Many companies are \n",
       "stil...   \n",
       "1  [{'args': {'source': 'To get \n",
       "a project starte...   \n",
       "2  [{'args': {'source': 'Such conversations are s...   \n",
       "3  [{'args': {'source': 'Although it may seem lik...   \n",
       "4  [{'args': {'source': 'Many successful people d...   \n",
       "\n",
       "                             Context Relevance_calls  latency  total_tokens  \\\n",
       "0  [{'args': {'question': 'What are the keys to b...        8             0   \n",
       "1  [{'args': {'question': 'How can teamwork contr...       14             0   \n",
       "2  [{'args': {'question': 'What is the importance...       11             0   \n",
       "3  [{'args': {'question': 'What are some good hab...        8             0   \n",
       "4  [{'args': {'question': 'How can altruism be be...       18             0   \n",
       "\n",
       "   total_cost  \n",
       "0         0.0  \n",
       "1         0.0  \n",
       "2         0.0  \n",
       "3         0.0  \n",
       "4         0.0  "
      ]
     },
     "execution_count": 23,
     "metadata": {},
     "output_type": "execute_result"
    }
   ],
   "source": [
    "records, feedback = tru.get_records_and_feedback(app_ids=[])\n",
    "records.head()"
   ]
  },
  {
   "cell_type": "code",
   "execution_count": 24,
   "id": "55ac5db2",
   "metadata": {
    "height": 81
   },
   "outputs": [
    {
     "data": {
      "text/html": [
       "<div>\n",
       "<style scoped>\n",
       "    .dataframe tbody tr th:only-of-type {\n",
       "        vertical-align: middle;\n",
       "    }\n",
       "\n",
       "    .dataframe tbody tr th {\n",
       "        vertical-align: top;\n",
       "    }\n",
       "\n",
       "    .dataframe thead th {\n",
       "        text-align: right;\n",
       "    }\n",
       "</style>\n",
       "<table border=\"1\" class=\"dataframe\">\n",
       "  <thead>\n",
       "    <tr style=\"text-align: right;\">\n",
       "      <th></th>\n",
       "      <th>input</th>\n",
       "      <th>output</th>\n",
       "      <th>Groundedness</th>\n",
       "      <th>Context Relevance</th>\n",
       "      <th>Answer Relevance</th>\n",
       "    </tr>\n",
       "  </thead>\n",
       "  <tbody>\n",
       "    <tr>\n",
       "      <th>0</th>\n",
       "      <td>\"What are the keys to building a career in AI? \\ud55c\\uae00\\ub85c \\ub2f5\\ubcc0\\ud574\\uc918\"</td>\n",
       "      <td>\"AI \\uacbd\\ub825\\uc744 \\uc313\\ub294 \\ub370 \\ud544\\uc694\\ud55c \\ud575\\uc2ec \\uc694\\uc18c\\ub294 \\ub2e4\\uc74c\\uacfc \\uac19\\uc2b5\\ub2c8\\ub2e4: \\ud575\\uc2ec \\uae30\\uc220\\uc744 \\ubc30\\uc6b0\\ub294 \\uac83, \\ud504\\ub85c\\uc81d\\ud2b8\\uc5d0 \\ucc38\\uc5ec\\ud558\\ub294 \\uac83, \\uc801\\ud569\\ud55c \\uc77c\\uc790\\ub9ac\\ub97c \\ucc3e\\ub294 \\uac83, \\uadf8\\ub9ac\\uace0 \\uc9c0\\uc6d0 \\ucee4\\ubba4\\ub2c8\\ud2f0\\uc5d0 \\uc18d\\ud558\\ub294 \\uac83\\uc785\\ub2c8\\ub2e4. \\uc774\\ub7ec\\ud55c \\ub2e8\\uacc4\\ub97c \\ub530\\ub77c\\uac00\\uba74\\uc11c AI \\uacbd\\ub825\\uc744 \\uad6c\\ucd95\\ud560 \\uc218 \\uc788\\uc2b5\\ub2c8\\ub2e4.\"</td>\n",
       "      <td>1.000000</td>\n",
       "      <td>0.4</td>\n",
       "      <td>1.0</td>\n",
       "    </tr>\n",
       "    <tr>\n",
       "      <th>1</th>\n",
       "      <td>\"How can teamwork contribute to success in AI? \\ud55c\\uae00\\ub85c \\ub2f5\\ubcc0\\ud574\\uc918\"</td>\n",
       "      <td>\"\\ud300\\uc6cc\\ud06c\\ub294 AI\\uc5d0\\uc11c \\uc131\\uacf5\\uc744 \\uc774\\ub8e8\\ub294 \\ub370 \\uae30\\uc5ec\\ud560 \\uc218 \\uc788\\uc2b5\\ub2c8\\ub2e4. \\ub300\\ud615 AI \\ud504\\ub85c\\uc81d\\ud2b8\\ub97c \\uc218\\ud589\\ud560 \\ub54c \\ud300\\uc6cc\\ud06c \\ub2a5\\ub825\\uc740 \\ub354\\uc6b1 \\uc911\\uc694\\ud574\\uc9c0\\uba70, \\ud615\\uc2dd\\uc801\\uc778 \\ub9ac\\ub354\\uc2ed \\uc9c1\\ucc45\\uc5d0 \\uc788\\ub4e0 \\uc5c6\\ub4e0 \\ud504\\ub85c\\uc81d\\ud2b8\\ub97c \\uc774\\ub04c\\uc5b4 \\ub098\\uac08 \\uc218 \\uc788\\ub294 \\ub2a5\\ub825\\uc774 \\ud544\\uc694\\ud569\\ub2c8\\ub2e4. \\uae30\\uc220\\uc801\\uc778 \\ud1b5\\ucc30\\ub825\\uc744 \\ubc14\\ud0d5\\uc73c\\ub85c \\ud504\\ub85c\\uc81d\\ud2b8\\ub97c \\uc774\\ub04c\\uc5b4 \\ub098\\uac00\\ub294 \\ub2a5\\ub825\\uc740 \\ub9ac\\ub354\\ub85c\\uc11c \\uc131\\uc7a5\\ud558\\ub294 \\ub370 \\ub3c4\\uc6c0\\uc774 \\ub418\\uba70, \\ud504\\ub85c\\uc81d\\ud2b8\\uc758 \\ud488\\uc9c8\\uc744 \\ud06c\\uac8c \\ud5a5\\uc0c1\\uc2dc\\ud0ac \\uc218 \\uc788\\uc2b5\\ub2c8\\ub2e4.\"</td>\n",
       "      <td>1.000000</td>\n",
       "      <td>0.4</td>\n",
       "      <td>0.8</td>\n",
       "    </tr>\n",
       "    <tr>\n",
       "      <th>2</th>\n",
       "      <td>\"What is the importance of networking in AI? \\ud55c\\uae00\\ub85c \\ub2f5\\ubcc0\\ud574\\uc918\"</td>\n",
       "      <td>\"AI\\uc5d0\\uc11c \\ub124\\ud2b8\\uc6cc\\ud0b9\\uc758 \\uc911\\uc694\\uc131\\uc740 \\ucde8\\uc5c5\\uc744 \\uc704\\ud574 \\ud544\\uc694\\ud55c \\uc815\\ubcf4\\ub97c \\uc5bb\\uace0, \\ub2e4\\uc591\\ud55c \\uc0ac\\ub78c\\ub4e4\\uacfc \\uc5f0\\uacb0\\ub418\\uc5b4 \\uae30\\ud68c\\ub97c \\ucc3e\\uc744 \\uc218 \\uc788\\ub294 \\uac83\\uc785\\ub2c8\\ub2e4. \\ub124\\ud2b8\\uc6cc\\ud0b9\\uc744 \\ud1b5\\ud574 \\ub2e4\\ub978 \\uc0ac\\ub78c\\ub4e4\\uc758 \\uacbd\\ud5d8\\uacfc \\ud1b5\\ucc30\\ub825\\uc744 \\uc5bb\\uc744 \\uc218 \\uc788\\uc73c\\uba70, \\uad00\\ub828 \\ubd84\\uc57c\\uc5d0\\uc11c \\uc77c\\ud558\\ub294 \\uc0ac\\ub78c\\ub4e4\\uacfc\\uc758 \\uad00\\uacc4\\ub97c \\uad6c\\ucd95\\ud560 \\uc218 \\uc788\\uc2b5\\ub2c8\\ub2e4. \\uc774\\ub294 \\ucde8\\uc5c5 \\uc900\\ube44\\uc640 \\uc9c4\\ub85c \\uac1c\\ubc1c\\uc5d0 \\ub3c4\\uc6c0\\uc774 \\ub420 \\uc218 \\uc788\\uc2b5\\ub2c8\\ub2e4.\"</td>\n",
       "      <td>0.600000</td>\n",
       "      <td>0.3</td>\n",
       "      <td>0.8</td>\n",
       "    </tr>\n",
       "    <tr>\n",
       "      <th>3</th>\n",
       "      <td>\"What are some good habits to develop for a successful career? \\ud55c\\uae00\\ub85c \\ub2f5\\ubcc0\\ud574\\uc918\"</td>\n",
       "      <td>\"\\uc131\\uacf5\\uc801\\uc778 \\uacbd\\ub825\\uc744 \\uc704\\ud574 \\uac1c\\ubc1c\\ud560 \\uc218 \\uc788\\ub294 \\uba87 \\uac00\\uc9c0 \\uc88b\\uc740 \\uc2b5\\uad00\\uc740 \\uc2dd\\uc0ac, \\uc6b4\\ub3d9, \\uc218\\uba74, \\uac1c\\uc778\\uc801\\uc778 \\uad00\\uacc4, \\uc5c5\\ubb34, \\ud559\\uc2b5 \\ubc0f \\uc790\\uae30 \\uad00\\ub9ac\\uc5d0 \\ub300\\ud55c \\uac83\\uc785\\ub2c8\\ub2e4. \\uc774\\ub7ec\\ud55c \\uc2b5\\uad00\\ub4e4\\uc740 \\uac74\\uac15\\uc744 \\uc720\\uc9c0\\ud558\\uba74\\uc11c \\uc804\\uc9c4\\ud558\\ub294 \\ub370 \\ub3c4\\uc6c0\\uc774 \\ub429\\ub2c8\\ub2e4.\"</td>\n",
       "      <td>1.000000</td>\n",
       "      <td>0.5</td>\n",
       "      <td>1.0</td>\n",
       "    </tr>\n",
       "    <tr>\n",
       "      <th>4</th>\n",
       "      <td>\"How can altruism be beneficial in building a career? \\ud55c\\uae00\\ub85c \\ub2f5\\ubcc0\\ud574\\uc918\"</td>\n",
       "      <td>\"\\ub2e4\\ub978 \\uc0ac\\ub78c\\ub4e4\\uc744 \\ub3d5\\ub294 \\uac83\\uc740 \\uc6b0\\ub9ac \\uc790\\uc2e0\\uc758 \\uc131\\uacf5\\uc5d0 \\ub3c4\\uc6c0\\uc774 \\ub420 \\uc218 \\uc788\\uc2b5\\ub2c8\\ub2e4. \\ub2e4\\ub978 \\uc0ac\\ub78c\\ub4e4\\uc744 \\ub3d5\\ub294 \\uac83\\uc740 \\uc6b0\\ub9ac\\uc758 \\uce5c\\ubc00\\ud55c \\uad00\\uacc4\\ub97c \\ud615\\uc131\\ud558\\uace0, \\uc6b0\\ub9ac\\uc758 \\uc2e0\\ub8b0\\ub97c \\uc5bb\\uc744 \\uc218 \\uc788\\uc73c\\uba70, \\uc6b0\\ub9ac\\uc758 \\ub124\\ud2b8\\uc6cc\\ud06c\\ub97c \\ud655\\uc7a5\\ud558\\ub294 \\ub370 \\ub3c4\\uc6c0\\uc774 \\ub420 \\uc218 \\uc788\\uc2b5\\ub2c8\\ub2e4. \\uc774\\ub7ec\\ud55c \\uad00\\uacc4\\uc640 \\ub124\\ud2b8\\uc6cc\\ud06c\\ub294 \\uc6b0\\ub9ac\\uc758 \\uc9c1\\uc5c5\\uc801\\uc778 \\uc131\\uc7a5\\uacfc \\uae30\\ud68c\\ub97c \\uc99d\\uac00\\uc2dc\\ud0ac \\uc218 \\uc788\\uc2b5\\ub2c8\\ub2e4. \\ub610\\ud55c, \\ub2e4\\ub978 \\uc0ac\\ub78c\\ub4e4\\uc744 \\ub3d5\\ub294 \\uac83\\uc740 \\uc6b0\\ub9ac\\uc758 \\uc790\\uc544 \\uc874\\uc911\\uac10\\uacfc \\ub9cc\\uc871\\uac10\\uc744 \\ub192\\uc77c \\uc218 \\uc788\\uc2b5\\ub2c8\\ub2e4. \\ub530\\ub77c\\uc11c, \\uc6b0\\ub9ac\\uc758 \\uacbd\\ub825\\uc744 \\ubc1c\\uc804\\uc2dc\\ud0a4\\ub294 \\ub3d9\\uc2dc\\uc5d0 \\ub2e4\\ub978 \\uc0ac\\ub78c\\ub4e4\\uc744 \\ub3d5\\ub294 \\uac83\\uc740 \\uc0c1\\ud638 \\uc774\\uc775\\uc801\\uc778 \\uad00\\uacc4\\ub97c \\ud615\\uc131\\ud560 \\uc218 \\uc788\\uc2b5\\ub2c8\\ub2e4.\"</td>\n",
       "      <td>0.200000</td>\n",
       "      <td>0.6</td>\n",
       "      <td>0.9</td>\n",
       "    </tr>\n",
       "    <tr>\n",
       "      <th>5</th>\n",
       "      <td>\"What is imposter syndrome and how does it relate to AI? \\ud55c\\uae00\\ub85c \\ub2f5\\ubcc0\\ud574\\uc918\"</td>\n",
       "      <td>\"\\uc774\\uc0ac\\uae30\\uc99d\\ud2f0\\uc998\\uc740 \\uc790\\uc2e0\\uc774 \\uc0ac\\uae30\\uafbc\\uc774\\uba70 \\uc778\\uacf5\\uc9c0\\ub2a5 \\ucee4\\ubba4\\ub2c8\\ud2f0\\uc5d0 \\uc18d\\ud558\\uc9c0 \\uc54a\\uc744 \\uac83\\uc774\\ub77c\\ub294 \\uc758\\uc2ec\\uc744 \\uac00\\uc9c0\\ub294 \\uac83\\uc744 \\ub9d0\\ud569\\ub2c8\\ub2e4. \\uc774\\ub294 AI \\ubd84\\uc57c\\uc5d0\\uc11c \\uc131\\uacf5\\uc744 \\uac70\\ub454 \\uc0ac\\ub78c\\ub4e4\\uc5d0\\uac8c\\ub3c4 \\ubc1c\\uc0dd\\ud560 \\uc218 \\uc788\\uc2b5\\ub2c8\\ub2e4. \\uc774 \\uc99d\\ud6c4\\uad70\\uc740 AI\\uc5d0 \\ub300\\ud55c \\uc131\\uc7a5\\uc744 \\ubc29\\ud574\\ud558\\uc9c0 \\uc54a\\ub3c4\\ub85d \\uc8fc\\uc758\\ud574\\uc57c \\ud569\\ub2c8\\ub2e4.\"</td>\n",
       "      <td>0.933333</td>\n",
       "      <td>0.8</td>\n",
       "      <td>0.8</td>\n",
       "    </tr>\n",
       "    <tr>\n",
       "      <th>6</th>\n",
       "      <td>\"Who are some accomplished individuals who have experienced imposter syndrome? \\ud55c\\uae00\\ub85c \\ub2f5\\ubcc0\\ud574\\uc918\"</td>\n",
       "      <td>\"\\uc170\\ub9b4 \\uc0cc\\ub4dc\\ubc84\\uadf8, \\ubbf8\\uc178 \\uc624\\ubc14\\ub9c8, \\ud1b0 \\ud589\\ud06c\\uc2a4, \\ub9c8\\uc774\\ud06c \\uce90\\ub17c-\\ube0c\\ub8e9\\uc2a4\\ub294 \\uc77c\\ubd80 \\uc131\\uacf5\\ud55c \\uc0ac\\ub78c\\ub4e4 \\uc911 \\uc77c\\ubd80\\ub85c \\uc54c\\ub824\\uc9c4 \\uc0ac\\ub78c\\ub4e4\\uc785\\ub2c8\\ub2e4. \\uc774\\ub4e4\\uc740 \\ubaa8\\ub450 \\uc5b4\\ub5a4 \\ud615\\ud0dc\\uc758 \\uc0ac\\uae30 \\uc99d\\ud6c4\\uad70\\uc744 \\uacbd\\ud5d8\\ud55c \\uac83\\uc73c\\ub85c \\uc54c\\ub824\\uc838 \\uc788\\uc2b5\\ub2c8\\ub2e4.\"</td>\n",
       "      <td>0.500000</td>\n",
       "      <td>0.9</td>\n",
       "      <td>0.8</td>\n",
       "    </tr>\n",
       "    <tr>\n",
       "      <th>7</th>\n",
       "      <td>\"What is the first step to becoming good at AI? \\ud55c\\uae00\\ub85c \\ub2f5\\ubcc0\\ud574\\uc918\"</td>\n",
       "      <td>\"AI\\uc5d0 \\ub2a5\\uc219\\ud574\\uc9c0\\uae30 \\uc704\\ud55c \\uccab \\ubc88\\uc9f8 \\ub2e8\\uacc4\\ub294 \\uac00\\ub2a5\\ud55c \\uc5ed\\ud560\\uc744 \\uc2dd\\ubcc4\\ud558\\uace0 \\uc815\\ubcf4\\ub97c \\uc5bb\\uae30 \\uc704\\ud574 \\uba87 \\uac00\\uc9c0 \\uc815\\ubcf4 \\uc778\\ud130\\ubdf0\\ub97c \\uc9c4\\ud589\\ud558\\ub294 \\uac83\\uc785\\ub2c8\\ub2e4. \\uc774\\ub7ec\\ud55c \\ub300\\ud654\\ub97c \\ud1b5\\ud574 \\uc2e0\\uccad\\ud558\\uae30\\uc5d0 \\uc55e\\uc11c \\ub354 \\ub9ce\\uc740 \\ud559\\uc2b5\\uc774 \\ud544\\uc694\\ud558\\ub2e4\\ub294 \\uac83\\uc744 \\uc54c\\uac8c \\ub41c\\ub2e4\\uba74, \\uadf8\\uac83\\uc740 \\uc88b\\uc740 \\uc77c\\uc785\\ub2c8\\ub2e4! \\uc801\\uc5b4\\ub3c4 \\ub2f9\\uc2e0\\uc740 \\uba85\\ud655\\ud55c \\uc804\\uc9c4 \\uacbd\\ub85c\\ub97c \\uac00\\uc9c0\\uac8c \\ub429\\ub2c8\\ub2e4. \\uc5b4\\ub5a4 \\uc5ec\\uc815\\uc774\\ub4e0 \\uccab \\ubc88\\uc9f8 \\ub2e8\\uacc4\\ub97c \\ub0b4\\ub51b\\ub294 \\uac83\\uc774 \\uac00\\uc7a5 \\uc911\\uc694\\ud558\\uba70, \\uadf8 \\ub2e8\\uacc4\\ub294 \\uc791\\uc740 \\uac83\\uc77c \\uc218 \\uc788\\uc2b5\\ub2c8\\ub2e4.\"</td>\n",
       "      <td>1.000000</td>\n",
       "      <td>0.3</td>\n",
       "      <td>0.8</td>\n",
       "    </tr>\n",
       "    <tr>\n",
       "      <th>8</th>\n",
       "      <td>\"What are some common challenges in AI? \\ud55c\\uae00\\ub85c \\ub2f5\\ubcc0\\ud574\\uc918\"</td>\n",
       "      <td>\"AI\\uc5d0\\uc11c \\uc77c\\ubc18\\uc801\\uc73c\\ub85c \\ubc1c\\uc0dd\\ud558\\ub294 \\uc77c\\ubd80 \\uacf5\\ud1b5\\uc801\\uc778 \\ub3c4\\uc804 \\uacfc\\uc81c\\ub294 \\ub2e4\\uc74c\\uacfc \\uac19\\uc2b5\\ub2c8\\ub2e4: \\n- \\uae30\\uc220\\uc774 \\uacc4\\uc18d \\ubc1c\\uc804\\ud558\\uace0 \\uc788\\uae30 \\ub54c\\ubb38\\uc5d0 \\ubcc0\\ud654\\ud558\\ub294 \\uae30\\uc220\\uc5d0 \\ub300\\ud55c \\ucd5c\\uc2e0 \\uc815\\ubcf4\\ub97c \\uc720\\uc9c0\\ud558\\ub294 \\uac83\\uc774 \\uc911\\uc694\\ud569\\ub2c8\\ub2e4.\\n- AI \\ud504\\ub85c\\uc81d\\ud2b8\\uc758 \\uacc4\\ud68d\\uc744 \\uc218\\ub9bd\\ud558\\ub294 \\uac83\\uc774 \\uc5b4\\ub824\\uc6b8 \\uc218 \\uc788\\uc2b5\\ub2c8\\ub2e4. \\ud2b9\\ud788, \\ubaa9\\ud45c \\uc815\\ud655\\ub3c4\\ub97c \\uc5bc\\ub9c8\\ub098 \\ube68\\ub9ac \\ub2ec\\uc131\\ud560 \\uc218 \\uc788\\ub294\\uc9c0 \\ubbf8\\ub9ac \\uc54c \\uc218 \\uc5c6\\ub294 \\uacbd\\uc6b0\\uc5d0\\ub294 \\ub354\\uc6b1 \\ub3c4\\uc804\\uc801\\uc77c \\uc218 \\uc788\\uc2b5\\ub2c8\\ub2e4.\\n- AI \\ud504\\ub85c\\uc81d\\ud2b8\\ub294 \\uc885\\uc885 AI \\uc804\\ubb38 \\uc9c0\\uc2dd\\uc774 \\ubd80\\uc871\\ud55c \\uc774\\ud574\\uad00\\uacc4\\uc790\\ub4e4\\uacfc\\uc758 \\ud611\\uc5c5\\uc744 \\ud544\\uc694\\ub85c \\ud569\\ub2c8\\ub2e4.\\n- AI \\ubd84\\uc57c\\uc5d0\\uc11c \\uc77c\\uc790\\ub9ac\\ub97c \\ucc3e\\ub294 \\uac83\\uc740 \\ub2e4\\ub978 \\ubd84\\uc57c\\uc640 \\uc720\\uc0ac\\ud560 \\uc218 \\uc788\\uc9c0\\ub9cc, \\uc911\\uc694\\ud55c \\ucc28\\uc774\\uc810\\ub3c4 \\uc788\\uc2b5\\ub2c8\\ub2e4. \\ub9ce\\uc740 \\ud68c\\uc0ac\\ub4e4\\uc774 \\uc5b4\\ub5a4 AI \\uae30\\uc220\\uc744 \\ud544\\uc694\\ub85c \\ud558\\ub294\\uc9c0, \\uadf8\\ub9ac\\uace0 \\uadf8\\ub7f0 \\uae30\\uc220\\uc744 \\uac00\\uc9c4 \\uc0ac\\ub78c\\uc744 \\uc5b4\\ub5bb\\uac8c \\uace0\\uc6a9\\ud574\\uc57c \\ud558\\ub294\\uc9c0 \\uc544\\uc9c1 \\uacb0\\uc815\\ud558\\uc9c0 \\ubabb\\ud558\\uace0 \\uc788\\uc2b5\\ub2c8\\ub2e4.\\n- AI \\ubd84\\uc57c\\uc5d0\\uc11c\\ub294 \\uc5b4\\ub824\\uc6b4 \\ub17c\\ubb38\\ub4e4\\uc774 \\ub9ce\\uc774 \\uc788\\uc744 \\uc218 \\uc788\\uc73c\\uba70, \\uae30\\uc220\\uc801\\uc778 \\ub3c4\\uc804\\uc5d0 \\uc9c1\\uba74\\ud560 \\uc218 \\uc788\\uc2b5\\ub2c8\\ub2e4. \\uadf8\\ub7ec\\ub098 \\uc774\\ub7ec\\ud55c \\ub3c4\\uc804\\ub4e4\\uc740 AI \\ubd84\\uc57c\\uc5d0\\uc11c \\uc77c\\ud558\\ub294 \\uc0ac\\ub78c\\ub4e4 \\ubaa8\\ub450\\uac00 \\uacaa\\ub294 \\uac83\\uc774\\uba70, \\uc774\\ub7ec\\ud55c \\ub3c4\\uc804\\uc744 \\uadf9\\ubcf5\\ud560 \\uc218 \\uc788\\uc2b5\\ub2c8\\ub2e4.\"</td>\n",
       "      <td>NaN</td>\n",
       "      <td>0.6</td>\n",
       "      <td>0.9</td>\n",
       "    </tr>\n",
       "    <tr>\n",
       "      <th>9</th>\n",
       "      <td>\"Is it normal to find parts of AI challenging? \\ud55c\\uae00\\ub85c \\ub2f5\\ubcc0\\ud574\\uc918\"</td>\n",
       "      <td>\"AI\\uc758 \\uc77c\\ubd80\\ubd84\\uc744 \\uc5b4\\ub824\\uc6c0\\uc73c\\ub85c \\ub290\\ub07c\\ub294 \\uac83\\uc740 \\uc815\\uc0c1\\uc801\\uc785\\ub2c8\\ub2e4. \\ubaa8\\ub450\\uac00 \\uadf8\\ub7f0 \\uacbd\\ud5d8\\uc744 \\ud55c \\uc801\\uc774 \\uc788\\uc2b5\\ub2c8\\ub2e4. \\uc138\\uacc4\\uc801\\uc73c\\ub85c \\uc720\\uba85\\ud55c AI \\ub17c\\ubb38\\uc744 \\ubc1c\\ud45c\\ud55c \\uc0ac\\ub78c\\ub4e4\\uc870\\ucc28\\ub3c4 \\uae30\\uc220\\uc801\\uc778 \\uc5b4\\ub824\\uc6c0\\uc5d0 \\uc9c1\\uba74\\ud588\\uc744 \\uac83\\uc785\\ub2c8\\ub2e4. AI \\ucee4\\ubba4\\ub2c8\\ud2f0\\uc5d0 \\ucc38\\uc5ec\\ud558\\uace0 \\uc2f6\\ub2e4\\uba74, \\ub204\\uad6c\\ub4e0\\uc9c0 \\ud658\\uc601\\ubc1b\\uc744 \\uac83\\uc785\\ub2c8\\ub2e4.\"</td>\n",
       "      <td>NaN</td>\n",
       "      <td>NaN</td>\n",
       "      <td>1.0</td>\n",
       "    </tr>\n",
       "    <tr>\n",
       "      <th>10</th>\n",
       "      <td>\"How can I be successful in AI?\"</td>\n",
       "      <td>\"To be successful in AI, it is important to have a basic understanding of calculus, as it can be helpful in certain tasks. However, it is worth noting that with improved automatic differentiation software, it is now possible to invent and implement new neural network architectures without needing to do any calculus. Additionally, it is crucial to continuously learn and deepen your technical knowledge in AI. This can involve mastering various machine learning techniques and metrics, as well as gaining expertise in specific application areas such as natural language processing or computer vision. Developing skills in technology areas like probabilistic graphical models or building scalable software systems can also be beneficial for success in AI.\"</td>\n",
       "      <td>NaN</td>\n",
       "      <td>NaN</td>\n",
       "      <td>NaN</td>\n",
       "    </tr>\n",
       "  </tbody>\n",
       "</table>\n",
       "</div>"
      ],
      "text/plain": [
       "                                                                                                                          input  \\\n",
       "0                                   \"What are the keys to building a career in AI? \\ud55c\\uae00\\ub85c \\ub2f5\\ubcc0\\ud574\\uc918\"   \n",
       "1                                   \"How can teamwork contribute to success in AI? \\ud55c\\uae00\\ub85c \\ub2f5\\ubcc0\\ud574\\uc918\"   \n",
       "2                                     \"What is the importance of networking in AI? \\ud55c\\uae00\\ub85c \\ub2f5\\ubcc0\\ud574\\uc918\"   \n",
       "3                   \"What are some good habits to develop for a successful career? \\ud55c\\uae00\\ub85c \\ub2f5\\ubcc0\\ud574\\uc918\"   \n",
       "4                            \"How can altruism be beneficial in building a career? \\ud55c\\uae00\\ub85c \\ub2f5\\ubcc0\\ud574\\uc918\"   \n",
       "5                         \"What is imposter syndrome and how does it relate to AI? \\ud55c\\uae00\\ub85c \\ub2f5\\ubcc0\\ud574\\uc918\"   \n",
       "6   \"Who are some accomplished individuals who have experienced imposter syndrome? \\ud55c\\uae00\\ub85c \\ub2f5\\ubcc0\\ud574\\uc918\"   \n",
       "7                                  \"What is the first step to becoming good at AI? \\ud55c\\uae00\\ub85c \\ub2f5\\ubcc0\\ud574\\uc918\"   \n",
       "8                                          \"What are some common challenges in AI? \\ud55c\\uae00\\ub85c \\ub2f5\\ubcc0\\ud574\\uc918\"   \n",
       "9                                   \"Is it normal to find parts of AI challenging? \\ud55c\\uae00\\ub85c \\ub2f5\\ubcc0\\ud574\\uc918\"   \n",
       "10                                                                                             \"How can I be successful in AI?\"   \n",
       "\n",
       "                                                                                                                                                                                                                                                                                                                                                                                                                                                                                                                                                                                                                                                                                                                                                                                                                                                                                                                                                                                                                                                                                                                                                                                                                                                                                                                                                                                                                                                                                                                                                                                                                                                                                                                                                                                                                                                                                                                                                                                                                                                                                                                                                                                                                   output  \\\n",
       "0                                                                                                                                                                                                                                                                                                                                                                                                                                                                                                                                                                                                                                                                                                                                                                                                                                                                                                                                                                                                                                                                                                                                                                                                                                                                                                                                                                                                                                                                                                                                                                                                                      \"AI \\uacbd\\ub825\\uc744 \\uc313\\ub294 \\ub370 \\ud544\\uc694\\ud55c \\ud575\\uc2ec \\uc694\\uc18c\\ub294 \\ub2e4\\uc74c\\uacfc \\uac19\\uc2b5\\ub2c8\\ub2e4: \\ud575\\uc2ec \\uae30\\uc220\\uc744 \\ubc30\\uc6b0\\ub294 \\uac83, \\ud504\\ub85c\\uc81d\\ud2b8\\uc5d0 \\ucc38\\uc5ec\\ud558\\ub294 \\uac83, \\uc801\\ud569\\ud55c \\uc77c\\uc790\\ub9ac\\ub97c \\ucc3e\\ub294 \\uac83, \\uadf8\\ub9ac\\uace0 \\uc9c0\\uc6d0 \\ucee4\\ubba4\\ub2c8\\ud2f0\\uc5d0 \\uc18d\\ud558\\ub294 \\uac83\\uc785\\ub2c8\\ub2e4. \\uc774\\ub7ec\\ud55c \\ub2e8\\uacc4\\ub97c \\ub530\\ub77c\\uac00\\uba74\\uc11c AI \\uacbd\\ub825\\uc744 \\uad6c\\ucd95\\ud560 \\uc218 \\uc788\\uc2b5\\ub2c8\\ub2e4.\"   \n",
       "1                                                                                                                                                                                                                                                                                                                                                                                                                                                                                                                                                                                                                                                                                                                                                                                                                                                                                                                                                                                                                                                                                                                                                                                                                                                                                             \"\\ud300\\uc6cc\\ud06c\\ub294 AI\\uc5d0\\uc11c \\uc131\\uacf5\\uc744 \\uc774\\ub8e8\\ub294 \\ub370 \\uae30\\uc5ec\\ud560 \\uc218 \\uc788\\uc2b5\\ub2c8\\ub2e4. \\ub300\\ud615 AI \\ud504\\ub85c\\uc81d\\ud2b8\\ub97c \\uc218\\ud589\\ud560 \\ub54c \\ud300\\uc6cc\\ud06c \\ub2a5\\ub825\\uc740 \\ub354\\uc6b1 \\uc911\\uc694\\ud574\\uc9c0\\uba70, \\ud615\\uc2dd\\uc801\\uc778 \\ub9ac\\ub354\\uc2ed \\uc9c1\\ucc45\\uc5d0 \\uc788\\ub4e0 \\uc5c6\\ub4e0 \\ud504\\ub85c\\uc81d\\ud2b8\\ub97c \\uc774\\ub04c\\uc5b4 \\ub098\\uac08 \\uc218 \\uc788\\ub294 \\ub2a5\\ub825\\uc774 \\ud544\\uc694\\ud569\\ub2c8\\ub2e4. \\uae30\\uc220\\uc801\\uc778 \\ud1b5\\ucc30\\ub825\\uc744 \\ubc14\\ud0d5\\uc73c\\ub85c \\ud504\\ub85c\\uc81d\\ud2b8\\ub97c \\uc774\\ub04c\\uc5b4 \\ub098\\uac00\\ub294 \\ub2a5\\ub825\\uc740 \\ub9ac\\ub354\\ub85c\\uc11c \\uc131\\uc7a5\\ud558\\ub294 \\ub370 \\ub3c4\\uc6c0\\uc774 \\ub418\\uba70, \\ud504\\ub85c\\uc81d\\ud2b8\\uc758 \\ud488\\uc9c8\\uc744 \\ud06c\\uac8c \\ud5a5\\uc0c1\\uc2dc\\ud0ac \\uc218 \\uc788\\uc2b5\\ub2c8\\ub2e4.\"   \n",
       "2                                                                                                                                                                                                                                                                                                                                                                                                                                                                                                                                                                                                                                                                                                                                                                                                                                                                                                                                                                                                                                                                                                                                                                                                                                                                                                                                                                                                                            \"AI\\uc5d0\\uc11c \\ub124\\ud2b8\\uc6cc\\ud0b9\\uc758 \\uc911\\uc694\\uc131\\uc740 \\ucde8\\uc5c5\\uc744 \\uc704\\ud574 \\ud544\\uc694\\ud55c \\uc815\\ubcf4\\ub97c \\uc5bb\\uace0, \\ub2e4\\uc591\\ud55c \\uc0ac\\ub78c\\ub4e4\\uacfc \\uc5f0\\uacb0\\ub418\\uc5b4 \\uae30\\ud68c\\ub97c \\ucc3e\\uc744 \\uc218 \\uc788\\ub294 \\uac83\\uc785\\ub2c8\\ub2e4. \\ub124\\ud2b8\\uc6cc\\ud0b9\\uc744 \\ud1b5\\ud574 \\ub2e4\\ub978 \\uc0ac\\ub78c\\ub4e4\\uc758 \\uacbd\\ud5d8\\uacfc \\ud1b5\\ucc30\\ub825\\uc744 \\uc5bb\\uc744 \\uc218 \\uc788\\uc73c\\uba70, \\uad00\\ub828 \\ubd84\\uc57c\\uc5d0\\uc11c \\uc77c\\ud558\\ub294 \\uc0ac\\ub78c\\ub4e4\\uacfc\\uc758 \\uad00\\uacc4\\ub97c \\uad6c\\ucd95\\ud560 \\uc218 \\uc788\\uc2b5\\ub2c8\\ub2e4. \\uc774\\ub294 \\ucde8\\uc5c5 \\uc900\\ube44\\uc640 \\uc9c4\\ub85c \\uac1c\\ubc1c\\uc5d0 \\ub3c4\\uc6c0\\uc774 \\ub420 \\uc218 \\uc788\\uc2b5\\ub2c8\\ub2e4.\"   \n",
       "3                                                                                                                                                                                                                                                                                                                                                                                                                                                                                                                                                                                                                                                                                                                                                                                                                                                                                                                                                                                                                                                                                                                                                                                                                                                                                                                                                                                                                                                                                                                                                                                                                                                                                                    \"\\uc131\\uacf5\\uc801\\uc778 \\uacbd\\ub825\\uc744 \\uc704\\ud574 \\uac1c\\ubc1c\\ud560 \\uc218 \\uc788\\ub294 \\uba87 \\uac00\\uc9c0 \\uc88b\\uc740 \\uc2b5\\uad00\\uc740 \\uc2dd\\uc0ac, \\uc6b4\\ub3d9, \\uc218\\uba74, \\uac1c\\uc778\\uc801\\uc778 \\uad00\\uacc4, \\uc5c5\\ubb34, \\ud559\\uc2b5 \\ubc0f \\uc790\\uae30 \\uad00\\ub9ac\\uc5d0 \\ub300\\ud55c \\uac83\\uc785\\ub2c8\\ub2e4. \\uc774\\ub7ec\\ud55c \\uc2b5\\uad00\\ub4e4\\uc740 \\uac74\\uac15\\uc744 \\uc720\\uc9c0\\ud558\\uba74\\uc11c \\uc804\\uc9c4\\ud558\\ub294 \\ub370 \\ub3c4\\uc6c0\\uc774 \\ub429\\ub2c8\\ub2e4.\"   \n",
       "4                                                                                                                                                                                                                                                                                                                                                                                                                                                                                                                                                                                                                                                                                                                                                                                                                                                                                                                                   \"\\ub2e4\\ub978 \\uc0ac\\ub78c\\ub4e4\\uc744 \\ub3d5\\ub294 \\uac83\\uc740 \\uc6b0\\ub9ac \\uc790\\uc2e0\\uc758 \\uc131\\uacf5\\uc5d0 \\ub3c4\\uc6c0\\uc774 \\ub420 \\uc218 \\uc788\\uc2b5\\ub2c8\\ub2e4. \\ub2e4\\ub978 \\uc0ac\\ub78c\\ub4e4\\uc744 \\ub3d5\\ub294 \\uac83\\uc740 \\uc6b0\\ub9ac\\uc758 \\uce5c\\ubc00\\ud55c \\uad00\\uacc4\\ub97c \\ud615\\uc131\\ud558\\uace0, \\uc6b0\\ub9ac\\uc758 \\uc2e0\\ub8b0\\ub97c \\uc5bb\\uc744 \\uc218 \\uc788\\uc73c\\uba70, \\uc6b0\\ub9ac\\uc758 \\ub124\\ud2b8\\uc6cc\\ud06c\\ub97c \\ud655\\uc7a5\\ud558\\ub294 \\ub370 \\ub3c4\\uc6c0\\uc774 \\ub420 \\uc218 \\uc788\\uc2b5\\ub2c8\\ub2e4. \\uc774\\ub7ec\\ud55c \\uad00\\uacc4\\uc640 \\ub124\\ud2b8\\uc6cc\\ud06c\\ub294 \\uc6b0\\ub9ac\\uc758 \\uc9c1\\uc5c5\\uc801\\uc778 \\uc131\\uc7a5\\uacfc \\uae30\\ud68c\\ub97c \\uc99d\\uac00\\uc2dc\\ud0ac \\uc218 \\uc788\\uc2b5\\ub2c8\\ub2e4. \\ub610\\ud55c, \\ub2e4\\ub978 \\uc0ac\\ub78c\\ub4e4\\uc744 \\ub3d5\\ub294 \\uac83\\uc740 \\uc6b0\\ub9ac\\uc758 \\uc790\\uc544 \\uc874\\uc911\\uac10\\uacfc \\ub9cc\\uc871\\uac10\\uc744 \\ub192\\uc77c \\uc218 \\uc788\\uc2b5\\ub2c8\\ub2e4. \\ub530\\ub77c\\uc11c, \\uc6b0\\ub9ac\\uc758 \\uacbd\\ub825\\uc744 \\ubc1c\\uc804\\uc2dc\\ud0a4\\ub294 \\ub3d9\\uc2dc\\uc5d0 \\ub2e4\\ub978 \\uc0ac\\ub78c\\ub4e4\\uc744 \\ub3d5\\ub294 \\uac83\\uc740 \\uc0c1\\ud638 \\uc774\\uc775\\uc801\\uc778 \\uad00\\uacc4\\ub97c \\ud615\\uc131\\ud560 \\uc218 \\uc788\\uc2b5\\ub2c8\\ub2e4.\"   \n",
       "5                                                                                                                                                                                                                                                                                                                                                                                                                                                                                                                                                                                                                                                                                                                                                                                                                                                                                                                                                                                                                                                                                                                                                                                                                                                                                                                                                                                                                                                                                                                                                                                        \"\\uc774\\uc0ac\\uae30\\uc99d\\ud2f0\\uc998\\uc740 \\uc790\\uc2e0\\uc774 \\uc0ac\\uae30\\uafbc\\uc774\\uba70 \\uc778\\uacf5\\uc9c0\\ub2a5 \\ucee4\\ubba4\\ub2c8\\ud2f0\\uc5d0 \\uc18d\\ud558\\uc9c0 \\uc54a\\uc744 \\uac83\\uc774\\ub77c\\ub294 \\uc758\\uc2ec\\uc744 \\uac00\\uc9c0\\ub294 \\uac83\\uc744 \\ub9d0\\ud569\\ub2c8\\ub2e4. \\uc774\\ub294 AI \\ubd84\\uc57c\\uc5d0\\uc11c \\uc131\\uacf5\\uc744 \\uac70\\ub454 \\uc0ac\\ub78c\\ub4e4\\uc5d0\\uac8c\\ub3c4 \\ubc1c\\uc0dd\\ud560 \\uc218 \\uc788\\uc2b5\\ub2c8\\ub2e4. \\uc774 \\uc99d\\ud6c4\\uad70\\uc740 AI\\uc5d0 \\ub300\\ud55c \\uc131\\uc7a5\\uc744 \\ubc29\\ud574\\ud558\\uc9c0 \\uc54a\\ub3c4\\ub85d \\uc8fc\\uc758\\ud574\\uc57c \\ud569\\ub2c8\\ub2e4.\"   \n",
       "6                                                                                                                                                                                                                                                                                                                                                                                                                                                                                                                                                                                                                                                                                                                                                                                                                                                                                                                                                                                                                                                                                                                                                                                                                                                                                                                                                                                                                                                                                                                                                                                                                                                                                                                            \"\\uc170\\ub9b4 \\uc0cc\\ub4dc\\ubc84\\uadf8, \\ubbf8\\uc178 \\uc624\\ubc14\\ub9c8, \\ud1b0 \\ud589\\ud06c\\uc2a4, \\ub9c8\\uc774\\ud06c \\uce90\\ub17c-\\ube0c\\ub8e9\\uc2a4\\ub294 \\uc77c\\ubd80 \\uc131\\uacf5\\ud55c \\uc0ac\\ub78c\\ub4e4 \\uc911 \\uc77c\\ubd80\\ub85c \\uc54c\\ub824\\uc9c4 \\uc0ac\\ub78c\\ub4e4\\uc785\\ub2c8\\ub2e4. \\uc774\\ub4e4\\uc740 \\ubaa8\\ub450 \\uc5b4\\ub5a4 \\ud615\\ud0dc\\uc758 \\uc0ac\\uae30 \\uc99d\\ud6c4\\uad70\\uc744 \\uacbd\\ud5d8\\ud55c \\uac83\\uc73c\\ub85c \\uc54c\\ub824\\uc838 \\uc788\\uc2b5\\ub2c8\\ub2e4.\"   \n",
       "7                                                                                                                                                                                                                                                                                                                                                                                                                                                                                                                                                                                                                                                                                                                                                                                                                                                                                                                                                                                                                                                                                                                                                                                                                                            \"AI\\uc5d0 \\ub2a5\\uc219\\ud574\\uc9c0\\uae30 \\uc704\\ud55c \\uccab \\ubc88\\uc9f8 \\ub2e8\\uacc4\\ub294 \\uac00\\ub2a5\\ud55c \\uc5ed\\ud560\\uc744 \\uc2dd\\ubcc4\\ud558\\uace0 \\uc815\\ubcf4\\ub97c \\uc5bb\\uae30 \\uc704\\ud574 \\uba87 \\uac00\\uc9c0 \\uc815\\ubcf4 \\uc778\\ud130\\ubdf0\\ub97c \\uc9c4\\ud589\\ud558\\ub294 \\uac83\\uc785\\ub2c8\\ub2e4. \\uc774\\ub7ec\\ud55c \\ub300\\ud654\\ub97c \\ud1b5\\ud574 \\uc2e0\\uccad\\ud558\\uae30\\uc5d0 \\uc55e\\uc11c \\ub354 \\ub9ce\\uc740 \\ud559\\uc2b5\\uc774 \\ud544\\uc694\\ud558\\ub2e4\\ub294 \\uac83\\uc744 \\uc54c\\uac8c \\ub41c\\ub2e4\\uba74, \\uadf8\\uac83\\uc740 \\uc88b\\uc740 \\uc77c\\uc785\\ub2c8\\ub2e4! \\uc801\\uc5b4\\ub3c4 \\ub2f9\\uc2e0\\uc740 \\uba85\\ud655\\ud55c \\uc804\\uc9c4 \\uacbd\\ub85c\\ub97c \\uac00\\uc9c0\\uac8c \\ub429\\ub2c8\\ub2e4. \\uc5b4\\ub5a4 \\uc5ec\\uc815\\uc774\\ub4e0 \\uccab \\ubc88\\uc9f8 \\ub2e8\\uacc4\\ub97c \\ub0b4\\ub51b\\ub294 \\uac83\\uc774 \\uac00\\uc7a5 \\uc911\\uc694\\ud558\\uba70, \\uadf8 \\ub2e8\\uacc4\\ub294 \\uc791\\uc740 \\uac83\\uc77c \\uc218 \\uc788\\uc2b5\\ub2c8\\ub2e4.\"   \n",
       "8   \"AI\\uc5d0\\uc11c \\uc77c\\ubc18\\uc801\\uc73c\\ub85c \\ubc1c\\uc0dd\\ud558\\ub294 \\uc77c\\ubd80 \\uacf5\\ud1b5\\uc801\\uc778 \\ub3c4\\uc804 \\uacfc\\uc81c\\ub294 \\ub2e4\\uc74c\\uacfc \\uac19\\uc2b5\\ub2c8\\ub2e4: \\n- \\uae30\\uc220\\uc774 \\uacc4\\uc18d \\ubc1c\\uc804\\ud558\\uace0 \\uc788\\uae30 \\ub54c\\ubb38\\uc5d0 \\ubcc0\\ud654\\ud558\\ub294 \\uae30\\uc220\\uc5d0 \\ub300\\ud55c \\ucd5c\\uc2e0 \\uc815\\ubcf4\\ub97c \\uc720\\uc9c0\\ud558\\ub294 \\uac83\\uc774 \\uc911\\uc694\\ud569\\ub2c8\\ub2e4.\\n- AI \\ud504\\ub85c\\uc81d\\ud2b8\\uc758 \\uacc4\\ud68d\\uc744 \\uc218\\ub9bd\\ud558\\ub294 \\uac83\\uc774 \\uc5b4\\ub824\\uc6b8 \\uc218 \\uc788\\uc2b5\\ub2c8\\ub2e4. \\ud2b9\\ud788, \\ubaa9\\ud45c \\uc815\\ud655\\ub3c4\\ub97c \\uc5bc\\ub9c8\\ub098 \\ube68\\ub9ac \\ub2ec\\uc131\\ud560 \\uc218 \\uc788\\ub294\\uc9c0 \\ubbf8\\ub9ac \\uc54c \\uc218 \\uc5c6\\ub294 \\uacbd\\uc6b0\\uc5d0\\ub294 \\ub354\\uc6b1 \\ub3c4\\uc804\\uc801\\uc77c \\uc218 \\uc788\\uc2b5\\ub2c8\\ub2e4.\\n- AI \\ud504\\ub85c\\uc81d\\ud2b8\\ub294 \\uc885\\uc885 AI \\uc804\\ubb38 \\uc9c0\\uc2dd\\uc774 \\ubd80\\uc871\\ud55c \\uc774\\ud574\\uad00\\uacc4\\uc790\\ub4e4\\uacfc\\uc758 \\ud611\\uc5c5\\uc744 \\ud544\\uc694\\ub85c \\ud569\\ub2c8\\ub2e4.\\n- AI \\ubd84\\uc57c\\uc5d0\\uc11c \\uc77c\\uc790\\ub9ac\\ub97c \\ucc3e\\ub294 \\uac83\\uc740 \\ub2e4\\ub978 \\ubd84\\uc57c\\uc640 \\uc720\\uc0ac\\ud560 \\uc218 \\uc788\\uc9c0\\ub9cc, \\uc911\\uc694\\ud55c \\ucc28\\uc774\\uc810\\ub3c4 \\uc788\\uc2b5\\ub2c8\\ub2e4. \\ub9ce\\uc740 \\ud68c\\uc0ac\\ub4e4\\uc774 \\uc5b4\\ub5a4 AI \\uae30\\uc220\\uc744 \\ud544\\uc694\\ub85c \\ud558\\ub294\\uc9c0, \\uadf8\\ub9ac\\uace0 \\uadf8\\ub7f0 \\uae30\\uc220\\uc744 \\uac00\\uc9c4 \\uc0ac\\ub78c\\uc744 \\uc5b4\\ub5bb\\uac8c \\uace0\\uc6a9\\ud574\\uc57c \\ud558\\ub294\\uc9c0 \\uc544\\uc9c1 \\uacb0\\uc815\\ud558\\uc9c0 \\ubabb\\ud558\\uace0 \\uc788\\uc2b5\\ub2c8\\ub2e4.\\n- AI \\ubd84\\uc57c\\uc5d0\\uc11c\\ub294 \\uc5b4\\ub824\\uc6b4 \\ub17c\\ubb38\\ub4e4\\uc774 \\ub9ce\\uc774 \\uc788\\uc744 \\uc218 \\uc788\\uc73c\\uba70, \\uae30\\uc220\\uc801\\uc778 \\ub3c4\\uc804\\uc5d0 \\uc9c1\\uba74\\ud560 \\uc218 \\uc788\\uc2b5\\ub2c8\\ub2e4. \\uadf8\\ub7ec\\ub098 \\uc774\\ub7ec\\ud55c \\ub3c4\\uc804\\ub4e4\\uc740 AI \\ubd84\\uc57c\\uc5d0\\uc11c \\uc77c\\ud558\\ub294 \\uc0ac\\ub78c\\ub4e4 \\ubaa8\\ub450\\uac00 \\uacaa\\ub294 \\uac83\\uc774\\uba70, \\uc774\\ub7ec\\ud55c \\ub3c4\\uc804\\uc744 \\uadf9\\ubcf5\\ud560 \\uc218 \\uc788\\uc2b5\\ub2c8\\ub2e4.\"   \n",
       "9                                                                                                                                                                                                                                                                                                                                                                                                                                                                                                                                                                                                                                                                                                                                                                                                                                                                                                                                                                                                                                                                                                                                                                                                                                                                                                                                                                                                                                                                                                                                                                               \"AI\\uc758 \\uc77c\\ubd80\\ubd84\\uc744 \\uc5b4\\ub824\\uc6c0\\uc73c\\ub85c \\ub290\\ub07c\\ub294 \\uac83\\uc740 \\uc815\\uc0c1\\uc801\\uc785\\ub2c8\\ub2e4. \\ubaa8\\ub450\\uac00 \\uadf8\\ub7f0 \\uacbd\\ud5d8\\uc744 \\ud55c \\uc801\\uc774 \\uc788\\uc2b5\\ub2c8\\ub2e4. \\uc138\\uacc4\\uc801\\uc73c\\ub85c \\uc720\\uba85\\ud55c AI \\ub17c\\ubb38\\uc744 \\ubc1c\\ud45c\\ud55c \\uc0ac\\ub78c\\ub4e4\\uc870\\ucc28\\ub3c4 \\uae30\\uc220\\uc801\\uc778 \\uc5b4\\ub824\\uc6c0\\uc5d0 \\uc9c1\\uba74\\ud588\\uc744 \\uac83\\uc785\\ub2c8\\ub2e4. AI \\ucee4\\ubba4\\ub2c8\\ud2f0\\uc5d0 \\ucc38\\uc5ec\\ud558\\uace0 \\uc2f6\\ub2e4\\uba74, \\ub204\\uad6c\\ub4e0\\uc9c0 \\ud658\\uc601\\ubc1b\\uc744 \\uac83\\uc785\\ub2c8\\ub2e4.\"   \n",
       "10                                                                                                                                                                                                                                                                                                                                                                                                                                                                                                                                                                                                                                                                                                                                                                                                                                                                                                                                                                                                                                                                                                                                                                                                                                                                                                                                                                                                                                   \"To be successful in AI, it is important to have a basic understanding of calculus, as it can be helpful in certain tasks. However, it is worth noting that with improved automatic differentiation software, it is now possible to invent and implement new neural network architectures without needing to do any calculus. Additionally, it is crucial to continuously learn and deepen your technical knowledge in AI. This can involve mastering various machine learning techniques and metrics, as well as gaining expertise in specific application areas such as natural language processing or computer vision. Developing skills in technology areas like probabilistic graphical models or building scalable software systems can also be beneficial for success in AI.\"   \n",
       "\n",
       "    Groundedness  Context Relevance  Answer Relevance  \n",
       "0       1.000000                0.4               1.0  \n",
       "1       1.000000                0.4               0.8  \n",
       "2       0.600000                0.3               0.8  \n",
       "3       1.000000                0.5               1.0  \n",
       "4       0.200000                0.6               0.9  \n",
       "5       0.933333                0.8               0.8  \n",
       "6       0.500000                0.9               0.8  \n",
       "7       1.000000                0.3               0.8  \n",
       "8            NaN                0.6               0.9  \n",
       "9            NaN                NaN               1.0  \n",
       "10           NaN                NaN               NaN  "
      ]
     },
     "execution_count": 24,
     "metadata": {},
     "output_type": "execute_result"
    }
   ],
   "source": [
    "import pandas as pd\n",
    "\n",
    "pd.set_option(\"display.max_colwidth\", None)\n",
    "records[[\"input\", \"output\"] + feedback]"
   ]
  },
  {
   "cell_type": "code",
   "execution_count": 27,
   "id": "166468c7",
   "metadata": {
    "height": 30
   },
   "outputs": [
    {
     "data": {
      "text/html": [
       "<div>\n",
       "<style scoped>\n",
       "    .dataframe tbody tr th:only-of-type {\n",
       "        vertical-align: middle;\n",
       "    }\n",
       "\n",
       "    .dataframe tbody tr th {\n",
       "        vertical-align: top;\n",
       "    }\n",
       "\n",
       "    .dataframe thead th {\n",
       "        text-align: right;\n",
       "    }\n",
       "</style>\n",
       "<table border=\"1\" class=\"dataframe\">\n",
       "  <thead>\n",
       "    <tr style=\"text-align: right;\">\n",
       "      <th></th>\n",
       "      <th>Groundedness</th>\n",
       "      <th>Context Relevance</th>\n",
       "      <th>Answer Relevance</th>\n",
       "      <th>latency</th>\n",
       "      <th>total_cost</th>\n",
       "    </tr>\n",
       "    <tr>\n",
       "      <th>app_id</th>\n",
       "      <th></th>\n",
       "      <th></th>\n",
       "      <th></th>\n",
       "      <th></th>\n",
       "      <th></th>\n",
       "    </tr>\n",
       "  </thead>\n",
       "  <tbody>\n",
       "    <tr>\n",
       "      <th>App_1</th>\n",
       "      <td>0.839394</td>\n",
       "      <td>0.554545</td>\n",
       "      <td>0.881818</td>\n",
       "      <td>12.545455</td>\n",
       "      <td>0.0</td>\n",
       "    </tr>\n",
       "  </tbody>\n",
       "</table>\n",
       "</div>"
      ],
      "text/plain": [
       "        Groundedness  Context Relevance  Answer Relevance    latency  \\\n",
       "app_id                                                                 \n",
       "App_1       0.839394           0.554545          0.881818  12.545455   \n",
       "\n",
       "        total_cost  \n",
       "app_id              \n",
       "App_1          0.0  "
      ]
     },
     "execution_count": 27,
     "metadata": {},
     "output_type": "execute_result"
    }
   ],
   "source": [
    "tru.get_leaderboard(app_ids=[])"
   ]
  },
  {
   "cell_type": "code",
   "execution_count": 28,
   "id": "1f2848ad",
   "metadata": {
    "height": 30,
    "id": "6Yp4_e4faZVD"
   },
   "outputs": [
    {
     "name": "stdout",
     "output_type": "stream",
     "text": [
      "Starting dashboard ...\n",
      "Config file already exists. Skipping writing process.\n",
      "Credentials file already exists. Skipping writing process.\n",
      "Dashboard already running at path:   Network URL: http://10.10.1.8:8501\n",
      "\n"
     ]
    },
    {
     "data": {
      "text/plain": [
       "<Popen: returncode: None args: ['streamlit', 'run', '--server.headless=True'...>"
      ]
     },
     "execution_count": 28,
     "metadata": {},
     "output_type": "execute_result"
    }
   ],
   "source": [
    "tru.run_dashboard()"
   ]
  },
  {
   "cell_type": "code",
   "execution_count": null,
   "id": "e447f606",
   "metadata": {},
   "outputs": [],
   "source": []
  }
 ],
 "metadata": {
  "kernelspec": {
   "display_name": "Python 3 (ipykernel)",
   "language": "python",
   "name": "python3"
  },
  "language_info": {
   "codemirror_mode": {
    "name": "ipython",
    "version": 3
   },
   "file_extension": ".py",
   "mimetype": "text/x-python",
   "name": "python",
   "nbconvert_exporter": "python",
   "pygments_lexer": "ipython3",
   "version": "3.11.5"
  }
 },
 "nbformat": 4,
 "nbformat_minor": 5
}
